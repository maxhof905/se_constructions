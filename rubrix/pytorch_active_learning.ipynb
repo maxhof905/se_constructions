{
 "cells": [
  {
   "cell_type": "markdown",
   "source": [
    "notes:\n",
    "- important todos noted with ###todo\n",
    "\n",
    "\n",
    "sources :\n",
    "- https://towardsdatascience.com/pytorch-tabular-multiclass-classification-9f8211a123ab\n",
    "- deeplearningwizard for model architecture"
   ],
   "metadata": {
    "collapsed": false
   }
  },
  {
   "cell_type": "code",
   "execution_count": 1,
   "metadata": {},
   "outputs": [
    {
     "data": {
      "text/plain": "'/Users/Maxine/Desktop/se_corpus/rubrix'"
     },
     "execution_count": 1,
     "metadata": {},
     "output_type": "execute_result"
    }
   ],
   "source": [
    "%pwd"
   ]
  },
  {
   "cell_type": "code",
   "execution_count": 2,
   "outputs": [
    {
     "name": "stdout",
     "output_type": "stream",
     "text": [
      "Requirement already satisfied: skorch in /Users/Maxine/Desktop/se_corpus/venv/lib/python3.8/site-packages (0.11.0)\r\n",
      "Requirement already satisfied: tqdm>=4.14.0 in /Library/Frameworks/Python.framework/Versions/3.8/lib/python3.8/site-packages (from skorch) (4.63.0)\r\n",
      "Requirement already satisfied: scipy>=1.1.0 in /Library/Frameworks/Python.framework/Versions/3.8/lib/python3.8/site-packages (from skorch) (1.8.0)\r\n",
      "Requirement already satisfied: scikit-learn>=0.19.1 in /Library/Frameworks/Python.framework/Versions/3.8/lib/python3.8/site-packages (from skorch) (1.0.2)\r\n",
      "Requirement already satisfied: tabulate>=0.7.7 in /Users/Maxine/Desktop/se_corpus/venv/lib/python3.8/site-packages (from skorch) (0.8.9)\r\n",
      "Requirement already satisfied: numpy>=1.13.3 in /Library/Frameworks/Python.framework/Versions/3.8/lib/python3.8/site-packages (from skorch) (1.19.3)\r\n",
      "Requirement already satisfied: threadpoolctl>=2.0.0 in /Library/Frameworks/Python.framework/Versions/3.8/lib/python3.8/site-packages (from scikit-learn>=0.19.1->skorch) (3.1.0)\r\n",
      "Requirement already satisfied: joblib>=0.11 in /Library/Frameworks/Python.framework/Versions/3.8/lib/python3.8/site-packages (from scikit-learn>=0.19.1->skorch) (0.16.0)\r\n",
      "Requirement already satisfied: modal in /Library/Frameworks/Python.framework/Versions/3.8/lib/python3.8/site-packages (0.4.1)\r\n",
      "Requirement already satisfied: pandas>=1.1.0 in /Library/Frameworks/Python.framework/Versions/3.8/lib/python3.8/site-packages (from modal) (1.2.4)\r\n",
      "Requirement already satisfied: scipy>=0.18 in /Library/Frameworks/Python.framework/Versions/3.8/lib/python3.8/site-packages (from modal) (1.8.0)\r\n",
      "Requirement already satisfied: numpy>=1.13 in /Library/Frameworks/Python.framework/Versions/3.8/lib/python3.8/site-packages (from modal) (1.19.3)\r\n",
      "Requirement already satisfied: scikit-learn>=0.18 in /Library/Frameworks/Python.framework/Versions/3.8/lib/python3.8/site-packages (from modal) (1.0.2)\r\n",
      "Requirement already satisfied: pytz>=2017.3 in /Library/Frameworks/Python.framework/Versions/3.8/lib/python3.8/site-packages (from pandas>=1.1.0->modal) (2020.5)\r\n",
      "Requirement already satisfied: python-dateutil>=2.7.3 in /Library/Frameworks/Python.framework/Versions/3.8/lib/python3.8/site-packages (from pandas>=1.1.0->modal) (2.8.1)\r\n",
      "Requirement already satisfied: threadpoolctl>=2.0.0 in /Library/Frameworks/Python.framework/Versions/3.8/lib/python3.8/site-packages (from scikit-learn>=0.18->modal) (3.1.0)\r\n",
      "Requirement already satisfied: joblib>=0.11 in /Library/Frameworks/Python.framework/Versions/3.8/lib/python3.8/site-packages (from scikit-learn>=0.18->modal) (0.16.0)\r\n",
      "Requirement already satisfied: six>=1.5 in /Library/Frameworks/Python.framework/Versions/3.8/lib/python3.8/site-packages (from python-dateutil>=2.7.3->pandas>=1.1.0->modal) (1.15.0)\r\n"
     ]
    }
   ],
   "source": [
    "# installations for colab\n",
    "!pip install skorch\n",
    "!pip install modal"
   ],
   "metadata": {
    "collapsed": false,
    "pycharm": {
     "name": "#%%\n"
    }
   }
  },
  {
   "cell_type": "code",
   "execution_count": 125,
   "outputs": [],
   "source": [
    "\n",
    "import numpy as np\n",
    "import pandas as pd\n",
    "import seaborn as sns\n",
    "import matplotlib.pyplot as plt\n",
    "\n",
    "from sklearn.model_selection import train_test_split\n",
    "from sklearn.feature_extraction.text import CountVectorizer\n",
    "from sklearn import preprocessing\n",
    "\n",
    "import torch\n",
    "from torch import nn\n",
    "from torch.utils.data import Dataset, DataLoader\n",
    "from torch.utils.data import WeightedRandomSampler\n",
    "\n",
    "from skorch import NeuralNetClassifier\n",
    "from skorch.callbacks import EpochScoring\n",
    "\n",
    "import webbrowser\n",
    "import rubrix as rb\n",
    "from modAL.models import ActiveLearner"
   ],
   "metadata": {
    "collapsed": false,
    "pycharm": {
     "name": "#%%\n"
    }
   }
  },
  {
   "cell_type": "markdown",
   "source": [
    "## Data"
   ],
   "metadata": {
    "collapsed": false
   }
  },
  {
   "cell_type": "code",
   "execution_count": 41,
   "outputs": [],
   "source": [
    "\"\"\"\n",
    "load data: specify path\n",
    "\"\"\"\n",
    "\n",
    "# 1) (index), text, label\n",
    "initial_train = pd.read_csv('/Users/Maxine/Desktop/se_corpus/ud/es_data/es_ancora-ud-train.txt', sep='\\t', names=['text', 'tokenized_text', 'se_label']) # macbook\n",
    "# initial_train = pd.read_csv('/Users/maxine/Documents/GitHub/se_corpus/ud/es_data/es_ancora-ud-train.txt', sep='\\t', names=['text', 'tokenized_text', 'se_label']) #imac\n",
    "# initial_train = pd.read_csv('/content/drive/MyDrive/Colab Notebooks/master/es_ancora-ud-train.txt', sep='\\t', names=['text', 'tokenized_text', 'se_label']) # colab\n",
    "initial_train.drop(columns=['text'], inplace = True)\n",
    "\n",
    "dev = pd.read_csv('/Users/Maxine/Desktop/se_corpus/ud/es_data/es_ancora-ud-dev.txt', sep='\\t',names=['text', 'tokenized_text', 'se_label']) # macbook\n",
    "# dev = pd.read_csv('/Users/maxine/Documents/GitHub/se_corpus/ud/es_data/es_ancora-ud-dev.txt', sep='\\t',names=['text', 'tokenized_text', 'se_label']) # imac\n",
    "# dev = pd.read_csv('/content/drive/MyDrive/Colab Notebooks/master/es_ancora-ud-dev.txt', sep='\\t', names=['text', 'tokenized_text', 'se_label']) # colab\n",
    "dev.drop(columns=['text'], inplace = True)\n",
    "\n",
    "test = pd.read_csv('/Users/Maxine/Desktop/se_corpus/ud/es_data/es_ancora-ud-test.txt', sep='\\t',names=['text', 'tokenized_text', 'se_label']) # macbook\n",
    "# test = pd.read_csv('/Users/maxine/Documents/GitHub/se_corpus/ud/es_data/es_ancora-ud-test.txt', sep='\\t',names=['text', 'tokenized_text', 'se_label']) # imac\n",
    "# test = pd.read_csv('/content/drive/MyDrive/Colab Notebooks/master/es_ancora-ud-test.txt', sep='\\t', names=['text', 'tokenized_text', 'se_label']) # colab\n",
    "test.drop(columns=['text'], inplace = True)\n",
    "\n",
    "# by fileting out 'se'-sentences the data split of the initial ud corpus isn't accurate anymore\n",
    "se_corpus = pd.concat([initial_train, dev, test])\n",
    "\n",
    "pool = pd.read_csv('/Users/Maxine/Desktop/se_corpus/corpusdata_org/sp_text_se_corpus.txt', names=['text'], sep='\\t') # 1 col data containing comma values # macbook\n",
    "# pool = pd.read_csv('/Users/maxine/Documents/GitHub/se_corpus/corpusdata_org/sp_text_se_corpus.txt', names=['text'], sep='\\t') # 1 col data containing comma values # imac\n",
    "# pool = pd.read_csv('/content/drive/MyDrive/Colab Notebooks/master/sp_text_se_corpus.txt', names=['text'], sep='\\t')\n",
    "\n",
    "# Note: for some reason jupyter cannot find the relative path"
   ],
   "metadata": {
    "collapsed": false,
    "pycharm": {
     "name": "#%%\n"
    }
   }
  },
  {
   "cell_type": "code",
   "execution_count": 42,
   "outputs": [
    {
     "data": {
      "text/plain": "(4248, 2)"
     },
     "execution_count": 42,
     "metadata": {},
     "output_type": "execute_result"
    }
   ],
   "source": [
    "se_corpus = se_corpus.drop(se_corpus[(se_corpus['se_label'] == 'flat')].index)\n",
    "se_corpus = se_corpus.drop(se_corpus[(se_corpus['se_label'] == 'fixed')].index)\n",
    "se_corpus.shape"
   ],
   "metadata": {
    "collapsed": false,
    "pycharm": {
     "name": "#%%\n"
    }
   }
  },
  {
   "cell_type": "code",
   "execution_count": 43,
   "outputs": [],
   "source": [
    "\"\"\"\n",
    "data split\n",
    "\"\"\"\n",
    "X = se_corpus.tokenized_text\n",
    "y = se_corpus.se_label\n",
    "\n",
    "# Split into train+val and test\n",
    "X, X_test, y, y_test = train_test_split(X, y, test_size=0.2, stratify=y, random_state=69)\n",
    "\n",
    "# Split train into train and val\n",
    "X_train, X_dev, y_train, y_dev = train_test_split(X, y, test_size=0.1, stratify=y, random_state=21)"
   ],
   "metadata": {
    "collapsed": false,
    "pycharm": {
     "name": "#%%\n"
    }
   }
  },
  {
   "cell_type": "code",
   "execution_count": 44,
   "outputs": [],
   "source": [
    "\"\"\"\n",
    "check label distribution in splits\n",
    "\"\"\"\n",
    "def get_class_dist(y_set):\n",
    "    data = y_set.value_counts(normalize=True).rename('percentage').mul(100).reset_index().rename(columns = {\"index\":\"label\"})\n",
    "    plot = sns.barplot(x=\"label\", y=\"percentage\", data=data)\n",
    "    plot.set_xticklabels(plot.get_xticklabels(),\n",
    "                          rotation=90,\n",
    "                          horizontalalignment='right')\n"
   ],
   "metadata": {
    "collapsed": false,
    "pycharm": {
     "name": "#%%\n"
    }
   }
  },
  {
   "cell_type": "code",
   "execution_count": 45,
   "outputs": [],
   "source": [
    "\"\"\"\n",
    "store value counts for making weighted data sets\n",
    "\"\"\"\n",
    "y_train_counter = dict(y_train.value_counts())"
   ],
   "metadata": {
    "collapsed": false,
    "pycharm": {
     "name": "#%%\n"
    }
   }
  },
  {
   "cell_type": "code",
   "execution_count": 46,
   "outputs": [
    {
     "data": {
      "text/plain": "<Figure size 432x288 with 1 Axes>",
      "image/png": "[encoded data removed]"
     },
     "metadata": {
      "needs_background": "light"
     },
     "output_type": "display_data"
    }
   ],
   "source": [
    "get_class_dist(y_train)"
   ],
   "metadata": {
    "collapsed": false,
    "pycharm": {
     "name": "#%%\n"
    }
   }
  },
  {
   "cell_type": "code",
   "execution_count": 47,
   "outputs": [
    {
     "data": {
      "text/plain": "'\\neventually implement fasttext word embeddings instead of CountVectorizer()\\n'"
     },
     "execution_count": 47,
     "metadata": {},
     "output_type": "execute_result"
    }
   ],
   "source": [
    "\"\"\"\n",
    "eventually implement fasttext word embeddings instead of CountVectorizer()\n",
    "\"\"\"\n",
    "# import fasttext.util\n",
    "# fasttext.util.download_model('en', if_exists='ignore')  # todo change to es\n",
    "# ft = fasttext.load_model('cc.en.300.bin') # rename model"
   ],
   "metadata": {
    "collapsed": false,
    "pycharm": {
     "name": "#%%\n"
    }
   }
  },
  {
   "cell_type": "code",
   "execution_count": 48,
   "outputs": [],
   "source": [
    "label_encoder = preprocessing.LabelEncoder()\n",
    "vectorizer = CountVectorizer()\n",
    "\n",
    "X_train = vectorizer.fit_transform(X_train).toarray()\n",
    "X_dev = vectorizer.transform(X_dev).toarray()\n",
    "X_test = vectorizer.transform(X_test).toarray()\n",
    "\n",
    "pool_vectorized = vectorizer.transform(pool.text).toarray()\n",
    "\n",
    "y_train = label_encoder.fit_transform(y_train)\n",
    "y_dev = label_encoder.transform(y_dev)\n",
    "y_test = label_encoder.transform(y_test)\n"
   ],
   "metadata": {
    "collapsed": false,
    "pycharm": {
     "name": "#%%\n"
    }
   }
  },
  {
   "cell_type": "code",
   "execution_count": 49,
   "outputs": [],
   "source": [
    "class ClassifierDataset(Dataset):\n",
    "    def __init__(self, X_data, y_data):\n",
    "        self.X_data = X_data\n",
    "        self.y_data = y_data\n",
    "\n",
    "    def __getitem__(self, index):\n",
    "        return self.X_data[index], self.y_data[index]\n",
    "\n",
    "    def __len__(self):\n",
    "        return len(self.X_data)\n"
   ],
   "metadata": {
    "collapsed": false,
    "pycharm": {
     "name": "#%%\n"
    }
   }
  },
  {
   "cell_type": "code",
   "execution_count": 50,
   "outputs": [],
   "source": [
    "class PoolDataset(Dataset):\n",
    "    def __init__(self, X_data):\n",
    "        self.X_data = X_data\n",
    "\n",
    "    def __getitem__(self, index):\n",
    "        return self.X_data[index]\n",
    "\n",
    "    def __len__(self):\n",
    "        return len(self.X_data)"
   ],
   "metadata": {
    "collapsed": false,
    "pycharm": {
     "name": "#%%\n"
    }
   }
  },
  {
   "cell_type": "code",
   "execution_count": 53,
   "outputs": [],
   "source": [
    "train_set = ClassifierDataset(torch.from_numpy(X_train).float(), torch.from_numpy(y_train).long())\n",
    "dev_set = ClassifierDataset(torch.from_numpy(X_dev).float(), torch.from_numpy(y_dev).long())\n",
    "test_set = ClassifierDataset(torch.from_numpy(X_test).float(), torch.from_numpy(y_test).long())\n",
    "\n",
    "pool_set = PoolDataset(torch.from_numpy(pool_vectorized).float())"
   ],
   "metadata": {
    "collapsed": false,
    "pycharm": {
     "name": "#%%\n"
    }
   }
  },
  {
   "cell_type": "code",
   "execution_count": 54,
   "outputs": [
    {
     "name": "stdout",
     "output_type": "stream",
     "text": [
      "label distribution:  dict_items([('expl:pv', 1502), ('expl:pass', 1032), ('obj', 232), ('expl:impers', 157), ('iobj', 135)]) \n",
      "assigned weights:  tensor([0.0007, 0.0010, 0.0043, 0.0064, 0.0074])\n"
     ]
    }
   ],
   "source": [
    "\"\"\"\n",
    "assign bigger weight to less frequent labels\n",
    "\"\"\"\n",
    "target_list = torch.tensor([target for _, target in train_set])\n",
    "class_count = [label for label in y_train_counter.values()]\n",
    "class_weight = 1./torch.tensor(class_count, dtype=torch.float)\n",
    "print('label distribution: ', y_train_counter.items(), '\\nassigned weights: ', class_weight)"
   ],
   "metadata": {
    "collapsed": false,
    "pycharm": {
     "name": "#%%\n"
    }
   }
  },
  {
   "cell_type": "code",
   "execution_count": 55,
   "outputs": [],
   "source": [
    "\"\"\"\n",
    "assign weight to each sample in the train set\n",
    "\"\"\"\n",
    "class_weight_all = class_weight[target_list]\n",
    "weighted_sampler = WeightedRandomSampler(weights=class_weight_all, num_samples=len(class_weight_all), replacement=True)"
   ],
   "metadata": {
    "collapsed": false,
    "pycharm": {
     "name": "#%%\n"
    }
   }
  },
  {
   "cell_type": "code",
   "execution_count": 56,
   "outputs": [],
   "source": [
    "train_loader = DataLoader(dataset=train_set, batch_size=64, sampler=weighted_sampler)\n",
    "dev_loader = DataLoader(dataset=dev_set, batch_size=32)\n",
    "test_loader = DataLoader(dataset=test_set, batch_size=32)"
   ],
   "metadata": {
    "collapsed": false,
    "pycharm": {
     "name": "#%%\n"
    }
   }
  },
  {
   "cell_type": "code",
   "execution_count": null,
   "metadata": {
    "collapsed": true,
    "pycharm": {
     "is_executing": true
    }
   },
   "outputs": [],
   "source": [
    "# \"\"\"\n",
    "# Data wrangling\n",
    "# 1. Reading data from torchvision\n",
    "# 2. Assembling initial training data for ActiveLearner\n",
    "# 3. Generating the pool\n",
    "# \"\"\"\n",
    "#\n",
    "# dataloader = DataLoader(se_corpus, shuffle=True, batch_size=60000)\n",
    "# X, y = next(iter(dataloader))\n",
    "# X = X.detach().cpu().numpy() # TF not recognized by learner\n",
    "# y = y.detach().cpu().numpy()\n",
    "#\n",
    "# # read training data\n",
    "# X_train, X_test, y_train, y_test = X[:50000], X[50000:], y[:50000], y[50000:]\n",
    "# X_train = X_train.reshape(50000, 1, 28, 28)\n",
    "# X_test = X_test.reshape(10000, 1, 28, 28)\n",
    "#\n",
    "# # assemble initial data\n",
    "# n_initial = 1000\n",
    "# initial_idx = np.random.choice(range(len(X_train)), size=n_initial, replace=False)\n",
    "# X_initial = X_train[initial_idx]\n",
    "# y_initial = y_train[initial_idx]\n",
    "#\n",
    "# # generate the pool\n",
    "# # remove the initial data from the training dataset\n",
    "# X_pool = np.delete(X_train, initial_idx, axis=0)\n",
    "# y_pool = np.delete(y_train, initial_idx, axis=0)"
   ]
  },
  {
   "cell_type": "markdown",
   "source": [
    "## Model"
   ],
   "metadata": {
    "collapsed": false
   }
  },
  {
   "cell_type": "code",
   "execution_count": 57,
   "outputs": [],
   "source": [
    "class LSTMModel(nn.Module):\n",
    "    def __init__(self,):\n",
    "        super(LSTMModel, self).__init__()\n",
    "        # Hidden dimensions\n",
    "        self.hidden_dim = 64\n",
    "\n",
    "        # Number of hidden layers\n",
    "        self.layer_dim = 1\n",
    "\n",
    "        # Building your LSTM\n",
    "        # batch_first=True causes input/output tensors to be of shape\n",
    "        # (batch_dim, seq_dim, feature_dim)\n",
    "        self.lstm = nn.LSTM(16325, 64, 1, batch_first=True)\n",
    "\n",
    "        # Readout layer\n",
    "        self.fc = nn.Linear(64, 5)\n",
    "\n",
    "    def forward(self, x):\n",
    "        # Initialize hidden state with zeros\n",
    "        #######################\n",
    "        #  USE GPU FOR MODEL  #\n",
    "        #######################\n",
    "        h0 = torch.zeros(self.layer_dim, x.size(0), self.hidden_dim).requires_grad_().to(device)\n",
    "\n",
    "        # Initialize cell state\n",
    "        c0 = torch.zeros(self.layer_dim, x.size(0), self.hidden_dim).requires_grad_().to(device)\n",
    "\n",
    "        # One time step\n",
    "        out, (hn, cn) = self.lstm(x, (h0.detach(), c0.detach()))\n",
    "\n",
    "        # Index hidden state of last time step\n",
    "        # out.size() --> 100, 28, 100\n",
    "        # out[:, -1, :] --> 100, 100 --> just want last time step hidden states!\n",
    "        out = self.fc(out[:, -1, :])\n",
    "        # out.size() --> 100, 10\n",
    "        return out"
   ],
   "metadata": {
    "collapsed": false,
    "pycharm": {
     "name": "#%%\n"
    }
   }
  },
  {
   "cell_type": "code",
   "execution_count": 113,
   "outputs": [],
   "source": [
    "# build class for the skorch API\n",
    "# class Torch_Model(nn.Module):\n",
    "#     def __init__(self,):\n",
    "#         super(Torch_Model, self).__init__()\n",
    "#         self.convs = nn.Sequential(\n",
    "#                                 nn.Conv2d(1,32,3),\n",
    "#                                 nn.ReLU(),\n",
    "#                                 nn.Conv2d(32,64,3),\n",
    "#                                 nn.ReLU(),\n",
    "#                                 nn.MaxPool2d(2),\n",
    "#                                 nn.Dropout(0.25)\n",
    "#         )\n",
    "#         self.fcs = nn.Sequential(\n",
    "#                                 nn.Linear(12*12*64,128),\n",
    "#                                 nn.ReLU(),\n",
    "#                                 nn.Dropout(0.5),\n",
    "#                                 nn.Linear(128,10),\n",
    "#         )\n",
    "#\n",
    "#     def forward(self, x):\n",
    "#         out = x\n",
    "#         out = self.convs(out)\n",
    "#         out = out.view(-1,12*12*64)\n",
    "#         out = self.fcs(out)\n",
    "#         return out"
   ],
   "metadata": {
    "collapsed": false,
    "pycharm": {
     "name": "#%%\n"
    }
   }
  },
  {
   "cell_type": "code",
   "execution_count": null,
   "outputs": [],
   "source": [
    "### todo: https://github.com/skorch-dev/skorch/issues/499\n",
    "### add accuracy callback"
   ],
   "metadata": {
    "collapsed": false,
    "pycharm": {
     "name": "#%%\n"
    }
   }
  },
  {
   "cell_type": "code",
   "execution_count": 58,
   "outputs": [
    {
     "name": "stdout",
     "output_type": "stream",
     "text": [
      "using:  cpu\n"
     ]
    }
   ],
   "source": [
    "\"\"\"\n",
    "skorch library creates sklearn classifier from torch neural net\n",
    "\"\"\"\n",
    "batch_size = 64\n",
    "n_iters = 1000 ### todo gpu\n",
    "epochs = int(n_iters/(len(train_set)/ batch_size))\n",
    "\n",
    "# create the classifier\n",
    "device = \"cuda\" if torch.cuda.is_available() else \"cpu\"\n",
    "print('using: ', device)\n",
    "\n",
    "# Callbacks: print accuracy when model is fitted\n",
    "train_acc = EpochScoring(scoring='accuracy', on_train=True,\n",
    "                         name='train_acc', lower_is_better=False)\n",
    "callbacks = [train_acc]\n",
    "\n",
    "classifier = NeuralNetClassifier(module=LSTMModel,\n",
    "                                 batch_size=64,\n",
    "                                 max_epochs= epochs,\n",
    "                                 criterion=nn.CrossEntropyLoss,\n",
    "                                 optimizer=torch.optim.SGD,\n",
    "                                 lr=0.1,\n",
    "                                 train_split=None,\n",
    "                                 callbacks=callbacks,\n",
    "                                 verbose=1,\n",
    "                                 device=device)"
   ],
   "metadata": {
    "collapsed": false,
    "pycharm": {
     "name": "#%%\n"
    }
   }
  },
  {
   "cell_type": "code",
   "execution_count": 59,
   "outputs": [
    {
     "name": "stdout",
     "output_type": "stream",
     "text": [
      "Feature batch shape: torch.Size([64, 16325])\n",
      "Labels batch shape: torch.Size([64])\n"
     ]
    }
   ],
   "source": [
    "\"\"\"\n",
    "LSTM need 3-D input: determine shape and reshape\n",
    "- train\n",
    "- pool\n",
    "\"\"\"\n",
    "train_features, train_labels = next(iter(train_loader))\n",
    "print(f\"Feature batch shape: {train_features.size()}\")\n",
    "print(f\"Labels batch shape: {train_labels.size()}\")"
   ],
   "metadata": {
    "collapsed": false,
    "pycharm": {
     "name": "#%%\n"
    }
   }
  },
  {
   "cell_type": "code",
   "execution_count": 60,
   "outputs": [
    {
     "name": "stdout",
     "output_type": "stream",
     "text": [
      "Feature batch shape: torch.Size([64, 1, 16325])\n"
     ]
    }
   ],
   "source": [
    "#reshaping to rows, timestamps, features\n",
    "train_features = torch.reshape(train_features,   (train_features.shape[0], 1,train_features.shape[1]))\n",
    "print(f\"Feature batch shape: {train_features.size()}\")"
   ],
   "metadata": {
    "collapsed": false,
    "pycharm": {
     "name": "#%%\n"
    }
   }
  },
  {
   "cell_type": "code",
   "execution_count": 118,
   "outputs": [
    {
     "name": "stdout",
     "output_type": "stream",
     "text": [
      "Feature batch shape: torch.Size([32, 1, 16325])\n"
     ]
    }
   ],
   "source": [
    "# do the same for the test data which is going to be used in the active learning loop\n",
    "test_features, test_labels = next(iter(test_loader))\n",
    "test_features = torch.reshape(test_features,   (test_features.shape[0], 1,test_features.shape[1]))"
   ],
   "metadata": {
    "collapsed": false,
    "pycharm": {
     "name": "#%%\n"
    }
   }
  },
  {
   "cell_type": "code",
   "execution_count": 61,
   "outputs": [
    {
     "name": "stdout",
     "output_type": "stream",
     "text": [
      "Feature batch shape: torch.Size([12579, 1, 16325])\n"
     ]
    }
   ],
   "source": [
    "# do the same for the data pool which is going to be used in the active learning loop\n",
    "X_pool = pool_set.X_data\n",
    "X_pool = torch.reshape(X_pool,   (X_pool.shape[0], 1, X_pool.shape[1]))\n",
    "X_pool = X_pool.detach().cpu().numpy()"
   ],
   "metadata": {
    "collapsed": false,
    "pycharm": {
     "name": "#%%\n"
    }
   }
  },
  {
   "cell_type": "code",
   "execution_count": 63,
   "outputs": [
    {
     "name": "stdout",
     "output_type": "stream",
     "text": [
      "  epoch    train_loss     dur\n",
      "-------  ------------  ------\n",
      "      1        \u001B[36m1.6747\u001B[0m  0.0414\n",
      "      2        \u001B[36m1.6695\u001B[0m  0.0377\n",
      "      3        \u001B[36m1.6644\u001B[0m  0.0292\n",
      "      4        \u001B[36m1.6592\u001B[0m  0.0283\n",
      "      5        \u001B[36m1.6542\u001B[0m  0.0275\n",
      "      6        \u001B[36m1.6491\u001B[0m  0.0307\n",
      "      7        \u001B[36m1.6441\u001B[0m  0.0311\n",
      "      8        \u001B[36m1.6392\u001B[0m  0.0288\n",
      "      9        \u001B[36m1.6342\u001B[0m  0.0301\n",
      "     10        \u001B[36m1.6294\u001B[0m  0.0278\n",
      "     11        \u001B[36m1.6245\u001B[0m  0.0314\n",
      "     12        \u001B[36m1.6197\u001B[0m  0.0285\n",
      "     13        \u001B[36m1.6149\u001B[0m  0.0368\n",
      "     14        \u001B[36m1.6101\u001B[0m  0.0316\n",
      "     15        \u001B[36m1.6054\u001B[0m  0.0535\n",
      "     16        \u001B[36m1.6007\u001B[0m  0.0335\n",
      "     17        \u001B[36m1.5960\u001B[0m  0.0385\n",
      "     18        \u001B[36m1.5914\u001B[0m  0.0276\n",
      "     19        \u001B[36m1.5868\u001B[0m  0.0295\n",
      "     20        \u001B[36m1.5822\u001B[0m  0.0320\n"
     ]
    },
    {
     "data": {
      "text/plain": "<class 'skorch.classifier.NeuralNetClassifier'>[initialized](\n  module_=LSTMModel(\n    (lstm): LSTM(16325, 64, batch_first=True)\n    (fc): Linear(in_features=64, out_features=5, bias=True)\n  ),\n)"
     },
     "execution_count": 63,
     "metadata": {},
     "output_type": "execute_result"
    }
   ],
   "source": [
    "\"\"\"\n",
    "fit the skorch classifier with the training data instead of leaving fitting to the ActiveLearner() (which would expect different shapes for the input data, would be incompatible with LSTM)\n",
    "\"\"\"\n",
    "classifier.fit(train_features, train_labels)"
   ],
   "metadata": {
    "collapsed": false,
    "pycharm": {
     "name": "#%%\n"
    }
   }
  },
  {
   "cell_type": "markdown",
   "source": [],
   "metadata": {
    "collapsed": false
   }
  },
  {
   "cell_type": "markdown",
   "source": [
    "## Active Learner"
   ],
   "metadata": {
    "collapsed": false
   }
  },
  {
   "cell_type": "code",
   "execution_count": 64,
   "outputs": [],
   "source": [
    "\"\"\"\n",
    "Initialize the ActiveLearner with the fitted classifier\n",
    "\"\"\"\n",
    "learner = ActiveLearner(\n",
    "    estimator=classifier\n",
    ")"
   ],
   "metadata": {
    "collapsed": false,
    "pycharm": {
     "name": "#%%\n"
    }
   }
  },
  {
   "cell_type": "code",
   "execution_count": 65,
   "outputs": [],
   "source": [
    "n_instances = 10\n",
    "accuracies = []"
   ],
   "metadata": {
    "collapsed": false,
    "pycharm": {
     "name": "#%%\n"
    }
   }
  },
  {
   "cell_type": "markdown",
   "source": [
    "### Loop"
   ],
   "metadata": {
    "collapsed": false
   }
  },
  {
   "cell_type": "code",
   "execution_count": 120,
   "outputs": [],
   "source": [
    "# query instances and predicted probs\n",
    "query_idx, query_inst = learner.query(X_pool, n_instances=n_instances)\n",
    "probabilities = learner.predict_proba(X_pool[query_idx])"
   ],
   "metadata": {
    "collapsed": false,
    "pycharm": {
     "name": "#%%\n"
    }
   }
  },
  {
   "cell_type": "code",
   "execution_count": 67,
   "outputs": [
    {
     "data": {
      "text/plain": "  0%|          | 0/10 [00:00<?, ?it/s]",
      "application/vnd.jupyter.widget-view+json": {
       "version_major": 2,
       "version_minor": 0,
       "model_id": "37ce3c26562d4ef79ec7053c82ed9801"
      }
     },
     "metadata": {},
     "output_type": "display_data"
    },
    {
     "name": "stdout",
     "output_type": "stream",
     "text": [
      "10 records logged to http://localhost:6900/ws/rubrix/pytorch_active_learning_se_corpus\n"
     ]
    },
    {
     "data": {
      "text/plain": "BulkResponse(dataset='pytorch_active_learning_se_corpus', processed=10, failed=0)"
     },
     "execution_count": 67,
     "metadata": {},
     "output_type": "execute_result"
    }
   ],
   "source": [
    "# record probs and retrieve text string for annotation\n",
    "records = [rb.TextClassificationRecord(\n",
    "    id=idx,\n",
    "    inputs=pool.text.iloc[idx],\n",
    "    prediction=list(zip(['expl:pass', 'obj', 'expl:impers', 'iobj', 'expl:pv'], probs)),\n",
    "    prediction_agent=\"skorch_classifier\", # purpose: keep track of 'who' did predictions\n",
    "    )\n",
    "    for idx, probs in zip(query_idx, probabilities)\n",
    "]\n",
    "\n",
    "rb.log(records, name=\"pytorch_active_learning_se_corpus\")"
   ],
   "metadata": {
    "collapsed": false,
    "pycharm": {
     "name": "#%%\n"
    }
   }
  },
  {
   "cell_type": "code",
   "execution_count": 122,
   "outputs": [
    {
     "name": "stdout",
     "output_type": "stream",
     "text": [
      "Note: you either discarded samples or did not annotate all of them\n",
      "Re-initializing module.\n",
      "Re-initializing criterion.\n",
      "Re-initializing optimizer.\n",
      "  epoch    train_loss     dur\n",
      "-------  ------------  ------\n",
      "      1        \u001B[36m1.6012\u001B[0m  0.0257\n",
      "      2        \u001B[36m1.5992\u001B[0m  0.0267\n",
      "      3        \u001B[36m1.5972\u001B[0m  0.0159\n",
      "      4        \u001B[36m1.5952\u001B[0m  0.0155\n",
      "      5        \u001B[36m1.5932\u001B[0m  0.0148\n",
      "      6        \u001B[36m1.5912\u001B[0m  0.0149\n",
      "      7        \u001B[36m1.5893\u001B[0m  0.0145\n",
      "      8        \u001B[36m1.5873\u001B[0m  0.0205\n",
      "      9        \u001B[36m1.5854\u001B[0m  0.0153\n",
      "     10        \u001B[36m1.5834\u001B[0m  0.0185\n",
      "     11        \u001B[36m1.5815\u001B[0m  0.0215\n",
      "     12        \u001B[36m1.5796\u001B[0m  0.0191\n",
      "     13        \u001B[36m1.5777\u001B[0m  0.0187\n",
      "     14        \u001B[36m1.5758\u001B[0m  0.0165\n",
      "     15        \u001B[36m1.5740\u001B[0m  0.0210\n",
      "     16        \u001B[36m1.5721\u001B[0m  0.0175\n",
      "     17        \u001B[36m1.5703\u001B[0m  0.0187\n",
      "     18        \u001B[36m1.5684\u001B[0m  0.0165\n",
      "     19        \u001B[36m1.5666\u001B[0m  0.0158\n",
      "     20        \u001B[36m1.5648\u001B[0m  0.0185\n"
     ]
    }
   ],
   "source": [
    "# compare annotated label with the predicted label\n",
    "records_df = rb.load(\"pytorch_active_learning_se_corpus\", ids=query_idx.tolist(), as_pandas=False)\n",
    "annotation = [record.annotation for record in records_df]\n",
    "\n",
    "if None in annotation:\n",
    "    # discard sentences that should not be in the corpus and delete index of sentences\n",
    "    print('Note: you either discarded samples or did not annotate all of them')\n",
    "    discarded_idxs=[idx for idx, sample in enumerate(annotation) if sample is None]\n",
    "    discarded_idxs = sorted(discarded_idxs, reverse=True)\n",
    "    for index in discarded_idxs:\n",
    "        query_inst = np.delete(query_inst, index, axis=0)\n",
    "    annotation = list(filter(None.__ne__, annotation))\n",
    "\n",
    "y_pool = label_encoder.transform(annotation)\n",
    "\n",
    "# train the classifier with the newly annotated examples\n",
    "learner.teach(query_inst, y_pool)  # query_inst == X_pool[query_idx]\n",
    "accuracies.append(learner.score(X=test_features, y=test_labels))  # Keep track of our improvement\n",
    "\n",
    "X_pool = np.delete(X_pool, query_idx, axis=0)"
   ],
   "metadata": {
    "collapsed": false,
    "pycharm": {
     "name": "#%%\n"
    }
   }
  },
  {
   "cell_type": "code",
   "execution_count": null,
   "outputs": [],
   "source": [
    "\"\"\"\n",
    "### todo: update while loop\n",
    "\"\"\"\n",
    "# while len(accuracies) < 20:\n",
    "# while len(accuracies) < 2:\n",
    "#     query_idx, query_inst = learner.query(X_pool, n_instances=n_instances)\n",
    "#     probabilities = learner.predict_proba(X_pool[query_idx])\n",
    "#     records = [\n",
    "#     rb.TextClassificationRecord(\n",
    "#         id=idx,\n",
    "#         inputs=pool.text.iloc[idx],\n",
    "#         prediction=list(zip(['expl:pass', 'obj', 'expl:impers', 'iobj', 'expl:pv'], probs)),\n",
    "#         prediction_agent=\"skorch_classifier\", # purpose: keep track of 'who' did predictions\n",
    "#     )\n",
    "#     for idx, probs in zip(query_idx, probabilities)\n",
    "# ]\n",
    "#\n",
    "#     # Log the records\n",
    "#     rb.log(records, name=\"pytorch_active_learning_se_corpus\")\n",
    "#     webbrowser.get('firefox').open_new_tab('http://0.0.0.0:6900')\n",
    "#\n",
    "#     input('confirm that annotations on rubrix are finished')\n",
    "#     records_df = rb.load(\"pytorch_active_learning_se_corpus\", ids=query_idx.tolist(), as_pandas=False)\n",
    "#     annotation = [record.annotation for record in records_df]\n",
    "#     if 'None' in annotation: # make it possible to discard sentences that should not be in the corpus\n",
    "#         print('you either discarded samples or did not annotate all of them')\n",
    "#         annotation = list(filter('None'.__ne__, annotation))\n",
    "#\n",
    "#     y_pool = label_encoder.transform(annotation)  # train the classifier with the newly annotated examples\n",
    "#     learner.teach(query_inst, y_pool)  # query_inst == X_pool[query_idx]\n",
    "#     accuracies.append(learner.score(X=X_test, y=y_test))  # Keep track of our improvement\n",
    "#     X_pool = np.delete(X_pool, query_idx, axis=0)  # remove queried instances from pool"
   ],
   "metadata": {
    "collapsed": false,
    "pycharm": {
     "name": "#%%\n",
     "is_executing": true
    }
   }
  },
  {
   "cell_type": "code",
   "execution_count": 128,
   "outputs": [
    {
     "data": {
      "text/plain": "<Figure size 432x288 with 1 Axes>",
      "image/png": "[encoded data removed]"
     },
     "metadata": {
      "needs_background": "light"
     },
     "output_type": "display_data"
    }
   ],
   "source": [
    "# Plot the accuracy versus the iteration number\n",
    "plt.plot(accuracies)\n",
    "plt.xlabel(\"Number of iterations\")\n",
    "plt.ylabel(\"Accuracy\");"
   ],
   "metadata": {
    "collapsed": false,
    "pycharm": {
     "name": "#%%\n"
    }
   }
  },
  {
   "cell_type": "code",
   "execution_count": null,
   "outputs": [],
   "source": [],
   "metadata": {
    "collapsed": false,
    "pycharm": {
     "name": "#%%\n"
    }
   }
  }
 ],
 "metadata": {
  "kernelspec": {
   "display_name": "Python 3",
   "language": "python",
   "name": "python3"
  },
  "language_info": {
   "codemirror_mode": {
    "name": "ipython",
    "version": 3
   },
   "file_extension": ".py",
   "mimetype": "text/x-python",
   "name": "python",
   "nbconvert_exporter": "python",
   "pygments_lexer": "ipython3",
   "version": "3.8.5"
  }
 },
 "nbformat": 4,
 "nbformat_minor": 1
}