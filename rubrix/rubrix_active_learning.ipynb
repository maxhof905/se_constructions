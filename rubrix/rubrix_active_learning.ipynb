{
 "cells": [
  {
   "cell_type": "code",
   "execution_count": 1,
   "metadata": {},
   "outputs": [
    {
     "name": "stderr",
     "output_type": "stream",
     "text": [
      "/Users/maxine/Library/Python/3.9/lib/python/site-packages/jose/backends/cryptography_backend.py:18: CryptographyDeprecationWarning: int_from_bytes is deprecated, use int.from_bytes instead\n",
      "  from cryptography.utils import int_from_bytes, int_to_bytes\n"
     ]
    }
   ],
   "source": [
    "import rubrix as rb\n",
    "import modAL\n",
    "import sklearn\n",
    "import pandas as pd"
   ]
  },
  {
   "cell_type": "code",
   "execution_count": null,
   "outputs": [],
   "source": [
    "# >>> import fasttext.util\n",
    "# >>> fasttext.util.download_model('en', if_exists='ignore')  # English\n",
    "# >>> ft = fasttext.load_model('cc.en.300.bin')"
   ],
   "metadata": {
    "collapsed": false,
    "pycharm": {
     "name": "#%%\n"
    }
   }
  },
  {
   "cell_type": "code",
   "execution_count": 6,
   "metadata": {
    "pycharm": {
     "name": "#%%\n"
    }
   },
   "outputs": [],
   "source": [
    "# If you are using the default installation you can skip this line\n",
    "# train_df = pd.read_csv(\"https://raw.githubusercontent.com/recognai/rubrix/master/docs/tutorials/data/yt_comments_train.csv\")\n",
    "# test_df = pd.read_csv(\"https://raw.githubusercontent.com/recognai/rubrix/master/docs/tutorials/data/yt_comments_test.csv\")\n",
    "\n",
    "train_df = pd.read_csv('/Users/maxine/Documents/GitHub/se_corpus/ud/es_data/es_ancora-ud-train.txt', sep='\\t', names=['text', 'tokenized_text', 'se_label'])\n",
    "test_df = pd.read_csv('/Users/maxine/Documents/GitHub/se_corpus/ud/es_data/es_ancora-ud-test.txt', sep='\\t',names=['text', 'tokenized_text', 'se_label'])"
   ]
  },
  {
   "cell_type": "code",
   "execution_count": 7,
   "metadata": {
    "pycharm": {
     "name": "#%%\n"
    }
   },
   "outputs": [
    {
     "data": {
      "text/plain": "                                                text  \\\n0  Los activos en divisas en poder del Banco Cent...   \n1  Las reservas en oro se valoran en base a 300 d...   \n2  Según Pujol, no puede ser que se tarde ocho me...   \n3  Sin embargo, los abogados de la empresa indica...   \n4  El Departamento de Justicia dijo respecto a la...   \n\n                                      tokenized_text     se_label  \n0  Los activos en divisas en poder de el Banco Ce...    expl:pass  \n1  Las reservas en oro se valoran en base a 300 d...    expl:pass  \n2  Según Pujol , no puede ser que se tarde ocho m...  expl:impers  \n3  Sin embargo , los abogados de la empresa indic...    expl:pass  \n4  El Departamento de Justicia dijo respecto a la...    expl:pass  ",
      "text/html": "<div>\n<style scoped>\n    .dataframe tbody tr th:only-of-type {\n        vertical-align: middle;\n    }\n\n    .dataframe tbody tr th {\n        vertical-align: top;\n    }\n\n    .dataframe thead th {\n        text-align: right;\n    }\n</style>\n<table border=\"1\" class=\"dataframe\">\n  <thead>\n    <tr style=\"text-align: right;\">\n      <th></th>\n      <th>text</th>\n      <th>tokenized_text</th>\n      <th>se_label</th>\n    </tr>\n  </thead>\n  <tbody>\n    <tr>\n      <th>0</th>\n      <td>Los activos en divisas en poder del Banco Cent...</td>\n      <td>Los activos en divisas en poder de el Banco Ce...</td>\n      <td>expl:pass</td>\n    </tr>\n    <tr>\n      <th>1</th>\n      <td>Las reservas en oro se valoran en base a 300 d...</td>\n      <td>Las reservas en oro se valoran en base a 300 d...</td>\n      <td>expl:pass</td>\n    </tr>\n    <tr>\n      <th>2</th>\n      <td>Según Pujol, no puede ser que se tarde ocho me...</td>\n      <td>Según Pujol , no puede ser que se tarde ocho m...</td>\n      <td>expl:impers</td>\n    </tr>\n    <tr>\n      <th>3</th>\n      <td>Sin embargo, los abogados de la empresa indica...</td>\n      <td>Sin embargo , los abogados de la empresa indic...</td>\n      <td>expl:pass</td>\n    </tr>\n    <tr>\n      <th>4</th>\n      <td>El Departamento de Justicia dijo respecto a la...</td>\n      <td>El Departamento de Justicia dijo respecto a la...</td>\n      <td>expl:pass</td>\n    </tr>\n  </tbody>\n</table>\n</div>"
     },
     "execution_count": 7,
     "metadata": {},
     "output_type": "execute_result"
    }
   ],
   "source": [
    "train_df.head()"
   ]
  },
  {
   "cell_type": "code",
   "execution_count": 8,
   "outputs": [
    {
     "data": {
      "text/plain": "                                                text  \\\n0  Además, estas dos naciones tienen una larga hi...   \n1  Aviones aterrizando o despegando, cristales ro...   \n2  Lo que ocurre con ese caballero es que se trat...   \n3  Yo tardé mucho tiempo en enterarme de que no h...   \n4  - Acabará aceptándose ese factor como un nuevo...   \n\n                                      tokenized_text     se_label  \n0  Además , estas dos naciones tienen una larga h...      expl:pv  \n1  Aviones aterrizando o despegando , cristales r...      expl:pv  \n2  Lo que ocurre con ese caballero es que se trat...  expl:impers  \n3  Yo tardé mucho tiempo en enterar me de que no ...  expl:impers  \n4  - Acabará aceptando se ese factor como un nuev...    expl:pass  ",
      "text/html": "<div>\n<style scoped>\n    .dataframe tbody tr th:only-of-type {\n        vertical-align: middle;\n    }\n\n    .dataframe tbody tr th {\n        vertical-align: top;\n    }\n\n    .dataframe thead th {\n        text-align: right;\n    }\n</style>\n<table border=\"1\" class=\"dataframe\">\n  <thead>\n    <tr style=\"text-align: right;\">\n      <th></th>\n      <th>text</th>\n      <th>tokenized_text</th>\n      <th>se_label</th>\n    </tr>\n  </thead>\n  <tbody>\n    <tr>\n      <th>0</th>\n      <td>Además, estas dos naciones tienen una larga hi...</td>\n      <td>Además , estas dos naciones tienen una larga h...</td>\n      <td>expl:pv</td>\n    </tr>\n    <tr>\n      <th>1</th>\n      <td>Aviones aterrizando o despegando, cristales ro...</td>\n      <td>Aviones aterrizando o despegando , cristales r...</td>\n      <td>expl:pv</td>\n    </tr>\n    <tr>\n      <th>2</th>\n      <td>Lo que ocurre con ese caballero es que se trat...</td>\n      <td>Lo que ocurre con ese caballero es que se trat...</td>\n      <td>expl:impers</td>\n    </tr>\n    <tr>\n      <th>3</th>\n      <td>Yo tardé mucho tiempo en enterarme de que no h...</td>\n      <td>Yo tardé mucho tiempo en enterar me de que no ...</td>\n      <td>expl:impers</td>\n    </tr>\n    <tr>\n      <th>4</th>\n      <td>- Acabará aceptándose ese factor como un nuevo...</td>\n      <td>- Acabará aceptando se ese factor como un nuev...</td>\n      <td>expl:pass</td>\n    </tr>\n  </tbody>\n</table>\n</div>"
     },
     "execution_count": 8,
     "metadata": {},
     "output_type": "execute_result"
    }
   ],
   "source": [
    "test_df.head()"
   ],
   "metadata": {
    "collapsed": false,
    "pycharm": {
     "name": "#%%\n"
    }
   }
  },
  {
   "cell_type": "code",
   "execution_count": 9,
   "metadata": {
    "pycharm": {
     "name": "#%%\n"
    }
   },
   "outputs": [],
   "source": [
    "from sklearn.naive_bayes import MultinomialNB\n",
    "classifier = MultinomialNB()\n"
   ]
  },
  {
   "cell_type": "code",
   "execution_count": 10,
   "metadata": {
    "pycharm": {
     "name": "#%%\n"
    }
   },
   "outputs": [],
   "source": [
    "from modAL.models import ActiveLearner\n",
    "learner = ActiveLearner(estimator=classifier,)"
   ]
  },
  {
   "cell_type": "code",
   "execution_count": 11,
   "metadata": {
    "pycharm": {
     "name": "#%%\n"
    }
   },
   "outputs": [],
   "source": [
    "from sklearn.feature_extraction.text import CountVectorizer\n",
    "vectorizer = CountVectorizer(ngram_range=(1,5))\n",
    "\n",
    "X_train = vectorizer.fit_transform(train_df.text)\n",
    "X_test = vectorizer.transform(test_df.text) # not CONTENT as specified in docs"
   ]
  },
  {
   "cell_type": "code",
   "execution_count": 29,
   "metadata": {
    "pycharm": {
     "name": "#%%\n"
    }
   },
   "outputs": [],
   "source": [
    "# Number of instances we want to annotate per iteration\n",
    "n_instances = 10\n",
    "\n",
    "# Accuracies after each iteration to keep track of our improvement\n",
    "accuracies = []"
   ]
  },
  {
   "cell_type": "markdown",
   "source": [
    "reejecutar desde aqui\n"
   ],
   "metadata": {
    "collapsed": false
   }
  },
  {
   "cell_type": "code",
   "execution_count": 36,
   "metadata": {
    "pycharm": {
     "name": "#%%\n"
    }
   },
   "outputs": [],
   "source": [
    "from sklearn.exceptions import NotFittedError\n",
    "\n",
    "# query examples from our training pool with the most uncertain prediction\n",
    "query_idx, query_inst = learner.query(X_train, n_instances=n_instances)\n",
    "\n",
    "# get predictions for the queried examples\n",
    "try:\n",
    "    probabilities = learner.predict_proba(X_train[query_idx])\n",
    "# For the very first query we do not have any predictions\n",
    "except NotFittedError:\n",
    "    probabilities = [[0.2, 0.2,0.2, 0.2, 0.2]]*n_instances"
   ]
  },
  {
   "cell_type": "code",
   "execution_count": 37,
   "metadata": {
    "pycharm": {
     "name": "#%%\n"
    }
   },
   "outputs": [
    {
     "data": {
      "text/plain": "  0%|          | 0/10 [00:00<?, ?it/s]",
      "application/vnd.jupyter.widget-view+json": {
       "version_major": 2,
       "version_minor": 0,
       "model_id": "6cd17fea8e9146ad9600242908863828"
      }
     },
     "metadata": {},
     "output_type": "display_data"
    },
    {
     "name": "stdout",
     "output_type": "stream",
     "text": [
      "10 records logged to http://localhost:6900/ws/rubrix/active_learning_tutorial\n"
     ]
    },
    {
     "data": {
      "text/plain": "BulkResponse(dataset='active_learning_tutorial', processed=10, failed=0)"
     },
     "execution_count": 37,
     "metadata": {},
     "output_type": "execute_result"
    }
   ],
   "source": [
    "import rubrix as rb\n",
    "\n",
    "# Build the Rubrix records\n",
    "records = [\n",
    "    rb.TextClassificationRecord(\n",
    "        id=idx,\n",
    "        inputs=train_df.text.iloc[idx], # not CONTENT as in docs\n",
    "        # prediction=list(zip([\"HAM\", \"SPAM\"], probs)),\n",
    "        prediction=list(zip(['expl:pass', 'obj', 'expl:impers', 'iobj', 'expl:pv'], probs)),\n",
    "        prediction_agent=\"MultinomialNB\",\n",
    "    )\n",
    "    for idx, probs in zip(query_idx, probabilities)\n",
    "]\n",
    "\n",
    "# Log the records\n",
    "rb.log(records, name=\"active_learning_tutorial\")"
   ]
  },
  {
   "cell_type": "code",
   "execution_count": null,
   "metadata": {
    "pycharm": {
     "name": "#%%\n"
    }
   },
   "outputs": [],
   "source": [
    "## Load it back into pandas"
   ]
  },
  {
   "cell_type": "code",
   "execution_count": 33,
   "metadata": {
    "pycharm": {
     "name": "#%%\n"
    }
   },
   "outputs": [],
   "source": [
    "# Load the annotated records into a pandas DataFrame\n",
    "records_df = rb.load(\"active_learning_tutorial\", ids=query_idx.tolist())\n",
    "\n",
    "# check if all examples were annotated\n",
    "if any(records_df.annotation.isna()):\n",
    "    raise UserWarning(\"Please annotate first all your samples before teaching the model\")\n",
    "\n",
    "# train the classifier with the newly annotated examples\n",
    "y_train = records_df.annotation.map(lambda x: int(x == \"SPAM\"))\n",
    "learner.teach(X=X_train[query_idx], y=y_train.to_list())\n",
    "\n",
    "\n",
    "# Keep track of our improvement\n",
    "accuracies.append(learner.score(X=X_test, y=test_df.se_label)) # not CLASS as in docs"
   ]
  },
  {
   "cell_type": "code",
   "execution_count": 34,
   "metadata": {
    "pycharm": {
     "name": "#%%\n"
    }
   },
   "outputs": [
    {
     "name": "stdout",
     "output_type": "stream",
     "text": [
      "[0.0]\n"
     ]
    }
   ],
   "source": [
    "print(accuracies)"
   ]
  },
  {
   "cell_type": "code",
   "execution_count": 35,
   "metadata": {
    "pycharm": {
     "name": "#%%\n"
    }
   },
   "outputs": [
    {
     "data": {
      "text/plain": "<Figure size 432x288 with 1 Axes>",
      "image/png": "[encoded data removed]"
     },
     "metadata": {
      "needs_background": "light"
     },
     "output_type": "display_data"
    }
   ],
   "source": [
    "import matplotlib.pyplot as plt\n",
    "\n",
    "# Plot the accuracy versus the iteration number\n",
    "plt.plot(accuracies)\n",
    "plt.xlabel(\"Number of iterations\")\n",
    "plt.ylabel(\"Accuracy\");"
   ]
  },
  {
   "cell_type": "code",
   "execution_count": null,
   "outputs": [],
   "source": [],
   "metadata": {
    "collapsed": false,
    "pycharm": {
     "name": "#%%\n"
    }
   }
  }
 ],
 "metadata": {
  "kernelspec": {
   "display_name": "Python 3 (ipykernel)",
   "language": "python",
   "name": "python3"
  },
  "language_info": {
   "codemirror_mode": {
    "name": "ipython",
    "version": 3
   },
   "file_extension": ".py",
   "mimetype": "text/x-python",
   "name": "python",
   "nbconvert_exporter": "python",
   "pygments_lexer": "ipython3",
   "version": "3.9.7"
  }
 },
 "nbformat": 4,
 "nbformat_minor": 1
}