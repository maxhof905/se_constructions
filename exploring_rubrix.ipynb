{
 "cells": [
  {
   "cell_type": "code",
   "execution_count": 1,
   "metadata": {
    "collapsed": true
   },
   "outputs": [
    {
     "name": "stderr",
     "output_type": "stream",
     "text": [
      "/Users/maxine/Library/Python/3.9/lib/python/site-packages/jose/backends/cryptography_backend.py:18: CryptographyDeprecationWarning: int_from_bytes is deprecated, use int.from_bytes instead\n",
      "  from cryptography.utils import int_from_bytes, int_to_bytes\n"
     ]
    },
    {
     "data": {
      "text/plain": "  0%|          | 0/1 [00:00<?, ?it/s]",
      "application/vnd.jupyter.widget-view+json": {
       "version_major": 2,
       "version_minor": 0,
       "model_id": "194f74197d824f0da39a005ac0657ec6"
      }
     },
     "metadata": {},
     "output_type": "display_data"
    },
    {
     "name": "stdout",
     "output_type": "stream",
     "text": [
      "1 records logged to http://localhost:6900/ws/rubrix/example-dataset\n"
     ]
    },
    {
     "data": {
      "text/plain": "BulkResponse(dataset='example-dataset', processed=1, failed=0)"
     },
     "execution_count": 1,
     "metadata": {},
     "output_type": "execute_result"
    }
   ],
   "source": [
    "import rubrix as rb\n",
    "import modAL\n",
    "import sklearn\n",
    "import pandas as pd"
   ]
  },
  {
   "cell_type": "code",
   "execution_count": 21,
   "outputs": [],
   "source": [
    "# If you are using the default installation you can skip this line\n",
    "train_df = pd.read_csv(\"https://raw.githubusercontent.com/recognai/rubrix/master/docs/tutorials/data/yt_comments_train.csv\")\n",
    "test_df = pd.read_csv(\"https://raw.githubusercontent.com/recognai/rubrix/master/docs/tutorials/data/yt_comments_test.csv\")"
   ],
   "metadata": {
    "collapsed": false,
    "pycharm": {
     "name": "#%%\n"
    }
   }
  },
  {
   "cell_type": "code",
   "execution_count": 22,
   "outputs": [
    {
     "data": {
      "text/plain": "      Unnamed: 0            author                        date  \\\n0              0  Alessandro leite         2014-11-05T22:21:36   \n1              1      Salim Tayara         2014-11-02T14:33:30   \n2              2           Phuc Ly         2014-01-20T15:27:47   \n3              3      DropShotSk8r         2014-01-19T04:27:18   \n4              4            css403         2014-11-07T14:25:48   \n...          ...               ...                         ...   \n1581         443      Themayerlife                         NaN   \n1582         444       Fill Reseni  2015-05-27T17:10:53.724000   \n1583         445    Greg Fils Aimé                         NaN   \n1584         446             Lil M                         NaN   \n1585         447       AvidorFilms                         NaN   \n\n                                                   text  label  video  \n0     pls http://www10.vakinha.com.br/VaquinhaE.aspx...   -1.0      1  \n1     if your like drones, plz subscribe to Kamal Ta...   -1.0      1  \n2                        go here to check the views :3﻿   -1.0      1  \n3               Came here to check the views, goodbye.﻿   -1.0      1  \n4                         i am 2,126,492,636 viewer :D﻿   -1.0      1  \n...                                                 ...    ...    ...  \n1581                         Check out my mummy chanel!   -1.0      4  \n1582               The rap: cool     Rihanna: STTUUPID﻿   -1.0      4  \n1583  I hope everyone is in good spirits I&#39;m a h...   -1.0      4  \n1584  Lil m !!!!! Check hi out!!!!! Does live the wa...   -1.0      4  \n1585  Please check out my youtube channel! Just uplo...   -1.0      4  \n\n[1586 rows x 6 columns]",
      "text/html": "<div>\n<style scoped>\n    .dataframe tbody tr th:only-of-type {\n        vertical-align: middle;\n    }\n\n    .dataframe tbody tr th {\n        vertical-align: top;\n    }\n\n    .dataframe thead th {\n        text-align: right;\n    }\n</style>\n<table border=\"1\" class=\"dataframe\">\n  <thead>\n    <tr style=\"text-align: right;\">\n      <th></th>\n      <th>Unnamed: 0</th>\n      <th>author</th>\n      <th>date</th>\n      <th>text</th>\n      <th>label</th>\n      <th>video</th>\n    </tr>\n  </thead>\n  <tbody>\n    <tr>\n      <th>0</th>\n      <td>0</td>\n      <td>Alessandro leite</td>\n      <td>2014-11-05T22:21:36</td>\n      <td>pls http://www10.vakinha.com.br/VaquinhaE.aspx...</td>\n      <td>-1.0</td>\n      <td>1</td>\n    </tr>\n    <tr>\n      <th>1</th>\n      <td>1</td>\n      <td>Salim Tayara</td>\n      <td>2014-11-02T14:33:30</td>\n      <td>if your like drones, plz subscribe to Kamal Ta...</td>\n      <td>-1.0</td>\n      <td>1</td>\n    </tr>\n    <tr>\n      <th>2</th>\n      <td>2</td>\n      <td>Phuc Ly</td>\n      <td>2014-01-20T15:27:47</td>\n      <td>go here to check the views :3﻿</td>\n      <td>-1.0</td>\n      <td>1</td>\n    </tr>\n    <tr>\n      <th>3</th>\n      <td>3</td>\n      <td>DropShotSk8r</td>\n      <td>2014-01-19T04:27:18</td>\n      <td>Came here to check the views, goodbye.﻿</td>\n      <td>-1.0</td>\n      <td>1</td>\n    </tr>\n    <tr>\n      <th>4</th>\n      <td>4</td>\n      <td>css403</td>\n      <td>2014-11-07T14:25:48</td>\n      <td>i am 2,126,492,636 viewer :D﻿</td>\n      <td>-1.0</td>\n      <td>1</td>\n    </tr>\n    <tr>\n      <th>...</th>\n      <td>...</td>\n      <td>...</td>\n      <td>...</td>\n      <td>...</td>\n      <td>...</td>\n      <td>...</td>\n    </tr>\n    <tr>\n      <th>1581</th>\n      <td>443</td>\n      <td>Themayerlife</td>\n      <td>NaN</td>\n      <td>Check out my mummy chanel!</td>\n      <td>-1.0</td>\n      <td>4</td>\n    </tr>\n    <tr>\n      <th>1582</th>\n      <td>444</td>\n      <td>Fill Reseni</td>\n      <td>2015-05-27T17:10:53.724000</td>\n      <td>The rap: cool     Rihanna: STTUUPID﻿</td>\n      <td>-1.0</td>\n      <td>4</td>\n    </tr>\n    <tr>\n      <th>1583</th>\n      <td>445</td>\n      <td>Greg Fils Aimé</td>\n      <td>NaN</td>\n      <td>I hope everyone is in good spirits I&amp;#39;m a h...</td>\n      <td>-1.0</td>\n      <td>4</td>\n    </tr>\n    <tr>\n      <th>1584</th>\n      <td>446</td>\n      <td>Lil M</td>\n      <td>NaN</td>\n      <td>Lil m !!!!! Check hi out!!!!! Does live the wa...</td>\n      <td>-1.0</td>\n      <td>4</td>\n    </tr>\n    <tr>\n      <th>1585</th>\n      <td>447</td>\n      <td>AvidorFilms</td>\n      <td>NaN</td>\n      <td>Please check out my youtube channel! Just uplo...</td>\n      <td>-1.0</td>\n      <td>4</td>\n    </tr>\n  </tbody>\n</table>\n<p>1586 rows × 6 columns</p>\n</div>"
     },
     "execution_count": 22,
     "metadata": {},
     "output_type": "execute_result"
    }
   ],
   "source": [
    "train_df"
   ],
   "metadata": {
    "collapsed": false,
    "pycharm": {
     "name": "#%%\n"
    }
   }
  },
  {
   "cell_type": "code",
   "execution_count": 23,
   "outputs": [],
   "source": [
    "from sklearn.naive_bayes import MultinomialNB\n",
    "classifier = MultinomialNB()\n"
   ],
   "metadata": {
    "collapsed": false,
    "pycharm": {
     "name": "#%%\n"
    }
   }
  },
  {
   "cell_type": "code",
   "execution_count": 24,
   "outputs": [],
   "source": [
    "from modAL.models import ActiveLearner\n",
    "learner = ActiveLearner(estimator=classifier,)"
   ],
   "metadata": {
    "collapsed": false,
    "pycharm": {
     "name": "#%%\n"
    }
   }
  },
  {
   "cell_type": "code",
   "execution_count": 27,
   "outputs": [],
   "source": [
    "from sklearn.feature_extraction.text import CountVectorizer\n",
    "vectorizer = CountVectorizer(ngram_range=(1,5))\n",
    "\n",
    "X_train = vectorizer.fit_transform(train_df.text)\n",
    "X_test = vectorizer.transform(test_df.text) # not CONTENT as specified in docs"
   ],
   "metadata": {
    "collapsed": false,
    "pycharm": {
     "name": "#%%\n"
    }
   }
  },
  {
   "cell_type": "code",
   "execution_count": 28,
   "outputs": [],
   "source": [
    "# Number of instances we want to annotate per iteration\n",
    "n_instances = 10\n",
    "\n",
    "# Accuracies after each iteration to keep track of our improvement\n",
    "accuracies = []"
   ],
   "metadata": {
    "collapsed": false,
    "pycharm": {
     "name": "#%%\n"
    }
   }
  },
  {
   "cell_type": "code",
   "execution_count": 37,
   "outputs": [],
   "source": [
    "from sklearn.exceptions import NotFittedError\n",
    "\n",
    "# query examples from our training pool with the most uncertain prediction\n",
    "query_idx, query_inst = learner.query(X_train, n_instances=n_instances)\n",
    "\n",
    "# get predictions for the queried examples\n",
    "try:\n",
    "    probabilities = learner.predict_proba(X_train[query_idx])\n",
    "# For the very first query we do not have any predictions\n",
    "except NotFittedError:\n",
    "    probabilities = [[0.5, 0.5]]*n_instances"
   ],
   "metadata": {
    "collapsed": false,
    "pycharm": {
     "name": "#%%\n"
    }
   }
  },
  {
   "cell_type": "code",
   "execution_count": 38,
   "outputs": [
    {
     "data": {
      "text/plain": "  0%|          | 0/10 [00:00<?, ?it/s]",
      "application/vnd.jupyter.widget-view+json": {
       "version_major": 2,
       "version_minor": 0,
       "model_id": "20ce0de76c854f748401375e2627e367"
      }
     },
     "metadata": {},
     "output_type": "display_data"
    },
    {
     "name": "stdout",
     "output_type": "stream",
     "text": [
      "10 records logged to http://localhost:6900/ws/rubrix/active_learning_tutorial\n"
     ]
    },
    {
     "data": {
      "text/plain": "BulkResponse(dataset='active_learning_tutorial', processed=10, failed=0)"
     },
     "execution_count": 38,
     "metadata": {},
     "output_type": "execute_result"
    }
   ],
   "source": [
    "import rubrix as rb\n",
    "\n",
    "# Build the Rubrix records\n",
    "records = [\n",
    "    rb.TextClassificationRecord(\n",
    "        id=idx,\n",
    "        inputs=train_df.text.iloc[idx], # not CONTENT as in docs\n",
    "        prediction=list(zip([\"HAM\", \"SPAM\"], probs)),\n",
    "        prediction_agent=\"MultinomialNB\",\n",
    "    )\n",
    "    for idx, probs in zip(query_idx, probabilities)\n",
    "]\n",
    "\n",
    "# Log the records\n",
    "rb.log(records, name=\"active_learning_tutorial\")"
   ],
   "metadata": {
    "collapsed": false,
    "pycharm": {
     "name": "#%%\n"
    }
   }
  },
  {
   "cell_type": "code",
   "execution_count": 39,
   "outputs": [],
   "source": [
    "# Load the annotated records into a pandas DataFrame\n",
    "records_df = rb.load(\"active_learning_tutorial\", ids=query_idx.tolist())\n",
    "\n",
    "# check if all examples were annotated\n",
    "if any(records_df.annotation.isna()):\n",
    "    raise UserWarning(\"Please annotate first all your samples before teaching the model\")\n",
    "\n",
    "# train the classifier with the newly annotated examples\n",
    "y_train = records_df.annotation.map(lambda x: int(x == \"SPAM\"))\n",
    "learner.teach(X=X_train[query_idx], y=y_train.to_list())\n",
    "\n",
    "# Keep track of our improvement\n",
    "accuracies.append(learner.score(X=X_test, y=test_df.label)) # not CLASS as in docs"
   ],
   "metadata": {
    "collapsed": false,
    "pycharm": {
     "name": "#%%\n"
    }
   }
  },
  {
   "cell_type": "code",
   "execution_count": 40,
   "outputs": [
    {
     "data": {
      "text/plain": "<Figure size 432x288 with 1 Axes>",
      "image/png": "[encoded data removed]"
     },
     "metadata": {
      "needs_background": "light"
     },
     "output_type": "display_data"
    }
   ],
   "source": [
    "import matplotlib.pyplot as plt\n",
    "\n",
    "# Plot the accuracy versus the iteration number\n",
    "plt.plot(accuracies)\n",
    "plt.xlabel(\"Number of iterations\")\n",
    "plt.ylabel(\"Accuracy\");"
   ],
   "metadata": {
    "collapsed": false,
    "pycharm": {
     "name": "#%%\n"
    }
   }
  }
 ],
 "metadata": {
  "kernelspec": {
   "display_name": "Python 3",
   "language": "python",
   "name": "python3"
  },
  "language_info": {
   "codemirror_mode": {
    "name": "ipython",
    "version": 2
   },
   "file_extension": ".py",
   "mimetype": "text/x-python",
   "name": "python",
   "nbconvert_exporter": "python",
   "pygments_lexer": "ipython2",
   "version": "2.7.6"
  }
 },
 "nbformat": 4,
 "nbformat_minor": 0
}