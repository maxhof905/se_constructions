{
 "cells": [
  {
   "cell_type": "markdown",
   "source": [
    "# Pytoch active learning loop: spanish\n",
    "\n",
    "Maxine Hofstetter\n",
    "19/04/22"
   ],
   "metadata": {
    "collapsed": false,
    "pycharm": {
     "name": "#%% md\n"
    }
   }
  },
  {
   "cell_type": "markdown",
   "metadata": {},
   "source": [
    "\n",
    "sources :\n",
    "- https://towardsdatascience.com/pytorch-tabular-multiclass-classification-9f8211a123ab\n",
    "- deeplearningwizard for model architecture"
   ]
  },
  {
   "cell_type": "code",
   "execution_count": 1,
   "metadata": {},
   "outputs": [
    {
     "data": {
      "text/plain": [
       "'/Users/Maxine/Desktop/se_corpus/rubrix'"
      ]
     },
     "execution_count": 1,
     "metadata": {},
     "output_type": "execute_result"
    }
   ],
   "source": [
    "%pwd"
   ]
  },
  {
   "cell_type": "code",
   "execution_count": null,
   "metadata": {
    "pycharm": {
     "is_executing": true,
     "name": "#%%\n"
    }
   },
   "outputs": [],
   "source": [
    "# installations for colab\n",
    "!pip install skorch\n",
    "!pip install modal"
   ]
  },
  {
   "cell_type": "markdown",
   "source": [
    "## 1) Imports"
   ],
   "metadata": {
    "collapsed": false
   }
  },
  {
   "cell_type": "code",
   "execution_count": 23,
   "metadata": {
    "pycharm": {
     "name": "#%%\n"
    }
   },
   "outputs": [],
   "source": [
    "import numpy as np\n",
    "import pandas as pd\n",
    "import seaborn as sns\n",
    "import matplotlib.pyplot as plt\n",
    "\n",
    "from sklearn.feature_extraction.text import CountVectorizer\n",
    "from sklearn import preprocessing\n",
    "from sklearn.model_selection import train_test_split\n",
    "from sklearn.metrics import classification_report\n",
    "\n",
    "import torch\n",
    "from torch import nn\n",
    "from torch.utils.data import Dataset, DataLoader\n",
    "from torch.utils.data import WeightedRandomSampler\n",
    "\n",
    "from skorch import NeuralNetClassifier\n",
    "from skorch.callbacks import EpochScoring\n",
    "\n",
    "from modAL.models import ActiveLearner\n",
    "from modAL.uncertainty import uncertainty_sampling\n"
   ]
  },
  {
   "cell_type": "markdown",
   "metadata": {},
   "source": [
    "## 2) helper functions"
   ]
  },
  {
   "cell_type": "code",
   "execution_count": 2,
   "outputs": [],
   "source": [
    "def get_class_dist(df_col):\n",
    "    \"\"\"\n",
    "    plot label distribution\n",
    "    \"\"\"\n",
    "    data = df_col.value_counts(normalize=True).rename('percentage').mul(100).reset_index().rename(columns = {\"index\":\"label\"})\n",
    "    plot = sns.barplot(x=\"label\", y=\"percentage\", data=data)\n",
    "    plot.set_xticklabels(plot.get_xticklabels(),\n",
    "                          rotation=90,\n",
    "                          horizontalalignment='right')"
   ],
   "metadata": {
    "collapsed": false,
    "pycharm": {
     "name": "#%%\n"
    }
   }
  },
  {
   "cell_type": "code",
   "execution_count": 3,
   "outputs": [],
   "source": [
    "def get_balanced_set(df):\n",
    "    \"\"\"\n",
    "    create balanced data set (oversampling)\n",
    "    \"\"\"\n",
    "    max_size = df['se_label'].value_counts().max()\n",
    "    balanced_list = [df]\n",
    "    for class_index, group in df.groupby('se_label'):\n",
    "        balanced_list.append(group.sample(max_size-len(group), replace=True))\n",
    "    return pd.concat(balanced_list)"
   ],
   "metadata": {
    "collapsed": false,
    "pycharm": {
     "name": "#%%\n"
    }
   }
  },
  {
   "cell_type": "code",
   "execution_count": 4,
   "outputs": [],
   "source": [
    "def get_flattened_list(nested_list):\n",
    "    return [item for sublist in nested_list for item in sublist]"
   ],
   "metadata": {
    "collapsed": false,
    "pycharm": {
     "name": "#%%\n"
    }
   }
  },
  {
   "cell_type": "code",
   "execution_count": 5,
   "outputs": [],
   "source": [
    "def get_learners_preds(prediction_proba):\n",
    "    \"\"\"\n",
    "    return the learners predictions as a dict with labels as keys and the probabilities as values\n",
    "    :param prediction_proba: values obtained from learner.predict()\n",
    "    :return: dict with probability per label\n",
    "    \"\"\"\n",
    "    prediction_proba = np.round(prediction_proba, 2)\n",
    "    prediction_list = list()\n",
    "    for i in range(len(prediction_proba)):\n",
    "        predictions = {'expl:immpers': prediction_proba[i][0], 'expl:pass': prediction_proba[i][1],\n",
    "                      'expl:pv': prediction_proba[i][2], 'iobj': prediction_proba[i][3], 'obj': prediction_proba[i][4]}\n",
    "        prediction_list.append(predictions)\n",
    "    return prediction_list"
   ],
   "metadata": {
    "collapsed": false,
    "pycharm": {
     "name": "#%%\n"
    }
   }
  },
  {
   "cell_type": "markdown",
   "source": [
    "## 3) load and preprocess data\n",
    "- initial_train: labeled test set ('seed')\n",
    "- pool: pool of unlabeled data\n",
    "- test: small labeled test set\n"
   ],
   "metadata": {
    "collapsed": false
   }
  },
  {
   "cell_type": "code",
   "execution_count": 10,
   "metadata": {
    "pycharm": {
     "name": "#%%\n"
    }
   },
   "outputs": [],
   "source": [
    "\"\"\"train_path = '/mnt/home/maxinehofstetter/es_data/es_ancora-ud-train.txt'\n",
    "test_path = '/mnt/home/maxinehofstetter/es_data/es_ancora-ud-test.txt'\n",
    "dev_path = '/mnt/home/maxinehofstetter/es_data/es_ancora-ud-dev.txt'\n",
    "pool_path = '/mnt/home/maxinehofstetter/es_data/sp_text_se_corpus.txt'\"\"\"\n",
    "\n",
    "train_path = '/Users/Maxine/Desktop/se_corpus/ud/es_data/es_ancora-ud-train.txt'\n",
    "test_path = '/Users/Maxine/Desktop/se_corpus/ud/es_data/es_ancora-ud-test.txt'\n",
    "dev_path = '/Users/Maxine/Desktop/se_corpus/ud/es_data/es_ancora-ud-dev.txt'\n",
    "pool_path = '/Users/Maxine/Desktop/se_corpus/CORPUSDATA_ORG/sp_text_se_corpus.txt'\n",
    "\n",
    "train = pd.read_csv(train_path, sep='\\t', names=['text', 'tokenized_text', 'se_label'])\n",
    "train.drop(columns=['text'], inplace = True)\n",
    "dev = pd.read_csv(dev_path, sep='\\t', names=['text', 'tokenized_text', 'se_label']) # colab\n",
    "dev.drop(columns=['text'], inplace = True)\n",
    "test = pd.read_csv(test_path, sep='\\t', names=['text', 'tokenized_text', 'se_label']) # colab\n",
    "test.drop(columns=['text'], inplace = True)\n",
    "\n",
    "se_corpus = pd.concat([train, dev, test]) # because the data was fileted for 'se' the data splits are not reliable anymore\n",
    "se_corpus = se_corpus.drop(se_corpus[(se_corpus['se_label'] == 'flat')].index)\n",
    "se_corpus = se_corpus.drop(se_corpus[(se_corpus['se_label'] == 'fixed')].index)\n",
    "\n",
    "pool = pd.read_csv(pool_path, sep='\\t', names=['text'])\n",
    "\n"
   ]
  },
  {
   "cell_type": "code",
   "execution_count": 13,
   "outputs": [
    {
     "data": {
      "text/plain": "<Figure size 432x288 with 1 Axes>",
      "image/png": "[encoded data removed]"
     },
     "metadata": {
      "needs_background": "light"
     },
     "output_type": "display_data"
    }
   ],
   "source": [
    "get_class_dist(se_corpus.se_label)"
   ],
   "metadata": {
    "collapsed": false,
    "pycharm": {
     "name": "#%%\n"
    }
   }
  },
  {
   "cell_type": "code",
   "execution_count": 11,
   "outputs": [],
   "source": [
    "\"\"\"\n",
    "data split\n",
    "\"\"\"\n",
    "X = se_corpus.tokenized_text\n",
    "y = se_corpus.se_label\n",
    "\n",
    "# Split into train+val and test\n",
    "X_train, X_test, y_train, y_test = train_test_split(X, y, test_size=0.2, stratify=y, random_state=2022)\n"
   ],
   "metadata": {
    "collapsed": false,
    "pycharm": {
     "name": "#%%\n"
    }
   }
  },
  {
   "cell_type": "code",
   "execution_count": 14,
   "metadata": {
    "pycharm": {
     "name": "#%%\n"
    }
   },
   "outputs": [],
   "source": [
    "\"\"\"\n",
    "store value counts for making weighted data sets\n",
    "\"\"\"\n",
    "y_train_counter = dict(y_train.value_counts())"
   ]
  },
  {
   "cell_type": "code",
   "execution_count": 15,
   "metadata": {
    "pycharm": {
     "name": "#%%\n"
    }
   },
   "outputs": [],
   "source": [
    "label_encoder = preprocessing.LabelEncoder()\n",
    "vectorizer = CountVectorizer()\n",
    "\n",
    "X_train = vectorizer.fit_transform(X_train).toarray()\n",
    "X_test = vectorizer.transform(X_test).toarray()\n",
    "\n",
    "pool_vectorized = vectorizer.transform(pool.text).toarray()\n",
    "\n",
    "y_train = label_encoder.fit_transform(y_train)\n",
    "y_test = label_encoder.transform(y_test)\n"
   ]
  },
  {
   "cell_type": "code",
   "execution_count": 16,
   "metadata": {
    "pycharm": {
     "name": "#%%\n"
    }
   },
   "outputs": [],
   "source": [
    "class ClassifierDataset(Dataset):\n",
    "    def __init__(self, X_data, y_data):\n",
    "        self.X_data = X_data\n",
    "        self.y_data = y_data\n",
    "\n",
    "    def __getitem__(self, index):\n",
    "        return self.X_data[index], self.y_data[index]\n",
    "\n",
    "    def __len__(self):\n",
    "        return len(self.X_data)\n"
   ]
  },
  {
   "cell_type": "code",
   "execution_count": 17,
   "metadata": {
    "pycharm": {
     "name": "#%%\n"
    }
   },
   "outputs": [],
   "source": [
    "class PoolDataset(Dataset):\n",
    "    def __init__(self, X_data):\n",
    "        self.X_data = X_data\n",
    "\n",
    "    def __getitem__(self, index):\n",
    "        return self.X_data[index]\n",
    "\n",
    "    def __len__(self):\n",
    "        return len(self.X_data)"
   ]
  },
  {
   "cell_type": "code",
   "execution_count": 18,
   "metadata": {
    "pycharm": {
     "name": "#%%\n"
    }
   },
   "outputs": [],
   "source": [
    "\"\"\"\n",
    "convert data splits into Datasets\n",
    "\"\"\"\n",
    "train_set = ClassifierDataset(torch.from_numpy(X_train).float(), torch.from_numpy(y_train).long())\n",
    "test_set = ClassifierDataset(torch.from_numpy(X_test).float(), torch.from_numpy(y_test).long())\n",
    "\n",
    "pool_set = PoolDataset(torch.from_numpy(pool_vectorized).float())"
   ]
  },
  {
   "cell_type": "code",
   "execution_count": 19,
   "metadata": {
    "pycharm": {
     "name": "#%%\n"
    }
   },
   "outputs": [
    {
     "name": "stdout",
     "output_type": "stream",
     "text": [
      "label distribution:  dict_items([('expl:pv', 1669), ('expl:pass', 1147), ('obj', 258), ('expl:impers', 174), ('iobj', 150)]) \n",
      "assigned weights:  tensor([0.0006, 0.0009, 0.0039, 0.0057, 0.0067])\n"
     ]
    }
   ],
   "source": [
    "\"\"\"\n",
    "assign bigger weight to less frequent labels\n",
    "\"\"\"\n",
    "target_list = torch.tensor([target for _, target in train_set])\n",
    "class_count = [label for label in y_train_counter.values()]\n",
    "class_weight = 1./torch.tensor(class_count, dtype=torch.float)\n",
    "print('label distribution: ', y_train_counter.items(), '\\nassigned weights: ', class_weight)"
   ]
  },
  {
   "cell_type": "code",
   "execution_count": 20,
   "metadata": {
    "pycharm": {
     "name": "#%%\n"
    }
   },
   "outputs": [],
   "source": [
    "\"\"\"\n",
    "assign weight to each sample in the train set\n",
    "\"\"\"\n",
    "class_weight_all = class_weight[target_list]\n",
    "weighted_sampler = WeightedRandomSampler(weights=class_weight_all, num_samples=len(class_weight_all), replacement=True)"
   ]
  },
  {
   "cell_type": "code",
   "execution_count": 21,
   "metadata": {
    "pycharm": {
     "name": "#%%\n"
    }
   },
   "outputs": [],
   "source": [
    "\"\"\"\n",
    "convert Datasets into weighted DataLoader objects\n",
    "\"\"\"\n",
    "train_loader = DataLoader(dataset=train_set, batch_size=64, sampler=weighted_sampler)\n",
    "test_loader = DataLoader(dataset=test_set, batch_size=32)"
   ]
  },
  {
   "cell_type": "code",
   "execution_count": 25,
   "metadata": {
    "pycharm": {
     "name": "#%%\n"
    }
   },
   "outputs": [
    {
     "name": "stdout",
     "output_type": "stream",
     "text": [
      "Features batch shape: torch.Size([64, 17200])\n",
      "Labelss batch shape: torch.Size([64])\n",
      "\n",
      "Reshaped feature batch shape: torch.Size([64, 1, 17200])\n"
     ]
    }
   ],
   "source": [
    "\"\"\"\n",
    "LSTM need 3-D input: determine shape and reshape\n",
    "\"\"\"\n",
    "train_features, train_labels = next(iter(train_loader))\n",
    "print(f\"Features batch shape: {train_features.size()}\")\n",
    "print(f\"Labelss batch shape: {train_labels.size()}\")\n",
    "\n",
    "#reshaping to rows, timestamps, features\n",
    "train_features = torch.reshape(train_features,   (train_features.shape[0], 1,train_features.shape[1]))\n",
    "print(f\"\\nReshaped feature batch shape: {train_features.size()}\")"
   ]
  },
  {
   "cell_type": "code",
   "execution_count": 21,
   "metadata": {
    "pycharm": {
     "name": "#%%\n"
    }
   },
   "outputs": [],
   "source": [
    "test_features, test_labels = next(iter(test_loader))\n",
    "test_features = torch.reshape(test_features,   (test_features.shape[0], 1,test_features.shape[1]))"
   ]
  },
  {
   "cell_type": "code",
   "execution_count": 22,
   "metadata": {
    "pycharm": {
     "name": "#%%\n"
    }
   },
   "outputs": [],
   "source": [
    "X_pool = pool_set.X_data\n",
    "X_pool = torch.reshape(X_pool,   (X_pool.shape[0], 1, X_pool.shape[1]))\n",
    "X_pool = X_pool.detach().cpu().numpy()"
   ]
  },
  {
   "cell_type": "markdown",
   "source": [
    "## 4) Model"
   ],
   "metadata": {
    "collapsed": false
   }
  },
  {
   "cell_type": "code",
   "execution_count": 22,
   "outputs": [],
   "source": [
    "class LSTMModel(nn.Module):\n",
    "    def __init__(self,):\n",
    "        super(LSTMModel, self).__init__()\n",
    "        self.hidden_dim = 64\n",
    "        self.layer_dim = 1\n",
    "        # batch_first=True causes input/output tensors to be of shape\n",
    "        # (batch_dim, seq_dim, feature_dim)\n",
    "        self.lstm = nn.LSTM(16325, 64, 1, batch_first=True)\n",
    "        self.fc = nn.Linear(64, 5)\n",
    "\n",
    "    def forward(self, x):\n",
    "        # Initialize hidden state with zeros\n",
    "        h0 = torch.zeros(self.layer_dim, x.size(0), self.hidden_dim).requires_grad_().to(device)\n",
    "        c0 = torch.zeros(self.layer_dim, x.size(0), self.hidden_dim).requires_grad_().to(device)\n",
    "        out, (hn, cn) = self.lstm(x, (h0.detach(), c0.detach()))\n",
    "        out = self.fc(out[:, -1, :])\n",
    "        return out"
   ],
   "metadata": {
    "collapsed": false,
    "pycharm": {
     "name": "#%%\n"
    }
   }
  },
  {
   "cell_type": "code",
   "execution_count": 18,
   "outputs": [
    {
     "name": "stdout",
     "output_type": "stream",
     "text": [
      "using:  cpu\n"
     ]
    }
   ],
   "source": [
    "\"\"\"\n",
    "skorch library creates sklearn classifier from torch neural net\n",
    "\"\"\"\n",
    "batch_size = 64\n",
    "n_iters = 1000\n",
    "epochs = int(n_iters/(len(train_set)/ batch_size))\n",
    "\n",
    "# create the classifier\n",
    "device = \"cuda\" if torch.cuda.is_available() else \"cpu\"\n",
    "print('using: ', device)\n",
    "\n",
    "# Callbacks: print accuracy when model is fitted\n",
    "acc = EpochScoring(scoring='accuracy', on_train=False,\n",
    "                         name='accuracy', lower_is_better=False)\n",
    "\n",
    "f1 = EpochScoring(scoring='f1', on_train=False,\n",
    "                         name='f1-score', lower_is_better=False)\n",
    "\n",
    "callbacks = [acc, f1]\n",
    "\n",
    "classifier = NeuralNetClassifier(module=LSTMModel,\n",
    "                                 batch_size=64,\n",
    "                                 max_epochs= epochs,\n",
    "                                 criterion=nn.CrossEntropyLoss,\n",
    "                                 optimizer=torch.optim.SGD,\n",
    "                                 lr=0.1,\n",
    "                                 train_split=None,\n",
    "                                 callbacks=callbacks,\n",
    "                                 #callbacks__train_loss=None,\n",
    "                                 verbose=1,\n",
    "                                 device=device)"
   ],
   "metadata": {
    "collapsed": false,
    "pycharm": {
     "name": "#%%\n"
    }
   }
  },
  {
   "cell_type": "code",
   "execution_count": 23,
   "metadata": {
    "pycharm": {
     "name": "#%%\n"
    }
   },
   "outputs": [
    {
     "name": "stdout",
     "output_type": "stream",
     "text": [
      "  epoch    train_acc    train_loss     dur\n",
      "-------  -----------  ------------  ------\n",
      "      1       \u001B[36m0.0312\u001B[0m        \u001B[32m1.6198\u001B[0m  0.0331\n",
      "      2       \u001B[36m0.3125\u001B[0m        \u001B[32m1.5885\u001B[0m  0.0278\n",
      "      3       \u001B[36m0.5625\u001B[0m        \u001B[32m1.5591\u001B[0m  0.0221\n",
      "      4       \u001B[36m0.6094\u001B[0m        \u001B[32m1.5314\u001B[0m  0.0210\n",
      "      5       0.6094        \u001B[32m1.5054\u001B[0m  0.0230\n",
      "      6       0.6094        \u001B[32m1.4810\u001B[0m  0.0216\n",
      "      7       0.6094        \u001B[32m1.4581\u001B[0m  0.0237\n",
      "      8       0.6094        \u001B[32m1.4366\u001B[0m  0.0213\n",
      "      9       0.6094        \u001B[32m1.4164\u001B[0m  0.0226\n",
      "     10       0.6094        \u001B[32m1.3976\u001B[0m  0.0215\n",
      "     11       0.6094        \u001B[32m1.3800\u001B[0m  0.0214\n",
      "     12       0.6094        \u001B[32m1.3635\u001B[0m  0.0218\n",
      "     13       0.6094        \u001B[32m1.3481\u001B[0m  0.0235\n",
      "     14       0.6094        \u001B[32m1.3338\u001B[0m  0.0208\n",
      "     15       0.6094        \u001B[32m1.3204\u001B[0m  0.0235\n",
      "     16       0.6094        \u001B[32m1.3079\u001B[0m  0.0216\n",
      "     17       0.6094        \u001B[32m1.2963\u001B[0m  0.0224\n",
      "     18       0.6094        \u001B[32m1.2855\u001B[0m  0.0223\n",
      "     19       0.6094        \u001B[32m1.2755\u001B[0m  0.0226\n",
      "     20       0.6094        \u001B[32m1.2661\u001B[0m  0.0233\n"
     ]
    },
    {
     "data": {
      "text/plain": [
       "<class 'skorch.classifier.NeuralNetClassifier'>[initialized](\n",
       "  module_=LSTMModel(\n",
       "    (lstm): LSTM(16325, 64, batch_first=True)\n",
       "    (fc): Linear(in_features=64, out_features=5, bias=True)\n",
       "  ),\n",
       ")"
      ]
     },
     "execution_count": 23,
     "metadata": {},
     "output_type": "execute_result"
    }
   ],
   "source": [
    "classifier.fit(train_features, train_labels)"
   ]
  },
  {
   "cell_type": "markdown",
   "metadata": {},
   "source": []
  },
  {
   "cell_type": "code",
   "execution_count": null,
   "outputs": [],
   "source": [
    "targets = label_encoder.classes_\n",
    "\n",
    "y_pred_test = classifier.predict(X_test)\n",
    "print(classification_report(y_test, y_pred_test, target_names=targets, zero_division=0))"
   ],
   "metadata": {
    "collapsed": false,
    "pycharm": {
     "name": "#%%\n"
    }
   }
  },
  {
   "cell_type": "markdown",
   "metadata": {},
   "source": [
    "## 3) Active Learner"
   ]
  },
  {
   "cell_type": "code",
   "execution_count": 24,
   "metadata": {
    "pycharm": {
     "name": "#%%\n"
    }
   },
   "outputs": [],
   "source": [
    "\"\"\"\n",
    "Initialize the ActiveLearner with the fitted classifier\n",
    "\"\"\"\n",
    "# no training arguments because classifier is already fitted\n",
    "learner = ActiveLearner(estimator=classifier,\n",
    "                        query_strategy=uncertainty_sampling\n",
    ")"
   ]
  },
  {
   "cell_type": "code",
   "execution_count": 25,
   "metadata": {
    "pycharm": {
     "name": "#%%\n"
    }
   },
   "outputs": [],
   "source": [
    "n_instances = 3\n",
    "# n_instances = 20\n",
    "accuracies = [learner.score(X_test, y_test)] # append first accuracy without learning\n",
    "pool_sent_list= list() # store annotated sentences and the labels\n",
    "pool_label_list= list()"
   ]
  },
  {
   "cell_type": "markdown",
   "metadata": {},
   "source": [
    "### Loop\n",
    "- stops after 20 iterations\n",
    "- prompt sentence\n",
    "\n",
    "Problem: if annotation is 'None' (e.g in the case a sentence is discarded) the loop breaks. We have to discard certain sentences because when creating the underlying corpus\n",
    "phrases that do not contain 'se' like 'aunque a tu mac no le pase nada' were not discarded because there is no suited programmatical way to differentiate btw. 'pase' and 'siéntese'."
   ]
  },
  {
   "cell_type": "code",
   "execution_count": 1,
   "outputs": [],
   "source": [
    "number_of_loops = 3"
   ],
   "metadata": {
    "collapsed": false,
    "pycharm": {
     "name": "#%%\n"
    }
   }
  },
  {
   "cell_type": "code",
   "execution_count": 26,
   "metadata": {
    "pycharm": {
     "name": "#%%\n"
    }
   },
   "outputs": [
    {
     "data": {
      "application/vnd.jupyter.widget-view+json": {
       "model_id": "c884fe45a048408c97dbaf6b3326301a",
       "version_major": 2,
       "version_minor": 0
      },
      "text/plain": [
       "  0%|          | 0/10 [00:00<?, ?it/s]"
      ]
     },
     "metadata": {},
     "output_type": "display_data"
    },
    {
     "name": "stdout",
     "output_type": "stream",
     "text": [
      "10 records logged to http://localhost:6900/ws/rubrix/pytorch_active_learning_se_corpus\n",
      "confirm that annotations on rubrix are done\n"
     ]
    },
    {
     "name": "stderr",
     "output_type": "stream",
     "text": [
      "2022-04-06 17:13:40.686 | WARNING  | rubrix.client.rubrix_client:load:310 - The argument 'as_pandas' in `rb.load` will be deprecated in the future, and we will always return a `Dataset`. To emulate the future behavior set `as_pandas=False`. To get a pandas DataFrame, call `Dataset.to_pandas()`\n"
     ]
    },
    {
     "name": "stdout",
     "output_type": "stream",
     "text": [
      "Note: you either discarded samples or did not annotate all samples\n",
      "Re-initializing module.\n",
      "Re-initializing criterion.\n",
      "Re-initializing optimizer.\n",
      "  epoch    train_acc    train_loss     dur\n",
      "-------  -----------  ------------  ------\n",
      "      1       \u001B[36m0.1111\u001B[0m        \u001B[32m1.6212\u001B[0m  0.0151\n",
      "      2       \u001B[36m0.2222\u001B[0m        \u001B[32m1.5928\u001B[0m  0.0186\n",
      "      3       \u001B[36m0.5556\u001B[0m        \u001B[32m1.5656\u001B[0m  0.0125\n",
      "      4       \u001B[36m0.6667\u001B[0m        \u001B[32m1.5395\u001B[0m  0.0120\n",
      "      5       0.6667        \u001B[32m1.5146\u001B[0m  0.0146\n",
      "      6       0.5556        \u001B[32m1.4907\u001B[0m  0.0124\n",
      "      7       0.5556        \u001B[32m1.4678\u001B[0m  0.0153\n",
      "      8       0.5556        \u001B[32m1.4459\u001B[0m  0.0145\n",
      "      9       0.5556        \u001B[32m1.4249\u001B[0m  0.0137\n",
      "     10       0.5556        \u001B[32m1.4047\u001B[0m  0.0132\n",
      "     11       0.5556        \u001B[32m1.3854\u001B[0m  0.0133\n",
      "     12       0.5556        \u001B[32m1.3668\u001B[0m  0.0139\n",
      "     13       0.5556        \u001B[32m1.3489\u001B[0m  0.0160\n",
      "     14       0.5556        \u001B[32m1.3317\u001B[0m  0.0138\n",
      "     15       0.5556        \u001B[32m1.3151\u001B[0m  0.0140\n",
      "     16       0.5556        \u001B[32m1.2991\u001B[0m  0.0128\n",
      "     17       0.5556        \u001B[32m1.2837\u001B[0m  0.0136\n",
      "     18       0.5556        \u001B[32m1.2688\u001B[0m  0.0136\n",
      "     19       0.5556        \u001B[32m1.2543\u001B[0m  0.0143\n",
      "     20       0.5556        \u001B[32m1.2403\u001B[0m  0.0143\n"
     ]
    }
   ],
   "source": [
    "for i in range(number_of_loops):# annotate 10 times 20 instances\n",
    "\n",
    "    # query new instances\n",
    "    query_idx, query_inst = learner.query(X_pool, n_instances=n_instances)\n",
    "    predicted_proba = get_learners_preds(learner.predict_proba(X_pool[query_idx]))\n",
    "    sentences = pool.text.iloc[query_idx]\n",
    "\n",
    "    # annotate the queried instances\n",
    "    annotation = list()\n",
    "    counter = 0\n",
    "    for sent, proba in zip(sentences, predicted_proba):\n",
    "        counter += 1\n",
    "        sorted_proba = sorted(proba.items(), key=lambda kv: kv[1], reverse=True)\n",
    "        prompt = '\\n'+'loop: '+str(i+1)+'\\n'+'sentence: '+str(counter)+'\\n'+'The learners predictions are:'+'\\n'+str(sorted_proba)+'\\n\\n'+sent+'\\n'\n",
    "        label = str(input(prompt))\n",
    "        annotation.append(label)\n",
    "\n",
    "    # keep track of annotations\n",
    "    sent_list = sentences.to_list()\n",
    "    pool_sent_list.append(sent_list)\n",
    "    pool_label_list.append(annotation)\n",
    "\n",
    "    # filter out sentences that were assigned 'None'; the learner should not see them\n",
    "    if 'None' in annotation:\n",
    "        print('Note: you either discarded samples or did not annotate all samples')\n",
    "        discarded_idxs=[idx for idx, sample in enumerate(annotation) if sample == 'None'] # TODO\n",
    "        discarded_idxs = sorted(discarded_idxs, reverse=True)\n",
    "        for index in discarded_idxs:\n",
    "            query_inst = np.delete(query_inst, index, axis=0)\n",
    "        annotation = list(filter('None'.__ne__, annotation))\n",
    "\n",
    "\n",
    "    # teach the learner\n",
    "    y_pool = label_encoder.transform(annotation)\n",
    "    learner.teach(query_inst, y_pool)\n",
    "    accuracies.append(learner.score(X=X_test, y=y_test))\n",
    "\n",
    "    # delete queried instances from pool\n",
    "    X_pool = np.delete(X_pool, query_idx, axis=0)"
   ]
  },
  {
   "cell_type": "code",
   "execution_count": 27,
   "metadata": {
    "pycharm": {
     "name": "#%%\n"
    }
   },
   "outputs": [
    {
     "data": {
      "image/png": "[encoded data removed]",
      "text/plain": [
       "<Figure size 432x288 with 1 Axes>"
      ]
     },
     "metadata": {
      "needs_background": "light"
     },
     "output_type": "display_data"
    }
   ],
   "source": [
    "# plot learning curve\n",
    "with plt.style.context('seaborn-white'):\n",
    "    plt.figure(figsize=(10, 5))\n",
    "    plt.title('Accuracy of the classifier during the active learning')\n",
    "    plt.plot(range(number_of_loops+1), accuracies)\n",
    "    plt.scatter(range(number_of_loops+1), accuracies)\n",
    "    plt.xlabel('number of queries')\n",
    "    plt.ylabel('accuracy')\n",
    "    plt.show()"
   ]
  },
  {
   "cell_type": "code",
   "execution_count": 28,
   "metadata": {
    "pycharm": {
     "name": "#%%\n"
    }
   },
   "outputs": [
    {
     "data": {
      "text/plain": [
       "0.5"
      ]
     },
     "execution_count": 28,
     "metadata": {},
     "output_type": "execute_result"
    }
   ],
   "source": [
    "max(accuracies)"
   ]
  },
  {
   "cell_type": "code",
   "execution_count": null,
   "metadata": {
    "pycharm": {
     "name": "#%%\n"
    }
   },
   "outputs": [],
   "source": [
    "# create df from annotations\n",
    "sent_flattened = get_flattened_list(pool_sent_list)\n",
    "label_flattened = get_flattened_list(pool_label_list)\n",
    "\n",
    "labeled_pool = pd.DataFrame(list(zip(sent_flattened, label_flattened)),\n",
    "               columns =['text', 'se_label'])\n",
    "print(labeled_pool.shape)\n",
    "print(labeled_pool.head())"
   ]
  },
  {
   "cell_type": "code",
   "execution_count": null,
   "outputs": [],
   "source": [
    "# save labeled pool\n",
    "labeled_pool.to_csv('task_data/es_pytorch_annotations.txt', header=None, index=False,  sep='\\t')"
   ],
   "metadata": {
    "collapsed": false,
    "pycharm": {
     "name": "#%%\n"
    }
   }
  },
  {
   "cell_type": "code",
   "execution_count": null,
   "outputs": [],
   "source": [],
   "metadata": {
    "collapsed": false,
    "pycharm": {
     "name": "#%%\n"
    }
   }
  }
 ],
 "metadata": {
  "kernelspec": {
   "display_name": "Python 3",
   "language": "python",
   "name": "python3"
  },
  "language_info": {
   "codemirror_mode": {
    "name": "ipython",
    "version": 3
   },
   "file_extension": ".py",
   "mimetype": "text/x-python",
   "name": "python",
   "nbconvert_exporter": "python",
   "pygments_lexer": "ipython3",
   "version": "3.8.5"
  }
 },
 "nbformat": 4,
 "nbformat_minor": 1
}