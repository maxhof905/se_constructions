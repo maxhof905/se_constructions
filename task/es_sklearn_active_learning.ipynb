{
 "cells": [
  {
   "cell_type": "markdown",
   "metadata": {},
   "source": [
    "# Scikit-learn active learning loop: Spanish\n",
    "\n",
    "maxhof905"
   ]
  },
  {
   "cell_type": "markdown",
   "metadata": {},
   "source": [
    "sources:\n",
    "\n",
    "https://towardsdatascience.com/use-active-learning-to-boost-your-ml-problem-53c70f72b979\n",
    "\n",
    "https://scikit-learn.org/stable/tutorial/text_analytics/working_with_text_data.html\n",
    "\n",
    "https://docs.rubrix.ml/en/stable/tutorials/05-active_learning.html\n",
    "\n",
    "https://modal-python.readthedocs.io/en/latest/content/examples/interactive_labeling.html\n"
   ]
  },
  {
   "cell_type": "markdown",
   "metadata": {},
   "source": [
    "## 1) Imports"
   ]
  },
  {
   "cell_type": "code",
   "execution_count": 1,
   "metadata": {},
   "outputs": [],
   "source": [
    "import numpy as np\n",
    "import pandas as pd\n",
    "import seaborn as sns\n",
    "import matplotlib.pyplot as plt\n",
    "\n",
    "from sklearn.feature_extraction.text import CountVectorizer\n",
    "from sklearn import  preprocessing\n",
    "from sklearn.metrics import classification_report\n",
    "from sklearn.svm import LinearSVC\n",
    "from sklearn.naive_bayes import MultinomialNB\n",
    "from sklearn.model_selection import cross_val_score, train_test_split\n",
    "from sklearn.linear_model import LogisticRegression\n",
    "\n",
    "from modAL.models import ActiveLearner\n",
    "from modAL.uncertainty import uncertainty_sampling\n"
   ]
  },
  {
   "cell_type": "markdown",
   "metadata": {},
   "source": [
    "## 2) helper functions"
   ]
  },
  {
   "cell_type": "code",
   "execution_count": 2,
   "metadata": {},
   "outputs": [],
   "source": [
    "def get_class_dist(df_col):\n",
    "    \"\"\"\n",
    "    plot label distribution\n",
    "    \"\"\"\n",
    "    data = df_col.value_counts(normalize=True).rename('percentage').mul(100).reset_index().rename(columns = {\"index\":\"label\"})\n",
    "    plot = sns.barplot(x=\"label\", y=\"percentage\", data=data)\n",
    "    plot.set_xticklabels(plot.get_xticklabels(),rotation=90,horizontalalignment='right')\n"
   ]
  },
  {
   "cell_type": "code",
   "execution_count": 3,
   "metadata": {},
   "outputs": [],
   "source": [
    "def get_balanced_set(df):\n",
    "    \"\"\"\n",
    "    create balanced data set (oversampling)\n",
    "    \"\"\"\n",
    "    max_size = df['se_label'].value_counts().max()\n",
    "    balanced_list = [df]\n",
    "    for class_index, group in df.groupby('se_label'):\n",
    "        balanced_list.append(group.sample(max_size-len(group), replace=True))\n",
    "    return pd.concat(balanced_list)\n"
   ]
  },
  {
   "cell_type": "code",
   "execution_count": 4,
   "metadata": {
    "pycharm": {
     "name": "#%%\n"
    }
   },
   "outputs": [],
   "source": [
    "def get_flattened_list(nested_list):\n",
    "    \"\"\"\n",
    "    flatten a list of lists\n",
    "    \"\"\"\n",
    "    return [item for sublist in nested_list for item in sublist]\n"
   ]
  },
  {
   "cell_type": "code",
   "execution_count": 23,
   "metadata": {
    "pycharm": {
     "name": "#%%\n"
    }
   },
   "outputs": [],
   "source": [
    "def get_learners_preds(prediction_proba):\n",
    "    \"\"\"\n",
    "    return the learners predictions as a dict with the labels as keys and the probabilities as values\n",
    "    :param prediction_proba: values obtained from learner.predict()\n",
    "    :return: dict with probability per label\n",
    "    \"\"\"\n",
    "    prediction_proba = np.round(prediction_proba, 2)\n",
    "    prediction_list = list()\n",
    "    for i in range(len(prediction_proba)):\n",
    "        predictions = {'expl:impers': prediction_proba[i][0], 'expl:pass': prediction_proba[i][1],\n",
    "                      'expl:pv': prediction_proba[i][2], 'iobj': prediction_proba[i][3], 'obj': prediction_proba[i][4]}\n",
    "        prediction_list.append(predictions)\n",
    "    return prediction_list\n"
   ]
  },
  {
   "cell_type": "markdown",
   "metadata": {},
   "source": [
    "## 3) load and preprocess data\n",
    "- pool: unlabeled data (Corpus del Español)\n"
   ]
  },
  {
   "cell_type": "code",
   "execution_count": 26,
   "metadata": {},
   "outputs": [],
   "source": [
    "train_path = '../ud/es_data/es_ancora-ud-train.txt'\n",
    "test_path = '../ud/es_data/es_ancora-ud-test.txt'\n",
    "dev_path = '../ud/es_data/es_ancora-ud-dev.txt'\n",
    "pool_path = '../CORPUSDATA_ORG/sp_text_se_corpus.txt'\n",
    "\n",
    "train = pd.read_csv(train_path, sep='\\t', names=['text', 'tokenized_text', 'se_label']) \n",
    "train.drop(columns=['text'], inplace = True)\n",
    "dev = pd.read_csv(dev_path, sep='\\t', names=['text', 'tokenized_text', 'se_label']) # colab\n",
    "dev.drop(columns=['text'], inplace = True)\n",
    "test = pd.read_csv(test_path, sep='\\t', names=['text', 'tokenized_text', 'se_label']) # colab\n",
    "test.drop(columns=['text'], inplace = True)\n",
    "\n",
    "se_corpus = pd.concat([train, dev, test]) # because the data was filtered for 'se' the data splits are not reliable anymore\n",
    "se_corpus = se_corpus.drop(se_corpus[(se_corpus['se_label'] == 'flat')].index)\n",
    "se_corpus = se_corpus.drop(se_corpus[(se_corpus['se_label'] == 'fixed')].index)\n",
    "\n",
    "pool = pd.read_csv(pool_path, sep='\\t', names=['text']) \n"
   ]
  },
  {
   "cell_type": "code",
   "execution_count": 27,
   "metadata": {
    "pycharm": {
     "name": "#%%\n"
    }
   },
   "outputs": [
    {
     "data": {
      "text/plain": "<Figure size 432x288 with 1 Axes>",
      "image/png": "[encoded data removed]"
     },
     "metadata": {
      "needs_background": "light"
     },
     "output_type": "display_data"
    }
   ],
   "source": [
    "get_class_dist(se_corpus.se_label)\n"
   ]
  },
  {
   "cell_type": "code",
   "execution_count": 28,
   "metadata": {},
   "outputs": [
    {
     "name": "stdout",
     "output_type": "stream",
     "text": [
      "size train set:  (3398, 2) \n",
      "size oversampled train set:  (8345, 2)\n",
      "size test set:  (850, 2)\n"
     ]
    }
   ],
   "source": [
    "# create data splits\n",
    "X_train, X_test, y_train, y_test = train_test_split(se_corpus.tokenized_text.values, se_corpus.se_label.values,test_size=0.2,random_state=2022, stratify=se_corpus.se_label.values)\n",
    "\n",
    "initial_train = pd.DataFrame(data={'tokenized_text': X_train, 'se_label': y_train}) # rebuild df\n",
    "test = pd.DataFrame(data={'tokenized_text': X_test, 'se_label': y_test})\n",
    "\n",
    "balanced_train = get_balanced_set(initial_train) # create oversampled training set\n",
    "\n",
    "print('size train set: ', initial_train.shape, '\\nsize oversampled train set: ', balanced_train.shape)\n",
    "print('size test set: ', test.shape)\n"
   ]
  },
  {
   "cell_type": "code",
   "execution_count": 29,
   "metadata": {
    "pycharm": {
     "name": "#%%\n"
    }
   },
   "outputs": [],
   "source": [
    "# preprocess data\n",
    "label_encoder = preprocessing.LabelEncoder()\n",
    "vectorizer = CountVectorizer()\n",
    "\n",
    "X_train = vectorizer.fit_transform(initial_train.tokenized_text)\n",
    "X_balanced_train = vectorizer.transform(balanced_train.tokenized_text)\n",
    "X_test = vectorizer.transform(test.tokenized_text)\n",
    "X_pool = vectorizer.transform(pool.text)\n",
    "\n",
    "y_train = label_encoder.fit_transform(initial_train.se_label)\n",
    "y_balanced_train = label_encoder.transform(balanced_train.se_label)\n",
    "y_test = label_encoder.transform(test.se_label)\n"
   ]
  },
  {
   "cell_type": "code",
   "execution_count": 30,
   "metadata": {
    "pycharm": {
     "name": "#%%\n"
    }
   },
   "outputs": [
    {
     "name": "stdout",
     "output_type": "stream",
     "text": [
      "['expl:impers', 'expl:pass', 'expl:pv', 'iobj', 'obj'] [0 1 2 3 4]\n"
     ]
    }
   ],
   "source": [
    "# check assigned values\n",
    "print(list(label_encoder.classes_), label_encoder.transform(['expl:impers', 'expl:pass', 'expl:pv', 'iobj', 'obj']))\n"
   ]
  },
  {
   "cell_type": "markdown",
   "metadata": {},
   "source": [
    "## 4) Model\n",
    "- check accuracy values of different classifiers\n",
    "- check influence of parameter class_weight= ‘balanced’\n"
   ]
  },
  {
   "cell_type": "code",
   "execution_count": 31,
   "metadata": {
    "pycharm": {
     "name": "#%%\n"
    }
   },
   "outputs": [
    {
     "name": "stdout",
     "output_type": "stream",
     "text": [
      "model\n",
      "LinearSVC                      0.507448\n",
      "LinearSVC_balanced             0.508176\n",
      "LogisticRegression             0.509854\n",
      "LogisticRegression_balanced    0.513067\n",
      "MultinomialNB                  0.498094\n",
      "Name: f1_score_weighted, dtype: float64\n"
     ]
    }
   ],
   "source": [
    "models = [\n",
    "    LinearSVC(multi_class='ovr'),\n",
    "    LinearSVC(multi_class='ovr', class_weight='balanced'),\n",
    "    LogisticRegression(max_iter=1000),\n",
    "    LogisticRegression(max_iter=1000, class_weight='balanced'),\n",
    "    MultinomialNB(fit_prior=True),\n",
    "]\n",
    "\n",
    "cross_val = 10\n",
    "\n",
    "df_cross_val = pd.DataFrame(index=range(cross_val * len(models)))\n",
    "performances = []\n",
    "\n",
    "for model in models:\n",
    "    parameters = model.get_params()\n",
    "    if 'class_weight' in parameters.keys():\n",
    "        if parameters['class_weight'] == 'balanced':\n",
    "            model_name = model.__class__.__name__ + '_balanced'\n",
    "        else:\n",
    "            model_name = model.__class__.__name__\n",
    "    else:\n",
    "        model_name = model.__class__.__name__\n",
    "    f1_scores = cross_val_score(model,X_train, y_train, scoring='f1_weighted',cv=cross_val)\n",
    "    for fold_index, f1_score in enumerate(f1_scores):\n",
    "        performances.append((model_name, fold_index, f1_score))\n",
    "\n",
    "df_cross_val = pd.DataFrame(performances, columns=['model', 'fold_index', 'f1_score_weighted'])\n",
    "print(df_cross_val.groupby('model').f1_score_weighted.mean())\n"
   ]
  },
  {
   "cell_type": "code",
   "execution_count": 59,
   "metadata": {
    "pycharm": {
     "name": "#%%\n"
    }
   },
   "outputs": [
    {
     "name": "stdout",
     "output_type": "stream",
     "text": [
      "              precision    recall  f1-score   support\n",
      "\n",
      " expl:impers       0.43      0.23      0.30        44\n",
      "   expl:pass       0.52      0.53      0.52       287\n",
      "     expl:pv       0.60      0.72      0.66       417\n",
      "        iobj       0.08      0.03      0.04        37\n",
      "         obj       0.38      0.15      0.22        65\n",
      "\n",
      "    accuracy                           0.56       850\n",
      "   macro avg       0.41      0.33      0.35       850\n",
      "weighted avg       0.53      0.56      0.53       850\n",
      "\n"
     ]
    }
   ],
   "source": [
    "# choose best-performing classifier to evaluate on test set (baseline)\n",
    "\n",
    "targets = label_encoder.classes_\n",
    "\n",
    "clf = LogisticRegression(max_iter=1000, class_weight='balanced')\n",
    "clf.fit(X_balanced_train, y_balanced_train)\n",
    "\n",
    "y_pred_test = clf.predict(X_test)\n",
    "print(classification_report(y_test, y_pred_test, target_names=targets, zero_division=0))\n"
   ]
  },
  {
   "cell_type": "markdown",
   "metadata": {},
   "source": [
    "## 5) Active Learner"
   ]
  },
  {
   "cell_type": "code",
   "execution_count": 32,
   "metadata": {
    "pycharm": {
     "name": "#%%\n"
    }
   },
   "outputs": [],
   "source": [
    "# Initialize the ActiveLearner with the fitted classifier\n",
    "learner = ActiveLearner(estimator=LogisticRegression(max_iter=1000, class_weight='balanced'),\n",
    "                        query_strategy=uncertainty_sampling,\n",
    "                        X_training=X_balanced_train,\n",
    "                        y_training=y_balanced_train\n",
    "                        )\n"
   ]
  },
  {
   "cell_type": "code",
   "execution_count": 33,
   "metadata": {},
   "outputs": [],
   "source": [
    "#convert X_pool (scipy matrix) to numpy array\n",
    "X_pool = X_pool.toarray()\n"
   ]
  },
  {
   "cell_type": "code",
   "execution_count": 34,
   "metadata": {
    "pycharm": {
     "name": "#%%\n"
    }
   },
   "outputs": [],
   "source": [
    "# define variables for loop\n",
    "number_of_loops = 10\n",
    "n_instances = 20 # number of samples to be queried in each loop\n",
    "accuracies = [learner.score(X_test, y_test)] # append first accuracy without learning\n",
    "pool_sent_list= list() # to store annotated sentences\n",
    "pool_label_list= list() # to store annotated labels\n"
   ]
  },
  {
   "cell_type": "markdown",
   "metadata": {},
   "source": [
    "### Loop\n",
    "- annotate sentences that should be discarded with 'None'"
   ]
  },
  {
   "cell_type": "code",
   "execution_count": 35,
   "metadata": {
    "pycharm": {
     "name": "#%%\n"
    }
   },
   "outputs": [
    {
     "name": "stdout",
     "output_type": "stream",
     "text": [
      "Note: you either discarded samples or did not annotate all samples\n",
      "Note: you either discarded samples or did not annotate all samples\n",
      "Note: you either discarded samples or did not annotate all samples\n",
      "Note: you either discarded samples or did not annotate all samples\n",
      "Note: you either discarded samples or did not annotate all samples\n",
      "Note: you either discarded samples or did not annotate all samples\n",
      "Note: you either discarded samples or did not annotate all samples\n",
      "Note: you either discarded samples or did not annotate all samples\n",
      "Note: you either discarded samples or did not annotate all samples\n"
     ]
    }
   ],
   "source": [
    "for i in range(number_of_loops):\n",
    "\n",
    "    # query new samples\n",
    "    query_idx, query_inst = learner.query(X_pool, n_instances=n_instances)\n",
    "    predicted_proba = get_learners_preds(learner.predict_proba(X_pool[query_idx]))\n",
    "    sentences = pool.text.iloc[query_idx]\n",
    "\n",
    "    # label the queried samples\n",
    "    annotation = list()\n",
    "    counter = 0\n",
    "    for sent, proba in zip(sentences, predicted_proba):\n",
    "        counter += 1\n",
    "        sorted_proba = sorted(proba.items(), key=lambda kv: kv[1], reverse=True)\n",
    "        prompt = '\\n'+'loop: '+str(i+1)+'\\n'+'sentence: '+str(counter)+'\\n'+'The learners predictions are:'+'\\n'+str(sorted_proba)+'\\n\\n'+sent+'\\n'\n",
    "        label = str(input(prompt))\n",
    "        annotation.append(label)\n",
    "    \n",
    "    # keep track of labels\n",
    "    sent_list = sentences.to_list()\n",
    "    pool_sent_list.append(sent_list)\n",
    "    pool_label_list.append(annotation)\n",
    "\n",
    "    # filter out sentences that were assigned 'None'\n",
    "    if 'None' in annotation:\n",
    "        print('Note: you either discarded samples or did not annotate all samples')\n",
    "        discarded_idxs=[idx for idx, sample in enumerate(annotation) if sample == 'None']\n",
    "        discarded_idxs = sorted(discarded_idxs, reverse=True)\n",
    "        for index in discarded_idxs:\n",
    "            query_inst = np.delete(query_inst, index, axis=0)\n",
    "        annotation = list(filter('None'.__ne__, annotation))\n",
    "\n",
    "\n",
    "    # teach the learner\n",
    "    y_pool = label_encoder.transform(annotation)\n",
    "    learner.teach(query_inst, y_pool)\n",
    "    accuracies.append(learner.score(X=X_test, y=y_test))\n",
    "\n",
    "    # delete queried samples from pool\n",
    "    X_pool = np.delete(X_pool, query_idx, axis=0)\n"
   ]
  },
  {
   "cell_type": "code",
   "execution_count": 60,
   "metadata": {
    "pycharm": {
     "name": "#%%\n"
    }
   },
   "outputs": [
    {
     "data": {
      "text/plain": "<Figure size 864x576 with 1 Axes>",
      "image/png": "[encoded data removed]"
     },
     "metadata": {
      "needs_background": "light"
     },
     "output_type": "display_data"
    }
   ],
   "source": [
    "# plot learning curve\n",
    "with plt.style.context('bmh'):\n",
    "    csfont = {'fontname':'Times New Roman'}\n",
    "    plt.figure(figsize=(12, 8))\n",
    "    plt.plot(range(number_of_loops+1), accuracies)\n",
    "    plt.scatter(range(number_of_loops+1), accuracies)\n",
    "    plt.yticks(np.arange(0, 1.1, 0.1), fontsize=20, **csfont)\n",
    "    plt.xticks(np.arange(0, 11, 1), fontsize=20, **csfont)\n",
    "    plt.xlabel('loop number',fontsize=24, **csfont)\n",
    "    plt.ylabel('accuracy',fontsize=24, **csfont)\n",
    "    plt.savefig('al_plots/es_sklearn.png')\n",
    "    plt.tight_layout()\n",
    "    plt.show()\n"
   ]
  },
  {
   "cell_type": "code",
   "execution_count": 39,
   "metadata": {
    "pycharm": {
     "name": "#%%\n"
    }
   },
   "outputs": [
    {
     "name": "stdout",
     "output_type": "stream",
     "text": [
      "0.5576470588235294\n"
     ]
    }
   ],
   "source": [
    "# highest achieved accuracy\n",
    "print(max(accuracies))\n"
   ]
  },
  {
   "cell_type": "markdown",
   "source": [
    "initial accuracy is best, final accuracy is 0.54"
   ],
   "metadata": {
    "collapsed": false
   }
  },
  {
   "cell_type": "code",
   "execution_count": 40,
   "metadata": {
    "pycharm": {
     "name": "#%%\n"
    }
   },
   "outputs": [
    {
     "name": "stdout",
     "output_type": "stream",
     "text": [
      "(200, 2)\n",
      "                                                text     se_label\n",
      "0  Recibe retos porque no entiende lo que se le d...  expl:impers\n",
      "1  Quizás simplemente no quisieron responder a la...      expl:pv\n",
      "2  Buscó la forma más segura de detener se , no e...      expl:pv\n",
      "3  Tomados en sentido literal , argumentos como e...  expl:impers\n",
      "4  Algunas de las características / capacidades q...    expl:pass\n"
     ]
    }
   ],
   "source": [
    "# create df from annotations\n",
    "sent_flattened = get_flattened_list(pool_sent_list)\n",
    "label_flattened = get_flattened_list(pool_label_list)\n",
    "\n",
    "labeled_pool = pd.DataFrame(list(zip(sent_flattened, label_flattened)),\n",
    "               columns =['text', 'se_label'])\n",
    "print(labeled_pool.shape)\n",
    "print(labeled_pool.head())\n"
   ]
  },
  {
   "cell_type": "code",
   "execution_count": 41,
   "metadata": {
    "pycharm": {
     "name": "#%%\n"
    }
   },
   "outputs": [],
   "source": [
    "# save labeled pool\n",
    "labeled_pool.to_csv('labeled_data/es_sklearn_annotations.txt', header=None, index=False,  sep='\\t')"
   ]
  },
  {
   "cell_type": "code",
   "execution_count": null,
   "outputs": [],
   "source": [],
   "metadata": {
    "collapsed": false,
    "pycharm": {
     "name": "#%%\n"
    }
   }
  }
 ],
 "metadata": {
  "kernelspec": {
   "display_name": "Python 3",
   "language": "python",
   "name": "python3"
  },
  "language_info": {
   "codemirror_mode": {
    "name": "ipython",
    "version": 3
   },
   "file_extension": ".py",
   "mimetype": "text/x-python",
   "name": "python",
   "nbconvert_exporter": "python",
   "pygments_lexer": "ipython3",
   "version": "3.8.5"
  }
 },
 "nbformat": 4,
 "nbformat_minor": 1
}