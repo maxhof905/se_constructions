{
 "cells": [
  {
   "cell_type": "markdown",
   "metadata": {},
   "source": [
    "# Scikit-learn active learning loop: Portuguese\n",
    "\n",
    "Maxine Hofstetter"
   ]
  },
  {
   "cell_type": "markdown",
   "metadata": {},
   "source": [
    "sources:\n",
    "https://towardsdatascience.com/use-active-learning-to-boost-your-ml-problem-53c70f72b979\n",
    "sklearn: https://scikit-learn.org/stable/tutorial/text_analytics/working_with_text_data.html\n",
    "https://docs.rubrix.ml/en/stable/tutorials/05-active_learning.html\n",
    "https://modal-python.readthedocs.io/en/latest/content/examples/interactive_labeling.html"
   ]
  },
  {
   "cell_type": "code",
   "execution_count": 9,
   "metadata": {
    "scrolled": true
   },
   "outputs": [],
   "source": [
    "import numpy as np\n",
    "import pandas as pd\n",
    "import seaborn as sns\n",
    "import matplotlib.pyplot as plt\n",
    "\n",
    "from sklearn.feature_extraction.text import CountVectorizer\n",
    "from sklearn import  preprocessing\n",
    "from sklearn.metrics import classification_report\n",
    "from sklearn.svm import LinearSVC\n",
    "from sklearn.naive_bayes import MultinomialNB\n",
    "from sklearn.model_selection import cross_val_score, train_test_split\n",
    "from sklearn.linear_model import LogisticRegression\n",
    "\n",
    "from modAL.models import ActiveLearner\n",
    "from modAL.uncertainty import uncertainty_sampling\n"
   ]
  },
  {
   "cell_type": "markdown",
   "metadata": {},
   "source": [
    "## 2) helper functions"
   ]
  },
  {
   "cell_type": "code",
   "execution_count": 2,
   "metadata": {},
   "outputs": [],
   "source": [
    "def get_class_dist(df_col):\n",
    "    \"\"\"\n",
    "    plot label distribution\n",
    "    \"\"\"\n",
    "    data = df_col.value_counts(normalize=True).rename('percentage').mul(100).reset_index().rename(columns = {\"index\":\"label\"})\n",
    "    plot = sns.barplot(x=\"label\", y=\"percentage\", data=data)\n",
    "    plot.set_xticklabels(plot.get_xticklabels(), rotation=90, horizontalalignment='right')\n"
   ]
  },
  {
   "cell_type": "code",
   "execution_count": 3,
   "metadata": {},
   "outputs": [],
   "source": [
    "def get_balanced_set(df):\n",
    "    \"\"\"\n",
    "    create balanced data set (oversampling)\n",
    "    \"\"\"\n",
    "    max_size = df['se_label'].value_counts().max()\n",
    "    balanced_list = [df]\n",
    "    for class_index, group in df.groupby('se_label'):\n",
    "        balanced_list.append(group.sample(max_size-len(group), replace=True))\n",
    "    return pd.concat(balanced_list)\n"
   ]
  },
  {
   "cell_type": "code",
   "execution_count": 4,
   "metadata": {
    "pycharm": {
     "name": "#%%\n"
    }
   },
   "outputs": [],
   "source": [
    "def get_flattened_list(nested_list):\n",
    "    \"\"\"\n",
    "    flatten a list of lists\n",
    "    \"\"\"\n",
    "    return [item for sublist in nested_list for item in sublist]\n"
   ]
  },
  {
   "cell_type": "code",
   "execution_count": 30,
   "metadata": {
    "pycharm": {
     "name": "#%%\n"
    }
   },
   "outputs": [],
   "source": [
    "def get_learners_preds(prediction_proba):\n",
    "    \"\"\"\n",
    "    return the learners predictions as a dict with labels as keys and the probabilities as values\n",
    "    :param prediction_proba: values obtained from learner.predict()\n",
    "    :return: dict with probability per label\n",
    "    \"\"\"\n",
    "    prediction_proba = np.round(prediction_proba, 2)\n",
    "    prediction_list = list()\n",
    "    for i in range(len(prediction_proba)):\n",
    "        predictions = {'expl': prediction_proba[i][0], 'fixed': prediction_proba[i][1],\n",
    "                       'iobj': prediction_proba[i][2], 'mark': prediction_proba[i][3],\n",
    "                       'nsubj': prediction_proba[i][4], 'obj': prediction_proba[i][5]}\n",
    "        prediction_list.append(predictions)\n",
    "    return prediction_list\n"
   ]
  },
  {
   "cell_type": "markdown",
   "metadata": {},
   "source": [
    "## 3) load and preprocess data\n",
    "- pool: unlabeled data (Corpus do Português)\n"
   ]
  },
  {
   "cell_type": "code",
   "execution_count": 6,
   "metadata": {},
   "outputs": [],
   "source": [
    "train_path = '/Users/Maxine/Desktop/se_corpus/ud/pt_data/pt_bosque-ud-train.txt'\n",
    "test_path = '/Users/Maxine/Desktop/se_corpus/ud/pt_data/pt_bosque-ud-test.txt'\n",
    "dev_path = '/Users/Maxine/Desktop/se_corpus/ud/pt_data/pt_bosque-ud-dev.txt'\n",
    "pool_path = '/Users/Maxine/Desktop/se_corpus/CORPUSDATA_ORG/pt_text_se_corpus.txt'\n",
    "\n",
    "train = pd.read_csv(train_path, sep='\\t', names=['text', 'tokenized_text', 'se_label']) \n",
    "train.drop(columns=['text'], inplace = True)\n",
    "dev = pd.read_csv(dev_path, sep='\\t', names=['text', 'tokenized_text', 'se_label']) # colab\n",
    "dev.drop(columns=['text'], inplace = True)\n",
    "test = pd.read_csv(test_path, sep='\\t', names=['text', 'tokenized_text', 'se_label']) # colab\n",
    "test.drop(columns=['text'], inplace = True)\n",
    "\n",
    "se_corpus = pd.concat([train, dev, test]) # because the data was filtered for 'se' the data splits are not reliable anymore\n",
    "se_corpus = se_corpus.drop(se_corpus[(se_corpus['se_label'] == 'expl:pass')].index)\n",
    "se_corpus = se_corpus.drop(se_corpus[(se_corpus['se_label'] == 'case')].index)\n",
    "se_corpus = se_corpus.drop(se_corpus[(se_corpus['se_label'] == 'nmod')].index)\n",
    "\n",
    "pool = pd.read_csv(pool_path, sep='\\t', names=['text']) \n"
   ]
  },
  {
   "cell_type": "code",
   "execution_count": 7,
   "metadata": {
    "pycharm": {
     "name": "#%%\n"
    }
   },
   "outputs": [
    {
     "data": {
      "image/png": "[encoded data removed]",
      "text/plain": [
       "<Figure size 432x288 with 1 Axes>"
      ]
     },
     "metadata": {
      "needs_background": "light"
     },
     "output_type": "display_data"
    }
   ],
   "source": [
    "get_class_dist(se_corpus.se_label)\n"
   ]
  },
  {
   "cell_type": "code",
   "execution_count": 11,
   "metadata": {},
   "outputs": [
    {
     "name": "stdout",
     "output_type": "stream",
     "text": [
      "size train set:  (1005, 2) \n",
      "size oversampled train set:  (4333, 2)\n",
      "size test set:  (252, 2)\n"
     ]
    }
   ],
   "source": [
    "# create data splits\n",
    "X_train, X_test, y_train, y_test = train_test_split(se_corpus.tokenized_text.values, se_corpus.se_label.values,test_size=0.2,random_state=2022, stratify=se_corpus.se_label.values)\n",
    "\n",
    "initial_train = pd.DataFrame(data={'tokenized_text': X_train, 'se_label': y_train}) # rebuild df\n",
    "test = pd.DataFrame(data={'tokenized_text': X_test, 'se_label': y_test})\n",
    "\n",
    "balanced_train = get_balanced_set(initial_train) # create oversampled training set\n",
    "\n",
    "print('size train set: ', initial_train.shape, '\\nsize oversampled train set: ', balanced_train.shape)\n",
    "print('size test set: ', test.shape)\n"
   ]
  },
  {
   "cell_type": "code",
   "execution_count": 12,
   "metadata": {
    "pycharm": {
     "name": "#%%\n"
    }
   },
   "outputs": [],
   "source": [
    "# preprocess data\n",
    "label_encoder = preprocessing.LabelEncoder()\n",
    "vectorizer = CountVectorizer()\n",
    "\n",
    "X_train = vectorizer.fit_transform(initial_train.tokenized_text)\n",
    "X_balanced_train = vectorizer.transform(balanced_train.tokenized_text)\n",
    "X_test = vectorizer.transform(test.tokenized_text)\n",
    "X_pool = vectorizer.transform(pool.text)\n",
    "\n",
    "y_train = label_encoder.fit_transform(initial_train.se_label)\n",
    "y_balanced_train = label_encoder.transform(balanced_train.se_label)\n",
    "y_test = label_encoder.transform(test.se_label)\n"
   ]
  },
  {
   "cell_type": "code",
   "execution_count": 17,
   "metadata": {
    "pycharm": {
     "name": "#%%\n"
    }
   },
   "outputs": [
    {
     "name": "stdout",
     "output_type": "stream",
     "text": [
      "['expl', 'expl:pass', 'fixed', 'iobj', 'mark', 'nsubj', 'obj'] [0 1 2 3 4 5 6]\n"
     ]
    }
   ],
   "source": [
    "# check assigned values\n",
    "print(list(label_encoder.classes_), label_encoder.transform(['expl', 'fixed', 'iobj', 'mark', 'nsubj', 'obj']))\n"
   ]
  },
  {
   "cell_type": "markdown",
   "metadata": {},
   "source": [
    "## 4) Model\n",
    "- check accuracy values of different classifiers\n",
    "- check influence of parameter class_weight= ‘balanced’\n"
   ]
  },
  {
   "cell_type": "code",
   "execution_count": 18,
   "metadata": {
    "pycharm": {
     "name": "#%%\n"
    }
   },
   "outputs": [
    {
     "name": "stdout",
     "output_type": "stream",
     "text": [
      "model\n",
      "LinearSVC             0.974262\n",
      "LogisticRegression    0.973250\n",
      "MultinomialNB         0.930992\n",
      "Name: f1_score_weighted, dtype: float64\n"
     ]
    }
   ],
   "source": [
    "\"\"\"\n",
    "the least populated class only has 9 members, so 10-fold cross validation isn't accurate. Use oversampled set from the start (justification: proved to allow for more accurate training in the spanish notebook)\n",
    "\"\"\"\n",
    "\n",
    "models = [\n",
    "    LinearSVC(multi_class='ovr', max_iter=3000),\n",
    "    LogisticRegression(max_iter=1000),\n",
    "    MultinomialNB(fit_prior=True),\n",
    "]\n",
    "\n",
    "cross_val = 10\n",
    "\n",
    "df_cross_val = pd.DataFrame(index=range(cross_val * len(models)))\n",
    "performances = []\n",
    "\n",
    "for model in models:\n",
    "    parameters = model.get_params()\n",
    "    if 'class_weight' in parameters.keys():\n",
    "        if parameters['class_weight'] == 'balanced':\n",
    "            model_name = model.__class__.__name__ + '_balanced'\n",
    "        else:\n",
    "            model_name = model.__class__.__name__\n",
    "    else:\n",
    "        model_name = model.__class__.__name__\n",
    "    f1_scores = cross_val_score(model,X_balanced_train, y_balanced_train, scoring='f1_weighted',cv=cross_val)\n",
    "    for fold_index, f1_score in enumerate(f1_scores):\n",
    "        performances.append((model_name, fold_index, f1_score))\n",
    "\n",
    "df_cross_val = pd.DataFrame(performances, columns=['model', 'fold_index', 'f1_score_weighted'])\n",
    "print(df_cross_val.groupby('model').f1_score_weighted.mean())"
   ]
  },
  {
   "cell_type": "code",
   "execution_count": 19,
   "metadata": {
    "pycharm": {
     "name": "#%%\n"
    }
   },
   "outputs": [
    {
     "ename": "ValueError",
     "evalue": "Number of classes, 6, does not match size of target_names, 7. Try specifying the labels parameter",
     "output_type": "error",
     "traceback": [
      "\u001B[0;31m---------------------------------------------------------------------------\u001B[0m",
      "\u001B[0;31mValueError\u001B[0m                                Traceback (most recent call last)",
      "\u001B[0;32m<ipython-input-19-2c799860c1b3>\u001B[0m in \u001B[0;36m<module>\u001B[0;34m\u001B[0m\n\u001B[1;32m      7\u001B[0m \u001B[0;34m\u001B[0m\u001B[0m\n\u001B[1;32m      8\u001B[0m \u001B[0my_pred_test\u001B[0m \u001B[0;34m=\u001B[0m \u001B[0mclf\u001B[0m\u001B[0;34m.\u001B[0m\u001B[0mpredict\u001B[0m\u001B[0;34m(\u001B[0m\u001B[0mX_test\u001B[0m\u001B[0;34m)\u001B[0m\u001B[0;34m\u001B[0m\u001B[0;34m\u001B[0m\u001B[0m\n\u001B[0;32m----> 9\u001B[0;31m \u001B[0mprint\u001B[0m\u001B[0;34m(\u001B[0m\u001B[0mclassification_report\u001B[0m\u001B[0;34m(\u001B[0m\u001B[0my_test\u001B[0m\u001B[0;34m,\u001B[0m \u001B[0my_pred_test\u001B[0m\u001B[0;34m,\u001B[0m \u001B[0mtarget_names\u001B[0m\u001B[0;34m=\u001B[0m\u001B[0mtargets\u001B[0m\u001B[0;34m,\u001B[0m \u001B[0mzero_division\u001B[0m\u001B[0;34m=\u001B[0m\u001B[0;36m0\u001B[0m\u001B[0;34m)\u001B[0m\u001B[0;34m)\u001B[0m\u001B[0;34m\u001B[0m\u001B[0;34m\u001B[0m\u001B[0m\n\u001B[0m",
      "\u001B[0;32m/Library/Frameworks/Python.framework/Versions/3.8/lib/python3.8/site-packages/sklearn/metrics/_classification.py\u001B[0m in \u001B[0;36mclassification_report\u001B[0;34m(y_true, y_pred, labels, target_names, sample_weight, digits, output_dict, zero_division)\u001B[0m\n\u001B[1;32m   2130\u001B[0m             )\n\u001B[1;32m   2131\u001B[0m         \u001B[0;32melse\u001B[0m\u001B[0;34m:\u001B[0m\u001B[0;34m\u001B[0m\u001B[0;34m\u001B[0m\u001B[0m\n\u001B[0;32m-> 2132\u001B[0;31m             raise ValueError(\n\u001B[0m\u001B[1;32m   2133\u001B[0m                 \u001B[0;34m\"Number of classes, {0}, does not match size of \"\u001B[0m\u001B[0;34m\u001B[0m\u001B[0;34m\u001B[0m\u001B[0m\n\u001B[1;32m   2134\u001B[0m                 \u001B[0;34m\"target_names, {1}. Try specifying the labels \"\u001B[0m\u001B[0;34m\u001B[0m\u001B[0;34m\u001B[0m\u001B[0m\n",
      "\u001B[0;31mValueError\u001B[0m: Number of classes, 6, does not match size of target_names, 7. Try specifying the labels parameter"
     ]
    }
   ],
   "source": [
    "# choose best-performing classifier to evaluate on test set (baseline)\n",
    "\n",
    "targets = label_encoder.classes_\n",
    "\n",
    "clf = LogisticRegression(max_iter=1000)\n",
    "clf.fit(X_balanced_train, y_balanced_train)\n",
    "\n",
    "y_pred_test = clf.predict(X_test)\n",
    "print(classification_report(y_test, y_pred_test, target_names=targets, zero_division=0))\n"
   ]
  },
  {
   "cell_type": "markdown",
   "metadata": {},
   "source": [
    "## 5) Active Learner"
   ]
  },
  {
   "cell_type": "code",
   "execution_count": 20,
   "metadata": {
    "pycharm": {
     "name": "#%%\n"
    }
   },
   "outputs": [],
   "source": [
    "# Initialize the ActiveLearner with the fitted classifier\n",
    "learner = ActiveLearner(estimator=LogisticRegression(max_iter=10000),\n",
    "                        query_strategy=uncertainty_sampling,\n",
    "                        X_training=X_balanced_train, \n",
    "                        y_training=y_balanced_train\n",
    "                        )\n"
   ]
  },
  {
   "cell_type": "code",
   "execution_count": 21,
   "metadata": {},
   "outputs": [],
   "source": [
    "#convert X_pool (scipy matrix) to numpy array\n",
    "X_pool = X_pool.toarray()\n"
   ]
  },
  {
   "cell_type": "code",
   "execution_count": 38,
   "metadata": {
    "pycharm": {
     "name": "#%%\n"
    }
   },
   "outputs": [],
   "source": [
    "# define variables for loop\n",
    "number_of_loops = 10\n",
    "n_instances = 20 # number of samples to be queried in each loop\n",
    "accuracies = [learner.score(X_test, y_test)] # append first accuracy without learning\n",
    "pool_sent_list= list() # to store annotated sentences\n",
    "pool_label_list= list() # to store annotated labels\n"
   ]
  },
  {
   "cell_type": "markdown",
   "metadata": {},
   "source": [
    "### Loop\n",
    "- annotate sentences that should be discarded with 'None'"
   ]
  },
  {
   "cell_type": "code",
   "execution_count": 39,
   "metadata": {
    "pycharm": {
     "name": "#%%\n"
    }
   },
   "outputs": [
    {
     "name": "stdout",
     "output_type": "stream",
     "text": [
      "\n",
      "loop: 1\n",
      "sentence: 1\n",
      "The learners predictions are:\n",
      "[('nsubj', 0.25), ('obj', 0.24), ('expl', 0.21), ('mark', 0.16), ('fixed', 0.11), ('iobj', 0.02), ('expl:pass', 0.0)]\n",
      "\n",
      "Não posso manter uma carreira estável e bem paga só porque todo mundo diz que esse é o melhor caminho , se meu coração , meu corpo e o corpo de a minha filha berram dizendo que não é por aí .\n",
      "expl\n",
      "\n",
      "loop: 1\n",
      "sentence: 2\n",
      "The learners predictions are:\n",
      "[('expl', 0.26), ('iobj', 0.2), ('obj', 0.19), ('nsubj', 0.18), ('mark', 0.17), ('fixed', 0.01), ('expl:pass', 0.0)]\n",
      "\n",
      "Eh dureza em os primeiros dias , mas depois você se acostuma e fica mais fácil .\n",
      "fixed\n",
      "\n",
      "loop: 1\n",
      "sentence: 3\n",
      "The learners predictions are:\n",
      "[('fixed', 0.26), ('mark', 0.24), ('obj', 0.21), ('expl', 0.15), ('nsubj', 0.13), ('iobj', 0.01), ('expl:pass', 0.0)]\n",
      "\n",
      "Não se sabe exatamente onde é feito e nem quem sorteia , mas o Brasil inteiro utiliza os resultados , que em alguns minutos já está espalhado por o país inteiro , sendo divulgado em diversas fontes de comunicação .\n",
      "mark\n",
      "\n",
      "loop: 2\n",
      "sentence: 1\n",
      "The learners predictions are:\n",
      "[('fixed', 0.25), ('nsubj', 0.23), ('expl', 0.22), ('obj', 0.17), ('mark', 0.12), ('expl:pass', 0.01), ('iobj', 0.01)]\n",
      "\n",
      "Era como se eu estivesse respirando por as costelas .\n",
      "iobj\n",
      "\n",
      "loop: 2\n",
      "sentence: 2\n",
      "The learners predictions are:\n",
      "[('fixed', 0.26), ('nsubj', 0.24), ('expl', 0.23), ('mark', 0.13), ('obj', 0.1), ('iobj', 0.04), ('expl:pass', 0.0)]\n",
      "\n",
      "Deveria ser uma clínica em vez de uma prisão , e esses homens deveriam ser enviados para lá e mantidos lá até que se curassem . '\n",
      "obj\n",
      "\n",
      "loop: 2\n",
      "sentence: 3\n",
      "The learners predictions are:\n",
      "[('nsubj', 0.26), ('mark', 0.25), ('obj', 0.21), ('fixed', 0.15), ('expl', 0.13), ('expl:pass', 0.01), ('iobj', 0.0)]\n",
      "\n",
      "E que ele como dito tem se chama Manuel Rodrigues , é casado com Antónia do Loureiro , de a qual tem dois filhos , chamados António e Agostinho , o mais velho terá cinco anos de idade .\n",
      "expl\n",
      "\n",
      "loop: 3\n",
      "sentence: 1\n",
      "The learners predictions are:\n",
      "[('fixed', 0.24), ('obj', 0.22), ('nsubj', 0.2), ('mark', 0.19), ('expl', 0.11), ('iobj', 0.03), ('expl:pass', 0.01)]\n",
      "\n",
      "Existem inúmeros livros que ensinam qual é a postura de um milionário , como ele deve se comportar psicologicamente .\n",
      "nsubj\n",
      "\n",
      "loop: 3\n",
      "sentence: 2\n",
      "The learners predictions are:\n",
      "[('mark', 0.24), ('expl', 0.22), ('iobj', 0.21), ('fixed', 0.18), ('obj', 0.09), ('nsubj', 0.06), ('expl:pass', 0.0)]\n",
      "\n",
      "As pessoas não dão valor a ela , mas , se você for proibido de ver la , lhe dará valor .\n",
      "None\n",
      "\n",
      "loop: 3\n",
      "sentence: 3\n",
      "The learners predictions are:\n",
      "[('iobj', 0.25), ('expl', 0.24), ('fixed', 0.21), ('mark', 0.18), ('obj', 0.08), ('nsubj', 0.05), ('expl:pass', 0.0)]\n",
      "\n",
      "Algo se partiu em mim por causa de as suas palavras secas .\n",
      "mark\n",
      "Note: you either discarded samples or did not annotate all samples\n"
     ]
    }
   ],
   "source": [
    "for i in range(number_of_loops):\n",
    "\n",
    "    # query new samples\n",
    "    query_idx, query_inst = learner.query(X_pool, n_instances=n_instances)\n",
    "    predicted_proba = get_learners_preds(learner.predict_proba(X_pool[query_idx]))\n",
    "    sentences = pool.text.iloc[query_idx]\n",
    "\n",
    "\n",
    "    # annotate the queried samples\n",
    "    annotation = list()\n",
    "    counter = 0\n",
    "    for sent, proba in zip(sentences, predicted_proba):\n",
    "        counter += 1\n",
    "        sorted_proba = sorted(proba.items(), key=lambda kv: kv[1], reverse=True)\n",
    "        prompt = '\\n'+'loop: '+str(i+1)+'\\n'+'sentence: '+str(counter)+'\\n'+'The learners predictions are:'+'\\n'+str(sorted_proba)+'\\n\\n'+sent+'\\n'\n",
    "        label = str(input(prompt))\n",
    "        annotation.append(label)\n",
    "    \n",
    "    # keep track of annotations\n",
    "    sent_list = sentences.to_list()\n",
    "    pool_sent_list.append(sent_list)\n",
    "    pool_label_list.append(annotation)\n",
    "\n",
    "    # filter out sentences that were assigned 'None'; the learner should not see them\n",
    "    if 'None' in annotation:\n",
    "        print('Note: you either discarded samples or did not annotate all samples')\n",
    "        discarded_idxs=[idx for idx, sample in enumerate(annotation) if sample == 'None']\n",
    "        discarded_idxs = sorted(discarded_idxs, reverse=True)\n",
    "        for index in discarded_idxs:\n",
    "            query_inst = np.delete(query_inst, index, axis=0)\n",
    "        annotation = list(filter('None'.__ne__, annotation))\n",
    "\n",
    "\n",
    "    # teach the learner\n",
    "    y_pool = label_encoder.transform(annotation)\n",
    "    learner.teach(query_inst, y_pool)\n",
    "    accuracies.append(learner.score(X=X_test, y=y_test))\n",
    "\n",
    "    # delete queried samples from pool\n",
    "    X_pool = np.delete(X_pool, query_idx, axis=0)\n"
   ]
  },
  {
   "cell_type": "code",
   "execution_count": 40,
   "metadata": {
    "pycharm": {
     "name": "#%%\n"
    }
   },
   "outputs": [
    {
     "data": {
      "image/png": "[encoded data removed]",
      "text/plain": [
       "<Figure size 720x360 with 1 Axes>"
      ]
     },
     "metadata": {},
     "output_type": "display_data"
    }
   ],
   "source": [
    "# plot learning curve\n",
    "with plt.style.context('bmh'):\n",
    "    plt.figure(figsize=(12, 8))\n",
    "    plt.title('Active learning loop')\n",
    "    plt.plot(range(number_of_loops+1), accuracies)\n",
    "    plt.scatter(range(number_of_loops+1), accuracies)\n",
    "    plt.yticks(np.arange(0, 1.1, 0.1))\n",
    "    plt.xticks(np.arange(0, 11, 1))\n",
    "    plt.xlabel('loop number')\n",
    "    plt.ylabel('accuracy')\n",
    "    plt.tight_layout()\n",
    "    plt.show()\n"
   ]
  },
  {
   "cell_type": "code",
   "execution_count": 41,
   "metadata": {
    "pycharm": {
     "name": "#%%\n"
    }
   },
   "outputs": [
    {
     "name": "stdout",
     "output_type": "stream",
     "text": [
      "0.626984126984127\n"
     ]
    }
   ],
   "source": [
    "print(max(accuracies))\n"
   ]
  },
  {
   "cell_type": "code",
   "execution_count": 42,
   "metadata": {
    "pycharm": {
     "is_executing": true,
     "name": "#%%\n"
    }
   },
   "outputs": [
    {
     "name": "stdout",
     "output_type": "stream",
     "text": [
      "(9, 2)\n",
      "                                                text se_label\n",
      "0  Não posso manter uma carreira estável e bem pa...     expl\n",
      "1  Eh dureza em os primeiros dias , mas depois vo...    fixed\n",
      "2  Não se sabe exatamente onde é feito e nem quem...     mark\n",
      "3  Era como se eu estivesse respirando por as cos...     iobj\n",
      "4  Deveria ser uma clínica em vez de uma prisão ,...      obj\n"
     ]
    }
   ],
   "source": [
    "# create df from annotations\n",
    "sent_flattened = get_flattened_list(pool_sent_list)\n",
    "label_flattened = get_flattened_list(pool_label_list)\n",
    "\n",
    "labeled_pool = pd.DataFrame(list(zip(sent_flattened, label_flattened)),\n",
    "               columns =['text', 'se_label'])\n",
    "print(labeled_pool.shape)\n",
    "print(labeled_pool.head())\n"
   ]
  },
  {
   "cell_type": "code",
   "execution_count": null,
   "metadata": {},
   "outputs": [],
   "source": [
    "# save labeled pool\n",
    "labeled_pool.to_csv('task_data/pt_sklearn_annotations.txt', header=None, index=False,  sep='\\t')\n"
   ]
  }
 ],
 "metadata": {
  "kernelspec": {
   "display_name": "Python 3",
   "language": "python",
   "name": "python3"
  },
  "language_info": {
   "codemirror_mode": {
    "name": "ipython",
    "version": 3
   },
   "file_extension": ".py",
   "mimetype": "text/x-python",
   "name": "python",
   "nbconvert_exporter": "python",
   "pygments_lexer": "ipython3",
   "version": "3.8.5"
  }
 },
 "nbformat": 4,
 "nbformat_minor": 1
}