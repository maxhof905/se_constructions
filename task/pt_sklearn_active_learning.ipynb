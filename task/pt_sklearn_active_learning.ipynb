{
 "cells": [
  {
   "cell_type": "markdown",
   "metadata": {},
   "source": [
    "# Scikit-learn active learning loop: Portuguese\n",
    "\n",
    "Maxine Hofstetter"
   ]
  },
  {
   "cell_type": "markdown",
   "metadata": {},
   "source": [
    "sources:\n",
    "\n",
    "https://towardsdatascience.com/use-active-learning-to-boost-your-ml-problem-53c70f72b979\n",
    "\n",
    "https://scikit-learn.org/stable/tutorial/text_analytics/working_with_text_data.html\n",
    "\n",
    "https://docs.rubrix.ml/en/stable/tutorials/05-active_learning.html\n",
    "\n",
    "https://modal-python.readthedocs.io/en/latest/content/examples/interactive_labeling.html"
   ]
  },
  {
   "cell_type": "code",
   "execution_count": 2,
   "metadata": {
    "scrolled": true
   },
   "outputs": [],
   "source": [
    "import numpy as np\n",
    "import pandas as pd\n",
    "import seaborn as sns\n",
    "import matplotlib.pyplot as plt\n",
    "\n",
    "from sklearn.feature_extraction.text import CountVectorizer\n",
    "from sklearn import  preprocessing\n",
    "from sklearn.metrics import classification_report\n",
    "from sklearn.svm import LinearSVC\n",
    "from sklearn.naive_bayes import MultinomialNB\n",
    "from sklearn.model_selection import cross_val_score, train_test_split\n",
    "from sklearn.linear_model import LogisticRegression\n",
    "\n",
    "from modAL.models import ActiveLearner\n",
    "from modAL.uncertainty import uncertainty_sampling\n"
   ]
  },
  {
   "cell_type": "markdown",
   "metadata": {},
   "source": [
    "## 2) helper functions"
   ]
  },
  {
   "cell_type": "code",
   "execution_count": 3,
   "metadata": {},
   "outputs": [],
   "source": [
    "def get_class_dist(df_col):\n",
    "    \"\"\"\n",
    "    plot label distribution\n",
    "    \"\"\"\n",
    "    data = df_col.value_counts(normalize=True).rename('percentage').mul(100).reset_index().rename(columns = {\"index\":\"label\"})\n",
    "    plot = sns.barplot(x=\"label\", y=\"percentage\", data=data)\n",
    "    plot.set_xticklabels(plot.get_xticklabels(), rotation=90, horizontalalignment='right')\n"
   ]
  },
  {
   "cell_type": "code",
   "execution_count": 4,
   "metadata": {},
   "outputs": [],
   "source": [
    "def get_balanced_set(df):\n",
    "    \"\"\"\n",
    "    create balanced data set (oversampling)\n",
    "    \"\"\"\n",
    "    max_size = df['se_label'].value_counts().max()\n",
    "    balanced_list = [df]\n",
    "    for class_index, group in df.groupby('se_label'):\n",
    "        balanced_list.append(group.sample(max_size-len(group), replace=True))\n",
    "    return pd.concat(balanced_list)\n"
   ]
  },
  {
   "cell_type": "code",
   "execution_count": 5,
   "metadata": {
    "pycharm": {
     "name": "#%%\n"
    }
   },
   "outputs": [],
   "source": [
    "def get_flattened_list(nested_list):\n",
    "    \"\"\"\n",
    "    flatten a list of lists\n",
    "    \"\"\"\n",
    "    return [item for sublist in nested_list for item in sublist]\n"
   ]
  },
  {
   "cell_type": "code",
   "execution_count": 6,
   "metadata": {
    "pycharm": {
     "name": "#%%\n"
    }
   },
   "outputs": [],
   "source": [
    "def get_learners_preds(prediction_proba):\n",
    "    \"\"\"\n",
    "    return the learners predictions as a dict with labels as keys and the probabilities as values\n",
    "    :param prediction_proba: values obtained from learner.predict()\n",
    "    :return: dict with probability per label\n",
    "    \"\"\"\n",
    "    prediction_proba = np.round(prediction_proba, 2)\n",
    "    prediction_list = list()\n",
    "    for i in range(len(prediction_proba)):\n",
    "        predictions = {'expl': prediction_proba[i][0], 'fixed': prediction_proba[i][1],\n",
    "                       'iobj': prediction_proba[i][2], 'mark': prediction_proba[i][3],\n",
    "                       'nsubj': prediction_proba[i][4], 'obj': prediction_proba[i][5]}\n",
    "        prediction_list.append(predictions)\n",
    "    return prediction_list\n"
   ]
  },
  {
   "cell_type": "markdown",
   "metadata": {},
   "source": [
    "## 3) load and preprocess data\n",
    "- pool: unlabeled data (Corpus do Português)\n"
   ]
  },
  {
   "cell_type": "code",
   "execution_count": 7,
   "metadata": {},
   "outputs": [],
   "source": [
    "train_path = '../ud/pt_data/pt_bosque-ud-train.txt'\n",
    "test_path = '../ud/pt_data/pt_bosque-ud-test.txt'\n",
    "dev_path = '../ud/pt_data/pt_bosque-ud-dev.txt'\n",
    "pool_path = '../CORPUSDATA_ORG/pt_text_se_corpus.txt'\n",
    "\n",
    "train = pd.read_csv(train_path, sep='\\t', names=['text', 'tokenized_text', 'se_label']) \n",
    "train.drop(columns=['text'], inplace = True)\n",
    "dev = pd.read_csv(dev_path, sep='\\t', names=['text', 'tokenized_text', 'se_label']) # colab\n",
    "dev.drop(columns=['text'], inplace = True)\n",
    "test = pd.read_csv(test_path, sep='\\t', names=['text', 'tokenized_text', 'se_label']) # colab\n",
    "test.drop(columns=['text'], inplace = True)\n",
    "\n",
    "se_corpus = pd.concat([train, dev, test]) # because the data was filtered for 'se' the data splits are not reliable anymore\n",
    "se_corpus = se_corpus.drop(se_corpus[(se_corpus['se_label'] == 'expl:pass')].index)\n",
    "se_corpus = se_corpus.drop(se_corpus[(se_corpus['se_label'] == 'case')].index)\n",
    "se_corpus = se_corpus.drop(se_corpus[(se_corpus['se_label'] == 'nmod')].index)\n",
    "\n",
    "pool = pd.read_csv(pool_path, sep='\\t', names=['text']) \n"
   ]
  },
  {
   "cell_type": "code",
   "execution_count": 8,
   "metadata": {
    "pycharm": {
     "name": "#%%\n"
    }
   },
   "outputs": [
    {
     "data": {
      "text/plain": "<Figure size 432x288 with 1 Axes>",
      "image/png": "[encoded data removed]"
     },
     "metadata": {
      "needs_background": "light"
     },
     "output_type": "display_data"
    }
   ],
   "source": [
    "get_class_dist(se_corpus.se_label)\n"
   ]
  },
  {
   "cell_type": "code",
   "execution_count": 9,
   "metadata": {},
   "outputs": [
    {
     "name": "stdout",
     "output_type": "stream",
     "text": [
      "size train set:  (1000, 2) \n",
      "size oversampled train set:  (3696, 2)\n",
      "size test set:  (251, 2)\n"
     ]
    }
   ],
   "source": [
    "# create data splits\n",
    "X_train, X_test, y_train, y_test = train_test_split(se_corpus.tokenized_text.values, se_corpus.se_label.values,test_size=0.2,random_state=2022, stratify=se_corpus.se_label.values)\n",
    "\n",
    "initial_train = pd.DataFrame(data={'tokenized_text': X_train, 'se_label': y_train}) # rebuild df\n",
    "test = pd.DataFrame(data={'tokenized_text': X_test, 'se_label': y_test})\n",
    "\n",
    "balanced_train = get_balanced_set(initial_train) # create oversampled training set\n",
    "\n",
    "print('size train set: ', initial_train.shape, '\\nsize oversampled train set: ', balanced_train.shape)\n",
    "print('size test set: ', test.shape)\n"
   ]
  },
  {
   "cell_type": "code",
   "execution_count": 10,
   "metadata": {
    "pycharm": {
     "name": "#%%\n"
    }
   },
   "outputs": [],
   "source": [
    "# preprocess data\n",
    "label_encoder = preprocessing.LabelEncoder()\n",
    "vectorizer = CountVectorizer()\n",
    "\n",
    "X_train = vectorizer.fit_transform(initial_train.tokenized_text)\n",
    "X_balanced_train = vectorizer.transform(balanced_train.tokenized_text)\n",
    "X_test = vectorizer.transform(test.tokenized_text)\n",
    "X_pool = vectorizer.transform(pool.text)\n",
    "\n",
    "y_train = label_encoder.fit_transform(initial_train.se_label)\n",
    "y_balanced_train = label_encoder.transform(balanced_train.se_label)\n",
    "y_test = label_encoder.transform(test.se_label)\n"
   ]
  },
  {
   "cell_type": "code",
   "execution_count": 11,
   "metadata": {
    "pycharm": {
     "name": "#%%\n"
    }
   },
   "outputs": [
    {
     "name": "stdout",
     "output_type": "stream",
     "text": [
      "['expl', 'fixed', 'iobj', 'mark', 'nsubj', 'obj'] [0 1 2 3 4 5]\n"
     ]
    }
   ],
   "source": [
    "# check assigned values\n",
    "print(list(label_encoder.classes_), label_encoder.transform(['expl', 'fixed', 'iobj', 'mark', 'nsubj', 'obj']))\n"
   ]
  },
  {
   "cell_type": "markdown",
   "metadata": {},
   "source": [
    "## 4) Model\n",
    "- check accuracy values of different classifiers\n",
    "- the least populated class only has 9 members, so 10-fold cross validation isn't accurate: Use oversampled set\n"
   ]
  },
  {
   "cell_type": "code",
   "execution_count": 18,
   "metadata": {
    "pycharm": {
     "name": "#%%\n"
    }
   },
   "outputs": [
    {
     "name": "stdout",
     "output_type": "stream",
     "text": [
      "model\n",
      "LinearSVC             0.974262\n",
      "LogisticRegression    0.973250\n",
      "MultinomialNB         0.930992\n",
      "Name: f1_score_weighted, dtype: float64\n"
     ]
    }
   ],
   "source": [
    "\n",
    "models = [\n",
    "    LinearSVC(multi_class='ovr', max_iter=3000),\n",
    "    LogisticRegression(max_iter=1000),\n",
    "    MultinomialNB(fit_prior=True),\n",
    "]\n",
    "\n",
    "cross_val = 10\n",
    "\n",
    "df_cross_val = pd.DataFrame(index=range(cross_val * len(models)))\n",
    "performances = []\n",
    "\n",
    "for model in models:\n",
    "    parameters = model.get_params()\n",
    "    if 'class_weight' in parameters.keys():\n",
    "        if parameters['class_weight'] == 'balanced':\n",
    "            model_name = model.__class__.__name__ + '_balanced'\n",
    "        else:\n",
    "            model_name = model.__class__.__name__\n",
    "    else:\n",
    "        model_name = model.__class__.__name__\n",
    "    f1_scores = cross_val_score(model,X_balanced_train, y_balanced_train, scoring='f1_weighted',cv=cross_val)\n",
    "    for fold_index, f1_score in enumerate(f1_scores):\n",
    "        performances.append((model_name, fold_index, f1_score))\n",
    "\n",
    "df_cross_val = pd.DataFrame(performances, columns=['model', 'fold_index', 'f1_score_weighted'])\n",
    "print(df_cross_val.groupby('model').f1_score_weighted.mean())"
   ]
  },
  {
   "cell_type": "code",
   "execution_count": 12,
   "metadata": {
    "pycharm": {
     "name": "#%%\n"
    }
   },
   "outputs": [
    {
     "name": "stdout",
     "output_type": "stream",
     "text": [
      "              precision    recall  f1-score   support\n",
      "\n",
      "        expl       0.68      0.88      0.76       155\n",
      "       fixed       0.00      0.00      0.00         2\n",
      "        iobj       0.00      0.00      0.00         2\n",
      "        mark       0.43      0.19      0.27        31\n",
      "       nsubj       0.28      0.21      0.24        43\n",
      "         obj       0.00      0.00      0.00        18\n",
      "\n",
      "    accuracy                           0.60       251\n",
      "   macro avg       0.23      0.21      0.21       251\n",
      "weighted avg       0.52      0.60      0.55       251\n",
      "\n"
     ]
    }
   ],
   "source": [
    "# choose best-performing classifier to evaluate on test set (baseline)\n",
    "\n",
    "targets = label_encoder.classes_\n",
    "\n",
    "clf = LogisticRegression(max_iter=1000)\n",
    "clf.fit(X_balanced_train, y_balanced_train)\n",
    "\n",
    "y_pred_test = clf.predict(X_test)\n",
    "print(classification_report(y_test, y_pred_test, target_names=targets, zero_division=0))\n"
   ]
  },
  {
   "cell_type": "markdown",
   "metadata": {},
   "source": [
    "## 5) Active Learner"
   ]
  },
  {
   "cell_type": "code",
   "execution_count": 13,
   "metadata": {
    "pycharm": {
     "name": "#%%\n"
    }
   },
   "outputs": [],
   "source": [
    "# Initialize the ActiveLearner with the fitted classifier\n",
    "learner = ActiveLearner(estimator=LogisticRegression(max_iter=10000),\n",
    "                        query_strategy=uncertainty_sampling,\n",
    "                        X_training=X_balanced_train, \n",
    "                        y_training=y_balanced_train\n",
    "                        )\n"
   ]
  },
  {
   "cell_type": "code",
   "execution_count": 14,
   "metadata": {},
   "outputs": [],
   "source": [
    "#convert X_pool (scipy matrix) to numpy array\n",
    "X_pool = X_pool.toarray()\n"
   ]
  },
  {
   "cell_type": "code",
   "execution_count": 15,
   "metadata": {
    "pycharm": {
     "name": "#%%\n"
    }
   },
   "outputs": [],
   "source": [
    "# define variables for loop\n",
    "number_of_loops = 10\n",
    "n_instances = 20 # number of samples to be queried in each loop\n",
    "accuracies = [learner.score(X_test, y_test)] # append first accuracy without learning\n",
    "pool_sent_list= list() # to store annotated sentences\n",
    "pool_label_list= list() # to store annotated labels\n"
   ]
  },
  {
   "cell_type": "markdown",
   "metadata": {},
   "source": [
    "### Loop\n",
    "- annotate sentences that should be discarded with 'None'"
   ]
  },
  {
   "cell_type": "code",
   "execution_count": 16,
   "metadata": {
    "pycharm": {
     "name": "#%%\n"
    }
   },
   "outputs": [
    {
     "name": "stdout",
     "output_type": "stream",
     "text": [
      "Note: you either discarded samples or did not annotate all samples\n",
      "Note: you either discarded samples or did not annotate all samples\n",
      "Note: you either discarded samples or did not annotate all samples\n",
      "Note: you either discarded samples or did not annotate all samples\n",
      "Note: you either discarded samples or did not annotate all samples\n"
     ]
    }
   ],
   "source": [
    "for i in range(number_of_loops):\n",
    "\n",
    "    # query new samples\n",
    "    query_idx, query_inst = learner.query(X_pool, n_instances=n_instances)\n",
    "    predicted_proba = get_learners_preds(learner.predict_proba(X_pool[query_idx]))\n",
    "    sentences = pool.text.iloc[query_idx]\n",
    "\n",
    "\n",
    "    # annotate the queried samples\n",
    "    annotation = list()\n",
    "    counter = 0\n",
    "    for sent, proba in zip(sentences, predicted_proba):\n",
    "        counter += 1\n",
    "        sorted_proba = sorted(proba.items(), key=lambda kv: kv[1], reverse=True)\n",
    "        prompt = '\\n'+'loop: '+str(i+1)+'\\n'+'sentence: '+str(counter)+'\\n'+'The learners predictions are:'+'\\n'+str(sorted_proba)+'\\n\\n'+sent+'\\n'\n",
    "        label = str(input(prompt))\n",
    "        annotation.append(label)\n",
    "    \n",
    "    # keep track of annotations\n",
    "    sent_list = sentences.to_list()\n",
    "    pool_sent_list.append(sent_list)\n",
    "    pool_label_list.append(annotation)\n",
    "\n",
    "    # filter out sentences that were assigned 'None'; the learner should not see them\n",
    "    if 'None' in annotation:\n",
    "        print('Note: you either discarded samples or did not annotate all samples')\n",
    "        discarded_idxs=[idx for idx, sample in enumerate(annotation) if sample == 'None']\n",
    "        discarded_idxs = sorted(discarded_idxs, reverse=True)\n",
    "        for index in discarded_idxs:\n",
    "            query_inst = np.delete(query_inst, index, axis=0)\n",
    "        annotation = list(filter('None'.__ne__, annotation))\n",
    "\n",
    "\n",
    "    # teach the learner\n",
    "    y_pool = label_encoder.transform(annotation)\n",
    "    learner.teach(query_inst, y_pool)\n",
    "    accuracies.append(learner.score(X=X_test, y=y_test))\n",
    "\n",
    "    # delete queried samples from pool\n",
    "    X_pool = np.delete(X_pool, query_idx, axis=0)\n"
   ]
  },
  {
   "cell_type": "code",
   "execution_count": 21,
   "metadata": {
    "pycharm": {
     "name": "#%%\n"
    }
   },
   "outputs": [
    {
     "data": {
      "text/plain": "<Figure size 864x576 with 1 Axes>",
      "image/png": "[encoded data removed]"
     },
     "metadata": {
      "needs_background": "light"
     },
     "output_type": "display_data"
    }
   ],
   "source": [
    "# plot learning curve\n",
    "with plt.style.context('bmh'):\n",
    "    csfont = {'fontname':'Times New Roman'}\n",
    "    plt.figure(figsize=(12, 8))\n",
    "    plt.plot(range(number_of_loops+1), accuracies)\n",
    "    plt.scatter(range(number_of_loops+1), accuracies)\n",
    "    plt.yticks(np.arange(0, 1.1, 0.1), fontsize=20, **csfont)\n",
    "    plt.xticks(np.arange(0, 11, 1), fontsize=20, **csfont)\n",
    "    plt.xlabel('loop number',fontsize=24, **csfont)\n",
    "    plt.ylabel('accuracy',fontsize=24, **csfont)\n",
    "    plt.savefig('al_plots/pt_sklearn.png')\n",
    "    plt.tight_layout()\n",
    "    plt.show()\n"
   ]
  },
  {
   "cell_type": "code",
   "execution_count": 18,
   "metadata": {
    "pycharm": {
     "name": "#%%\n"
    }
   },
   "outputs": [
    {
     "name": "stdout",
     "output_type": "stream",
     "text": [
      "0.6175298804780877\n"
     ]
    }
   ],
   "source": [
    "print(max(accuracies))\n"
   ]
  },
  {
   "cell_type": "code",
   "execution_count": 19,
   "metadata": {
    "pycharm": {
     "name": "#%%\n"
    }
   },
   "outputs": [
    {
     "name": "stdout",
     "output_type": "stream",
     "text": [
      "(200, 2)\n",
      "                                                text se_label\n",
      "0      como se tivesse me lembrado de alguma coisa .    fixed\n",
      "1  Caracteres como o ( L ) minúsculo l , têm uma ...     expl\n",
      "2  Otman fez imediatamente com que a cópia prepar...     mark\n",
      "3  Uma propagandinha pega todo o conceito , coloc...     mark\n",
      "4  A Patria é uma síntese transcendente , uma sín...     None\n"
     ]
    }
   ],
   "source": [
    "# create df from annotations\n",
    "sent_flattened = get_flattened_list(pool_sent_list)\n",
    "label_flattened = get_flattened_list(pool_label_list)\n",
    "\n",
    "labeled_pool = pd.DataFrame(list(zip(sent_flattened, label_flattened)),\n",
    "               columns =['text', 'se_label'])\n",
    "print(labeled_pool.shape)\n",
    "print(labeled_pool.head())\n"
   ]
  },
  {
   "cell_type": "code",
   "execution_count": 20,
   "metadata": {},
   "outputs": [],
   "source": [
    "# save labeled pool\n",
    "labeled_pool.to_csv('labeled_data/pt_sklearn_annotations.txt', header=None, index=False,  sep='\\t')"
   ]
  },
  {
   "cell_type": "code",
   "execution_count": null,
   "outputs": [],
   "source": [],
   "metadata": {
    "collapsed": false,
    "pycharm": {
     "name": "#%%\n"
    }
   }
  }
 ],
 "metadata": {
  "kernelspec": {
   "display_name": "Python 3",
   "language": "python",
   "name": "python3"
  },
  "language_info": {
   "codemirror_mode": {
    "name": "ipython",
    "version": 3
   },
   "file_extension": ".py",
   "mimetype": "text/x-python",
   "name": "python",
   "nbconvert_exporter": "python",
   "pygments_lexer": "ipython3",
   "version": "3.8.5"
  }
 },
 "nbformat": 4,
 "nbformat_minor": 1
}