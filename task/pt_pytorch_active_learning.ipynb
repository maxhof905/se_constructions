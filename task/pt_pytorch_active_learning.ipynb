{
 "cells": [
  {
   "cell_type": "markdown",
   "metadata": {
    "pycharm": {
     "name": "#%% md\n"
    },
    "id": "I1ryVWjsp2C7"
   },
   "source": [
    "# Pytoch active learning loop: Portuguese\n",
    "\n",
    "maxhof905"
   ]
  },
  {
   "cell_type": "markdown",
   "metadata": {
    "id": "wh6mUpU9p2C7"
   },
   "source": [
    "\n",
    "sources :\n",
    "- https://towardsdatascience.com/pytorch-tabular-multiclass-classification-9f8211a123ab\n",
    "- https://www.deeplearningwizard.com/deep_learning/practical_pytorch/pytorch_lstm_neuralnetwork/#step-2-make-dataset-iterable"
   ]
  },
  {
   "cell_type": "code",
   "source": [
    "from google.colab import drive\n",
    "drive.mount('/content/drive')"
   ],
   "metadata": {
    "colab": {
     "base_uri": "https://localhost:8080/"
    },
    "id": "0yCVhFC4p55R",
    "outputId": "c4b00e7c-747d-4e81-b64b-09ad00e32af2"
   },
   "execution_count": null,
   "outputs": [
    {
     "output_type": "stream",
     "name": "stdout",
     "text": [
      "Mounted at /content/drive\n"
     ]
    }
   ]
  },
  {
   "cell_type": "code",
   "execution_count": null,
   "metadata": {
    "pycharm": {
     "is_executing": true,
     "name": "#%%\n"
    },
    "colab": {
     "base_uri": "https://localhost:8080/"
    },
    "id": "qkjctjBXp2C-",
    "outputId": "15d34a04-1cca-4c0b-abd9-40ca20a34740"
   },
   "outputs": [
    {
     "output_type": "stream",
     "name": "stdout",
     "text": [
      "Collecting skorch\n",
      "  Downloading skorch-0.11.0-py3-none-any.whl (155 kB)\n",
      "\u001B[?25l\r\u001B[K     |██▏                             | 10 kB 34.8 MB/s eta 0:00:01\r\u001B[K     |████▎                           | 20 kB 22.0 MB/s eta 0:00:01\r\u001B[K     |██████▍                         | 30 kB 11.7 MB/s eta 0:00:01\r\u001B[K     |████████▌                       | 40 kB 9.4 MB/s eta 0:00:01\r\u001B[K     |██████████▋                     | 51 kB 3.5 MB/s eta 0:00:01\r\u001B[K     |████████████▊                   | 61 kB 4.2 MB/s eta 0:00:01\r\u001B[K     |██████████████▉                 | 71 kB 4.4 MB/s eta 0:00:01\r\u001B[K     |█████████████████               | 81 kB 4.2 MB/s eta 0:00:01\r\u001B[K     |███████████████████             | 92 kB 4.7 MB/s eta 0:00:01\r\u001B[K     |█████████████████████▏          | 102 kB 4.0 MB/s eta 0:00:01\r\u001B[K     |███████████████████████▎        | 112 kB 4.0 MB/s eta 0:00:01\r\u001B[K     |█████████████████████████▍      | 122 kB 4.0 MB/s eta 0:00:01\r\u001B[K     |███████████████████████████▌    | 133 kB 4.0 MB/s eta 0:00:01\r\u001B[K     |█████████████████████████████▋  | 143 kB 4.0 MB/s eta 0:00:01\r\u001B[K     |███████████████████████████████▊| 153 kB 4.0 MB/s eta 0:00:01\r\u001B[K     |████████████████████████████████| 155 kB 4.0 MB/s \n",
      "\u001B[?25hRequirement already satisfied: tqdm>=4.14.0 in /usr/local/lib/python3.7/dist-packages (from skorch) (4.64.0)\n",
      "Requirement already satisfied: tabulate>=0.7.7 in /usr/local/lib/python3.7/dist-packages (from skorch) (0.8.9)\n",
      "Requirement already satisfied: scipy>=1.1.0 in /usr/local/lib/python3.7/dist-packages (from skorch) (1.4.1)\n",
      "Requirement already satisfied: scikit-learn>=0.19.1 in /usr/local/lib/python3.7/dist-packages (from skorch) (1.0.2)\n",
      "Requirement already satisfied: numpy>=1.13.3 in /usr/local/lib/python3.7/dist-packages (from skorch) (1.21.6)\n",
      "Requirement already satisfied: threadpoolctl>=2.0.0 in /usr/local/lib/python3.7/dist-packages (from scikit-learn>=0.19.1->skorch) (3.1.0)\n",
      "Requirement already satisfied: joblib>=0.11 in /usr/local/lib/python3.7/dist-packages (from scikit-learn>=0.19.1->skorch) (1.1.0)\n",
      "Installing collected packages: skorch\n",
      "Successfully installed skorch-0.11.0\n",
      "Collecting modal\n",
      "  Downloading modAL-0.4.1-py3-none-any.whl (27 kB)\n",
      "Requirement already satisfied: scikit-learn>=0.18 in /usr/local/lib/python3.7/dist-packages (from modal) (1.0.2)\n",
      "Requirement already satisfied: pandas>=1.1.0 in /usr/local/lib/python3.7/dist-packages (from modal) (1.3.5)\n",
      "Requirement already satisfied: scipy>=0.18 in /usr/local/lib/python3.7/dist-packages (from modal) (1.4.1)\n",
      "Requirement already satisfied: numpy>=1.13 in /usr/local/lib/python3.7/dist-packages (from modal) (1.21.6)\n",
      "Requirement already satisfied: python-dateutil>=2.7.3 in /usr/local/lib/python3.7/dist-packages (from pandas>=1.1.0->modal) (2.8.2)\n",
      "Requirement already satisfied: pytz>=2017.3 in /usr/local/lib/python3.7/dist-packages (from pandas>=1.1.0->modal) (2022.1)\n",
      "Requirement already satisfied: six>=1.5 in /usr/local/lib/python3.7/dist-packages (from python-dateutil>=2.7.3->pandas>=1.1.0->modal) (1.15.0)\n",
      "Requirement already satisfied: threadpoolctl>=2.0.0 in /usr/local/lib/python3.7/dist-packages (from scikit-learn>=0.18->modal) (3.1.0)\n",
      "Requirement already satisfied: joblib>=0.11 in /usr/local/lib/python3.7/dist-packages (from scikit-learn>=0.18->modal) (1.1.0)\n",
      "Installing collected packages: modal\n",
      "Successfully installed modal-0.4.1\n"
     ]
    }
   ],
   "source": [
    "# installations for colab\n",
    "!pip install skorch\n",
    "!pip install modal\n"
   ]
  },
  {
   "cell_type": "code",
   "execution_count": null,
   "metadata": {
    "pycharm": {
     "name": "#%%\n"
    },
    "id": "1-JVl-aXp2C_"
   },
   "outputs": [],
   "source": [
    "import numpy as np\n",
    "import pandas as pd\n",
    "import seaborn as sns\n",
    "import matplotlib.pyplot as plt\n",
    "\n",
    "from sklearn.feature_extraction.text import CountVectorizer\n",
    "from sklearn import preprocessing\n",
    "from sklearn.model_selection import train_test_split\n",
    "\n",
    "import torch\n",
    "from torch import nn\n",
    "from torch.utils.data import Dataset, DataLoader\n",
    "from torch.utils.data import WeightedRandomSampler\n",
    "\n",
    "from skorch import NeuralNetClassifier\n",
    "from skorch.callbacks import EpochScoring\n",
    "\n",
    "from modAL.models import ActiveLearner\n",
    "from modAL.uncertainty import uncertainty_sampling\n"
   ]
  },
  {
   "cell_type": "markdown",
   "metadata": {
    "id": "TcT5QKYzp2DA"
   },
   "source": [
    "## 2) helper functions"
   ]
  },
  {
   "cell_type": "code",
   "execution_count": null,
   "metadata": {
    "pycharm": {
     "name": "#%%\n"
    },
    "id": "mmsVMbmWp2DA"
   },
   "outputs": [],
   "source": [
    "def get_class_dist(df_col):\n",
    "    \"\"\"\n",
    "    plot label distribution\n",
    "    \"\"\"\n",
    "    data = df_col.value_counts(normalize=True).rename('percentage').mul(100).reset_index().rename(columns = {\"index\":\"label\"})\n",
    "    plot = sns.barplot(x=\"label\", y=\"percentage\", data=data)\n",
    "    plot.set_xticklabels(plot.get_xticklabels(),\n",
    "                          rotation=90,\n",
    "                          horizontalalignment='right')\n",
    "    "
   ]
  },
  {
   "cell_type": "code",
   "execution_count": null,
   "metadata": {
    "pycharm": {
     "name": "#%%\n"
    },
    "id": "wgEsHgdwp2DB"
   },
   "outputs": [],
   "source": [
    "def get_balanced_set(df):\n",
    "    \"\"\"\n",
    "    create balanced data set (oversampling)\n",
    "    \"\"\"\n",
    "    max_size = df['se_label'].value_counts().max()\n",
    "    balanced_list = [df]\n",
    "    for class_index, group in df.groupby('se_label'):\n",
    "        balanced_list.append(group.sample(max_size-len(group), replace=True))\n",
    "    return pd.concat(balanced_list)\n"
   ]
  },
  {
   "cell_type": "code",
   "execution_count": null,
   "metadata": {
    "pycharm": {
     "name": "#%%\n"
    },
    "id": "u9u1sAApp2DB"
   },
   "outputs": [],
   "source": [
    "def get_flattened_list(nested_list):\n",
    "    return [item for sublist in nested_list for item in sublist]\n"
   ]
  },
  {
   "cell_type": "code",
   "execution_count": null,
   "metadata": {
    "pycharm": {
     "name": "#%%\n"
    },
    "id": "1TjQU0TGp2DB"
   },
   "outputs": [],
   "source": [
    "def get_learners_preds(prediction_proba):\n",
    "    \"\"\"\n",
    "    return the learners predictions as a dict with labels as keys and the probabilities as values\n",
    "    :param prediction_proba: values obtained from learner.predict()\n",
    "    :return: dict with probability per label\n",
    "    \"\"\"\n",
    "    prediction_proba = np.round(prediction_proba, 2)\n",
    "    prediction_list = list()\n",
    "    for i in range(len(prediction_proba)):\n",
    "        predictions = {'expl': prediction_proba[i][0], 'fixed': prediction_proba[i][1],\n",
    "                      'iobj': prediction_proba[i][2], 'mark': prediction_proba[i][3], \n",
    "                       'nsubj': prediction_proba[i][4], 'obj': prediction_proba[i][5]}\n",
    "        prediction_list.append(predictions)\n",
    "    return prediction_list\n"
   ]
  },
  {
   "cell_type": "markdown",
   "metadata": {
    "id": "5qoyt9cOp2DD"
   },
   "source": [
    "## 3) load and preprocess data\n",
    "- initial_train: labeled test set ('seed')\n",
    "- pool: pool of unlabeled data\n",
    "- test: small labeled test set\n"
   ]
  },
  {
   "cell_type": "code",
   "execution_count": null,
   "metadata": {
    "pycharm": {
     "name": "#%%\n"
    },
    "id": "x2_jBdptp2DD"
   },
   "outputs": [],
   "source": [
    "train_path = 'https://raw.githubusercontent.com/maxhof905/se_corpus/main/ud/pt_data/pt_bosque-ud-train.txt'\n",
    "test_path = 'https://raw.githubusercontent.com/maxhof905/se_corpus/main/ud/pt_data/pt_bosque-ud-test.txt'\n",
    "dev_path = 'https://raw.githubusercontent.com/maxhof905/se_corpus/main/ud/pt_data/pt_bosque-ud-dev.txt'\n",
    "pool_path = 'https://raw.githubusercontent.com/maxhof905/se_corpus/main/corpusdata_org/pt_text_se_corpus.txt'\n",
    "\n",
    "train = pd.read_csv(train_path, sep='\\t', names=['text', 'tokenized_text', 'se_label'])\n",
    "train.drop(columns=['text'], inplace = True)\n",
    "dev = pd.read_csv(dev_path, sep='\\t', names=['text', 'tokenized_text', 'se_label']) # colab\n",
    "dev.drop(columns=['text'], inplace = True)\n",
    "test = pd.read_csv(test_path, sep='\\t', names=['text', 'tokenized_text', 'se_label']) # colab\n",
    "test.drop(columns=['text'], inplace = True)\n",
    "\n",
    "se_corpus = pd.concat([train, dev, test]) # because the data was fileted for 'se' the data splits are not reliable anymore\n",
    "se_corpus = se_corpus.drop(se_corpus[(se_corpus['se_label'] == 'case')].index)\n",
    "se_corpus = se_corpus.drop(se_corpus[(se_corpus['se_label'] == 'nmod')].index)\n",
    "se_corpus = se_corpus.drop(se_corpus[(se_corpus['se_label'] == 'expl:pass')].index)\n",
    "\n",
    "pool = pd.read_csv(pool_path, sep='\\t', names=['text'])\n",
    "\n"
   ]
  },
  {
   "cell_type": "code",
   "execution_count": null,
   "metadata": {
    "pycharm": {
     "name": "#%%\n"
    },
    "colab": {
     "base_uri": "https://localhost:8080/",
     "height": 296
    },
    "id": "ygIoN5Dtp2DD",
    "outputId": "704b6d13-df14-47c1-db85-8e9e67dead5a"
   },
   "outputs": [
    {
     "output_type": "display_data",
     "data": {
      "text/plain": [
       "<Figure size 432x288 with 1 Axes>"
      ],
      "image/png": "[encoded data removed]"
     },
     "metadata": {
      "needs_background": "light"
     }
    }
   ],
   "source": [
    "get_class_dist(se_corpus.se_label)\n"
   ]
  },
  {
   "cell_type": "code",
   "execution_count": null,
   "metadata": {
    "pycharm": {
     "name": "#%%\n"
    },
    "id": "1leMNrbXp2DF"
   },
   "outputs": [],
   "source": [
    "X = se_corpus.tokenized_text\n",
    "y = se_corpus.se_label\n",
    "\n",
    "X_train, X_test, y_train, y_test = train_test_split(X, y, test_size=0.2, stratify=y, random_state=2022)\n"
   ]
  },
  {
   "cell_type": "code",
   "execution_count": null,
   "metadata": {
    "pycharm": {
     "name": "#%%\n"
    },
    "id": "NxnZw-YSp2DF"
   },
   "outputs": [],
   "source": [
    "label_encoder = preprocessing.LabelEncoder()\n",
    "vectorizer = CountVectorizer()\n",
    "\n",
    "X_train = vectorizer.fit_transform(X_train).toarray()\n",
    "X_test = vectorizer.transform(X_test).toarray()\n",
    "\n",
    "pool_vectorized = vectorizer.transform(pool.text).toarray()\n",
    "\n",
    "y_train = label_encoder.fit_transform(y_train)\n",
    "y_test = label_encoder.transform(y_test)\n"
   ]
  },
  {
   "cell_type": "code",
   "execution_count": null,
   "metadata": {
    "pycharm": {
     "name": "#%%\n"
    },
    "id": "F2cDu0ijp2DF"
   },
   "outputs": [],
   "source": [
    "class ClassifierDataset(Dataset):\n",
    "    def __init__(self, X_data, y_data):\n",
    "        self.X_data = X_data\n",
    "        self.y_data = y_data\n",
    "\n",
    "    def __getitem__(self, index):\n",
    "        return self.X_data[index], self.y_data[index]\n",
    "\n",
    "    def __len__(self):\n",
    "        return len(self.X_data)\n"
   ]
  },
  {
   "cell_type": "code",
   "execution_count": null,
   "metadata": {
    "pycharm": {
     "name": "#%%\n"
    },
    "id": "jMfNtq6jp2DF"
   },
   "outputs": [],
   "source": [
    "class PoolDataset(Dataset):\n",
    "    def __init__(self, X_data):\n",
    "        self.X_data = X_data\n",
    "\n",
    "    def __getitem__(self, index):\n",
    "        return self.X_data[index]\n",
    "\n",
    "    def __len__(self):\n",
    "        return len(self.X_data)\n",
    "    "
   ]
  },
  {
   "cell_type": "code",
   "execution_count": null,
   "metadata": {
    "pycharm": {
     "name": "#%%\n"
    },
    "id": "zZQT1J-Qp2DG"
   },
   "outputs": [],
   "source": [
    "train_set = ClassifierDataset(torch.from_numpy(X_train).float(), torch.from_numpy(y_train).long())\n",
    "test_set = ClassifierDataset(torch.from_numpy(X_test).float(), torch.from_numpy(y_test).long())\n",
    "\n",
    "pool_set = PoolDataset(torch.from_numpy(pool_vectorized).float())\n"
   ]
  },
  {
   "cell_type": "code",
   "execution_count": null,
   "metadata": {
    "id": "DuzJZKakp2DG"
   },
   "outputs": [],
   "source": [
    "train_features = torch.reshape(train_set.X_data,   (train_set.X_data.shape[0], 1,train_set.X_data.shape[1]))\n",
    "train_labels = train_set.y_data\n"
   ]
  },
  {
   "cell_type": "code",
   "execution_count": null,
   "metadata": {
    "id": "8tLkX2trp2DG"
   },
   "outputs": [],
   "source": [
    "test_features = torch.reshape(test_set.X_data,   (test_set.X_data.shape[0], 1,test_set.X_data.shape[1]))\n",
    "test_labels = test_set.y_data\n"
   ]
  },
  {
   "cell_type": "code",
   "source": [
    "train_features.shape[2]"
   ],
   "metadata": {
    "colab": {
     "base_uri": "https://localhost:8080/"
    },
    "id": "asa2TgM4rjwF",
    "outputId": "b3f9bd8d-2fe1-4530-d24c-a5cb9a713909"
   },
   "execution_count": null,
   "outputs": [
    {
     "output_type": "execute_result",
     "data": {
      "text/plain": [
       "7342"
      ]
     },
     "metadata": {},
     "execution_count": 17
    }
   ]
  },
  {
   "cell_type": "code",
   "execution_count": null,
   "metadata": {
    "pycharm": {
     "name": "#%%\n"
    },
    "id": "SLD_dpYvp2DG"
   },
   "outputs": [],
   "source": [
    "X_pool = pool_set.X_data\n",
    "X_pool = torch.reshape(X_pool,   (X_pool.shape[0], 1, X_pool.shape[1]))\n",
    "X_pool = X_pool.detach().cpu().numpy()\n"
   ]
  },
  {
   "cell_type": "markdown",
   "metadata": {
    "id": "QbudqpM-p2DG"
   },
   "source": [
    "## 2) Model"
   ]
  },
  {
   "cell_type": "code",
   "source": [
    "label_encoder.classes_"
   ],
   "metadata": {
    "colab": {
     "base_uri": "https://localhost:8080/"
    },
    "id": "TJH2qaBorvA5",
    "outputId": "9ced703e-9f0c-4788-e1fe-7b13c1220986"
   },
   "execution_count": null,
   "outputs": [
    {
     "output_type": "execute_result",
     "data": {
      "text/plain": [
       "array(['expl', 'fixed', 'iobj', 'mark', 'nsubj', 'obj'], dtype=object)"
      ]
     },
     "metadata": {},
     "execution_count": 19
    }
   ]
  },
  {
   "cell_type": "code",
   "execution_count": null,
   "metadata": {
    "pycharm": {
     "name": "#%%\n"
    },
    "id": "RMogkBRUp2DH"
   },
   "outputs": [],
   "source": [
    "class LSTMModel(nn.Module):\n",
    "    def __init__(self, hidden_dim=64):\n",
    "        super(LSTMModel, self).__init__()\n",
    "        self.hidden_dim = hidden_dim\n",
    "        self.layer_dim = 1\n",
    "        # batch_first=True causes input/output tensors to be of shape\n",
    "        # (batch_dim, seq_dim, feature_dim)\n",
    "        self.lstm = nn.LSTM(train_features.shape[2], hidden_dim, 1, batch_first=True)\n",
    "        self.fc = nn.Linear(hidden_dim, 6)\n",
    "\n",
    "    def forward(self, x):\n",
    "        # Initialize hidden state with zeros\n",
    "        h0 = torch.zeros(self.layer_dim, x.size(0), self.hidden_dim).requires_grad_().to(device)\n",
    "        c0 = torch.zeros(self.layer_dim, x.size(0), self.hidden_dim).requires_grad_().to(device)\n",
    "        out, (hn, cn) = self.lstm(x, (h0.detach(), c0.detach()))\n",
    "        out = self.fc(out[:, -1, :])\n",
    "        return out\n",
    "    "
   ]
  },
  {
   "cell_type": "code",
   "execution_count": null,
   "metadata": {
    "pycharm": {
     "name": "#%%\n"
    },
    "scrolled": true,
    "colab": {
     "base_uri": "https://localhost:8080/"
    },
    "id": "tdR11kUnp2DH",
    "outputId": "ec8ea4c6-6911-4de8-81de-e8107d955cc1"
   },
   "outputs": [
    {
     "output_type": "stream",
     "name": "stdout",
     "text": [
      "using:  cuda\n"
     ]
    }
   ],
   "source": [
    "# skorch library creates sklearn classifier from torch neural net\n",
    "# infer initial parameters from es_pytorch_active_learning (which was run first with extensive GridSearch)\n",
    "\n",
    "# create the classifier\n",
    "device = \"cuda\" if torch.cuda.is_available() else \"cpu\"\n",
    "print('using: ', device)\n",
    "\n",
    "# Callbacks: print accuracy when model is fitted\n",
    "acc = EpochScoring(scoring='accuracy', on_train=True,\n",
    "                         name='accuracy', lower_is_better=False)\n",
    "\n",
    "f1 = EpochScoring(scoring='f1_weighted', on_train=True,\n",
    "                         name='f1-score', lower_is_better=False)\n",
    "\n",
    "callbacks = [acc, f1]\n",
    "\n",
    "classifier = NeuralNetClassifier(module=LSTMModel,\n",
    "                                 batch_size=64,\n",
    "                                 max_epochs= 10,\n",
    "                                 criterion=nn.CrossEntropyLoss,\n",
    "                                 optimizer=torch.optim.Adam,\n",
    "                                 lr=0.001,\n",
    "                                 train_split=None,\n",
    "                                 callbacks=callbacks,\n",
    "                                 verbose=1,\n",
    "                                 device=device)\n"
   ]
  },
  {
   "cell_type": "code",
   "execution_count": null,
   "metadata": {
    "pycharm": {
     "name": "#%%\n"
    },
    "scrolled": true,
    "colab": {
     "base_uri": "https://localhost:8080/"
    },
    "id": "CL6ILTLLp2DI",
    "outputId": "b943bf00-1a64-499e-a912-805d87d4c286"
   },
   "outputs": [
    {
     "output_type": "stream",
     "name": "stdout",
     "text": [
      "  epoch    accuracy    f1-score    train_loss     dur\n",
      "-------  ----------  ----------  ------------  ------\n",
      "      1      \u001B[36m0.4410\u001B[0m      \u001B[32m0.4070\u001B[0m        \u001B[35m1.7037\u001B[0m  0.0756\n",
      "      2      \u001B[36m0.6170\u001B[0m      \u001B[32m0.4719\u001B[0m        \u001B[35m1.5089\u001B[0m  0.0606\n",
      "      3      0.6160      0.4696        \u001B[35m1.2841\u001B[0m  0.0637\n",
      "      4      0.6160      0.4696        \u001B[35m1.0947\u001B[0m  0.0706\n",
      "      5      0.6160      0.4696        \u001B[35m0.9596\u001B[0m  0.0626\n",
      "      6      \u001B[36m0.6430\u001B[0m      \u001B[32m0.5258\u001B[0m        \u001B[35m0.8239\u001B[0m  0.0606\n",
      "      7      \u001B[36m0.7530\u001B[0m      \u001B[32m0.7026\u001B[0m        \u001B[35m0.6775\u001B[0m  0.0591\n",
      "      8      \u001B[36m0.8570\u001B[0m      \u001B[32m0.8374\u001B[0m        \u001B[35m0.5317\u001B[0m  0.0585\n",
      "      9      \u001B[36m0.9190\u001B[0m      \u001B[32m0.9081\u001B[0m        \u001B[35m0.4043\u001B[0m  0.0600\n",
      "     10      \u001B[36m0.9480\u001B[0m      \u001B[32m0.9410\u001B[0m        \u001B[35m0.3048\u001B[0m  0.0606\n"
     ]
    },
    {
     "output_type": "execute_result",
     "data": {
      "text/plain": [
       "<class 'skorch.classifier.NeuralNetClassifier'>[initialized](\n",
       "  module_=LSTMModel(\n",
       "    (lstm): LSTM(7342, 64, batch_first=True)\n",
       "    (fc): Linear(in_features=64, out_features=6, bias=True)\n",
       "  ),\n",
       ")"
      ]
     },
     "metadata": {},
     "execution_count": 39
    }
   ],
   "source": [
    "classifier.fit(train_features, train_labels)\n"
   ]
  },
  {
   "cell_type": "markdown",
   "metadata": {
    "id": "PuwMlAfup2DI"
   },
   "source": [
    "***model is overfitting***: \n",
    "Run hyperparameter for best parameter setting"
   ]
  },
  {
   "cell_type": "code",
   "execution_count": null,
   "metadata": {
    "colab": {
     "base_uri": "https://localhost:8080/"
    },
    "id": "g6qb9lylp2DI",
    "outputId": "35fb4bb1-277a-403c-e631-c1b5f75f9411"
   },
   "outputs": [
    {
     "output_type": "stream",
     "name": "stdout",
     "text": [
      "  epoch    accuracy    f1-score    train_loss     dur\n",
      "-------  ----------  ----------  ------------  ------\n",
      "      1      \u001B[36m0.5175\u001B[0m      \u001B[32m0.4404\u001B[0m        \u001B[35m1.6780\u001B[0m  0.0804\n",
      "      2      \u001B[36m0.6162\u001B[0m      \u001B[32m0.4699\u001B[0m        \u001B[35m1.3630\u001B[0m  0.0802\n",
      "      3      0.6162      0.4699        \u001B[35m1.1085\u001B[0m  0.0799\n",
      "      4      \u001B[36m0.6175\u001B[0m      \u001B[32m0.4728\u001B[0m        \u001B[35m0.9461\u001B[0m  0.0801\n",
      "      5      \u001B[36m0.6713\u001B[0m      \u001B[32m0.5723\u001B[0m        \u001B[35m0.7750\u001B[0m  0.0813\n",
      "      6      \u001B[36m0.8137\u001B[0m      \u001B[32m0.7685\u001B[0m        \u001B[35m0.5885\u001B[0m  0.0797\n",
      "      7      \u001B[36m0.9038\u001B[0m      \u001B[32m0.8803\u001B[0m        \u001B[35m0.4217\u001B[0m  0.0927\n",
      "      8      \u001B[36m0.9500\u001B[0m      \u001B[32m0.9444\u001B[0m        \u001B[35m0.2963\u001B[0m  0.0806\n",
      "      9      \u001B[36m0.9762\u001B[0m      \u001B[32m0.9751\u001B[0m        \u001B[35m0.2098\u001B[0m  0.0785\n",
      "     10      \u001B[36m0.9900\u001B[0m      \u001B[32m0.9897\u001B[0m        \u001B[35m0.1522\u001B[0m  0.0799\n",
      "  epoch    accuracy    f1-score    train_loss     dur\n",
      "-------  ----------  ----------  ------------  ------\n",
      "      1      \u001B[36m0.3725\u001B[0m      \u001B[32m0.3917\u001B[0m        \u001B[35m1.7347\u001B[0m  0.0773\n",
      "      2      \u001B[36m0.6225\u001B[0m      \u001B[32m0.4857\u001B[0m        \u001B[35m1.3882\u001B[0m  0.0804\n",
      "      3      0.6162      0.4699        \u001B[35m1.1065\u001B[0m  0.0792\n",
      "      4      0.6188      0.4756        \u001B[35m0.9477\u001B[0m  0.0795\n",
      "      5      \u001B[36m0.6675\u001B[0m      \u001B[32m0.5709\u001B[0m        \u001B[35m0.7899\u001B[0m  0.0816\n",
      "      6      \u001B[36m0.7925\u001B[0m      \u001B[32m0.7484\u001B[0m        \u001B[35m0.6178\u001B[0m  0.0851\n",
      "      7      \u001B[36m0.8912\u001B[0m      \u001B[32m0.8736\u001B[0m        \u001B[35m0.4544\u001B[0m  0.0791\n",
      "      8      \u001B[36m0.9463\u001B[0m      \u001B[32m0.9405\u001B[0m        \u001B[35m0.3248\u001B[0m  0.0798\n",
      "      9      \u001B[36m0.9688\u001B[0m      \u001B[32m0.9673\u001B[0m        \u001B[35m0.2334\u001B[0m  0.0775\n",
      "     10      \u001B[36m0.9800\u001B[0m      \u001B[32m0.9792\u001B[0m        \u001B[35m0.1716\u001B[0m  0.0786\n",
      "  epoch    accuracy    f1-score    train_loss     dur\n",
      "-------  ----------  ----------  ------------  ------\n",
      "      1      \u001B[36m0.2725\u001B[0m      \u001B[32m0.3118\u001B[0m        \u001B[35m1.7552\u001B[0m  0.0891\n",
      "      2      \u001B[36m0.6250\u001B[0m      \u001B[32m0.5006\u001B[0m        \u001B[35m1.4438\u001B[0m  0.0836\n",
      "      3      0.6150      0.4684        \u001B[35m1.1385\u001B[0m  0.0819\n",
      "      4      0.6162      0.4712        \u001B[35m0.9632\u001B[0m  0.0801\n",
      "      5      \u001B[36m0.6675\u001B[0m      \u001B[32m0.5731\u001B[0m        \u001B[35m0.7885\u001B[0m  0.0754\n",
      "      6      \u001B[36m0.8187\u001B[0m      \u001B[32m0.7806\u001B[0m        \u001B[35m0.5963\u001B[0m  0.0778\n",
      "      7      \u001B[36m0.9137\u001B[0m      \u001B[32m0.8951\u001B[0m        \u001B[35m0.4213\u001B[0m  0.0801\n",
      "      8      \u001B[36m0.9575\u001B[0m      \u001B[32m0.9528\u001B[0m        \u001B[35m0.2912\u001B[0m  0.0816\n",
      "      9      \u001B[36m0.9712\u001B[0m      \u001B[32m0.9695\u001B[0m        \u001B[35m0.2047\u001B[0m  0.0770\n",
      "     10      \u001B[36m0.9838\u001B[0m      \u001B[32m0.9831\u001B[0m        \u001B[35m0.1487\u001B[0m  0.0759\n",
      "  epoch    accuracy    f1-score    train_loss     dur\n",
      "-------  ----------  ----------  ------------  ------\n",
      "      1      \u001B[36m0.5000\u001B[0m      \u001B[32m0.4405\u001B[0m        \u001B[35m1.6979\u001B[0m  0.0757\n",
      "      2      \u001B[36m0.6162\u001B[0m      \u001B[32m0.4699\u001B[0m        \u001B[35m1.3810\u001B[0m  0.0800\n",
      "      3      0.6162      0.4699        \u001B[35m1.1086\u001B[0m  0.0821\n",
      "      4      0.6162      0.4699        \u001B[35m0.9418\u001B[0m  0.0781\n",
      "      5      \u001B[36m0.6737\u001B[0m      \u001B[32m0.5799\u001B[0m        \u001B[35m0.7635\u001B[0m  0.0775\n",
      "      6      \u001B[36m0.8150\u001B[0m      \u001B[32m0.7823\u001B[0m        \u001B[35m0.5697\u001B[0m  0.0800\n",
      "      7      \u001B[36m0.9187\u001B[0m      \u001B[32m0.9090\u001B[0m        \u001B[35m0.3989\u001B[0m  0.0771\n",
      "      8      \u001B[36m0.9637\u001B[0m      \u001B[32m0.9603\u001B[0m        \u001B[35m0.2747\u001B[0m  0.0848\n",
      "      9      \u001B[36m0.9775\u001B[0m      \u001B[32m0.9752\u001B[0m        \u001B[35m0.1932\u001B[0m  0.0747\n",
      "     10      \u001B[36m0.9862\u001B[0m      \u001B[32m0.9859\u001B[0m        \u001B[35m0.1408\u001B[0m  0.0780\n",
      "  epoch    accuracy    f1-score    train_loss     dur\n",
      "-------  ----------  ----------  ------------  ------\n",
      "      1      \u001B[36m0.4338\u001B[0m      \u001B[32m0.4264\u001B[0m        \u001B[35m1.6982\u001B[0m  0.0763\n",
      "      2      \u001B[36m0.6175\u001B[0m      \u001B[32m0.4728\u001B[0m        \u001B[35m1.3803\u001B[0m  0.0790\n",
      "      3      0.6162      0.4699        \u001B[35m1.1174\u001B[0m  0.0810\n",
      "      4      0.6162      0.4699        \u001B[35m0.9515\u001B[0m  0.0862\n",
      "      5      \u001B[36m0.6800\u001B[0m      \u001B[32m0.5946\u001B[0m        \u001B[35m0.7728\u001B[0m  0.0787\n",
      "      6      \u001B[36m0.8213\u001B[0m      \u001B[32m0.7865\u001B[0m        \u001B[35m0.5757\u001B[0m  0.0787\n",
      "      7      \u001B[36m0.9237\u001B[0m      \u001B[32m0.9112\u001B[0m        \u001B[35m0.4008\u001B[0m  0.0783\n",
      "      8      \u001B[36m0.9613\u001B[0m      \u001B[32m0.9573\u001B[0m        \u001B[35m0.2744\u001B[0m  0.0749\n",
      "      9      \u001B[36m0.9750\u001B[0m      \u001B[32m0.9731\u001B[0m        \u001B[35m0.1922\u001B[0m  0.0773\n",
      "     10      \u001B[36m0.9838\u001B[0m      \u001B[32m0.9831\u001B[0m        \u001B[35m0.1399\u001B[0m  0.0811\n",
      "  epoch    accuracy    f1-score    train_loss     dur\n",
      "-------  ----------  ----------  ------------  ------\n",
      "      1      \u001B[36m0.5437\u001B[0m      \u001B[32m0.4500\u001B[0m        \u001B[35m1.6553\u001B[0m  0.0986\n",
      "      2      \u001B[36m0.6162\u001B[0m      \u001B[32m0.4699\u001B[0m        \u001B[35m1.2447\u001B[0m  0.1011\n",
      "      3      0.6162      0.4699        \u001B[35m0.9973\u001B[0m  0.0990\n",
      "      4      \u001B[36m0.6625\u001B[0m      \u001B[32m0.5605\u001B[0m        \u001B[35m0.7885\u001B[0m  0.0993\n",
      "      5      \u001B[36m0.8313\u001B[0m      \u001B[32m0.8004\u001B[0m        \u001B[35m0.5445\u001B[0m  0.0996\n",
      "      6      \u001B[36m0.9400\u001B[0m      \u001B[32m0.9323\u001B[0m        \u001B[35m0.3345\u001B[0m  0.1003\n",
      "      7      \u001B[36m0.9738\u001B[0m      \u001B[32m0.9717\u001B[0m        \u001B[35m0.2029\u001B[0m  0.0973\n",
      "      8      \u001B[36m0.9875\u001B[0m      \u001B[32m0.9870\u001B[0m        \u001B[35m0.1302\u001B[0m  0.0999\n",
      "      9      \u001B[36m0.9950\u001B[0m      \u001B[32m0.9948\u001B[0m        \u001B[35m0.0895\u001B[0m  0.0987\n",
      "     10      0.9950      0.9948        \u001B[35m0.0652\u001B[0m  0.0994\n",
      "  epoch    accuracy    f1-score    train_loss     dur\n",
      "-------  ----------  ----------  ------------  ------\n",
      "      1      \u001B[36m0.4813\u001B[0m      \u001B[32m0.4258\u001B[0m        \u001B[35m1.6661\u001B[0m  0.0980\n",
      "      2      \u001B[36m0.6162\u001B[0m      \u001B[32m0.4699\u001B[0m        \u001B[35m1.2376\u001B[0m  0.1027\n",
      "      3      0.6162      0.4699        \u001B[35m1.0010\u001B[0m  0.1017\n",
      "      4      \u001B[36m0.6625\u001B[0m      \u001B[32m0.5615\u001B[0m        \u001B[35m0.7987\u001B[0m  0.1007\n",
      "      5      \u001B[36m0.8125\u001B[0m      \u001B[32m0.7762\u001B[0m        \u001B[35m0.5653\u001B[0m  0.0984\n",
      "      6      \u001B[36m0.9187\u001B[0m      \u001B[32m0.9055\u001B[0m        \u001B[35m0.3587\u001B[0m  0.0981\n",
      "      7      \u001B[36m0.9650\u001B[0m      \u001B[32m0.9616\u001B[0m        \u001B[35m0.2236\u001B[0m  0.0978\n",
      "      8      \u001B[36m0.9838\u001B[0m      \u001B[32m0.9828\u001B[0m        \u001B[35m0.1458\u001B[0m  0.1003\n",
      "      9      \u001B[36m0.9900\u001B[0m      \u001B[32m0.9898\u001B[0m        \u001B[35m0.1004\u001B[0m  0.0977\n",
      "     10      \u001B[36m0.9938\u001B[0m      \u001B[32m0.9935\u001B[0m        \u001B[35m0.0727\u001B[0m  0.0979\n",
      "  epoch    accuracy    f1-score    train_loss     dur\n",
      "-------  ----------  ----------  ------------  ------\n",
      "      1      \u001B[36m0.4338\u001B[0m      \u001B[32m0.4010\u001B[0m        \u001B[35m1.6707\u001B[0m  0.0971\n",
      "      2      \u001B[36m0.6150\u001B[0m      \u001B[32m0.4684\u001B[0m        \u001B[35m1.2344\u001B[0m  0.0999\n",
      "      3      0.6150      0.4684        \u001B[35m1.0014\u001B[0m  0.0997\n",
      "      4      \u001B[36m0.6613\u001B[0m      \u001B[32m0.5594\u001B[0m        \u001B[35m0.7956\u001B[0m  0.0990\n",
      "      5      \u001B[36m0.8163\u001B[0m      \u001B[32m0.7809\u001B[0m        \u001B[35m0.5589\u001B[0m  0.0969\n",
      "      6      \u001B[36m0.9300\u001B[0m      \u001B[32m0.9181\u001B[0m        \u001B[35m0.3556\u001B[0m  0.1054\n",
      "      7      \u001B[36m0.9600\u001B[0m      \u001B[32m0.9562\u001B[0m        \u001B[35m0.2228\u001B[0m  0.1035\n",
      "      8      \u001B[36m0.9788\u001B[0m      \u001B[32m0.9774\u001B[0m        \u001B[35m0.1459\u001B[0m  0.1027\n",
      "      9      \u001B[36m0.9862\u001B[0m      \u001B[32m0.9857\u001B[0m        \u001B[35m0.1010\u001B[0m  0.1054\n",
      "     10      \u001B[36m0.9900\u001B[0m      \u001B[32m0.9898\u001B[0m        \u001B[35m0.0736\u001B[0m  0.1000\n",
      "  epoch    accuracy    f1-score    train_loss     dur\n",
      "-------  ----------  ----------  ------------  ------\n",
      "      1      \u001B[36m0.4363\u001B[0m      \u001B[32m0.4069\u001B[0m        \u001B[35m1.6792\u001B[0m  0.1022\n",
      "      2      \u001B[36m0.6162\u001B[0m      \u001B[32m0.4699\u001B[0m        \u001B[35m1.2474\u001B[0m  0.0988\n",
      "      3      0.6162      0.4699        \u001B[35m0.9982\u001B[0m  0.0993\n",
      "      4      \u001B[36m0.6687\u001B[0m      \u001B[32m0.5715\u001B[0m        \u001B[35m0.7852\u001B[0m  0.1014\n",
      "      5      \u001B[36m0.8313\u001B[0m      \u001B[32m0.7973\u001B[0m        \u001B[35m0.5433\u001B[0m  0.1018\n",
      "      6      \u001B[36m0.9313\u001B[0m      \u001B[32m0.9215\u001B[0m        \u001B[35m0.3377\u001B[0m  0.1017\n",
      "      7      \u001B[36m0.9750\u001B[0m      \u001B[32m0.9726\u001B[0m        \u001B[35m0.2086\u001B[0m  0.1032\n",
      "      8      \u001B[36m0.9825\u001B[0m      \u001B[32m0.9812\u001B[0m        \u001B[35m0.1358\u001B[0m  0.0999\n",
      "      9      \u001B[36m0.9900\u001B[0m      \u001B[32m0.9894\u001B[0m        \u001B[35m0.0938\u001B[0m  0.1009\n",
      "     10      \u001B[36m0.9925\u001B[0m      \u001B[32m0.9922\u001B[0m        \u001B[35m0.0682\u001B[0m  0.1017\n",
      "  epoch    accuracy    f1-score    train_loss     dur\n",
      "-------  ----------  ----------  ------------  ------\n",
      "      1      \u001B[36m0.5650\u001B[0m      \u001B[32m0.4593\u001B[0m        \u001B[35m1.6178\u001B[0m  0.0976\n",
      "      2      \u001B[36m0.6162\u001B[0m      \u001B[32m0.4699\u001B[0m        \u001B[35m1.2078\u001B[0m  0.0984\n",
      "      3      0.6162      0.4699        \u001B[35m0.9821\u001B[0m  0.0989\n",
      "      4      \u001B[36m0.6775\u001B[0m      \u001B[32m0.5803\u001B[0m        \u001B[35m0.7709\u001B[0m  0.1034\n",
      "      5      \u001B[36m0.8337\u001B[0m      \u001B[32m0.7972\u001B[0m        \u001B[35m0.5301\u001B[0m  0.1016\n",
      "      6      \u001B[36m0.9425\u001B[0m      \u001B[32m0.9356\u001B[0m        \u001B[35m0.3257\u001B[0m  0.0978\n",
      "      7      \u001B[36m0.9700\u001B[0m      \u001B[32m0.9677\u001B[0m        \u001B[35m0.1986\u001B[0m  0.0998\n",
      "      8      \u001B[36m0.9838\u001B[0m      \u001B[32m0.9832\u001B[0m        \u001B[35m0.1287\u001B[0m  0.0981\n",
      "      9      \u001B[36m0.9900\u001B[0m      \u001B[32m0.9898\u001B[0m        \u001B[35m0.0890\u001B[0m  0.0987\n",
      "     10      \u001B[36m0.9950\u001B[0m      \u001B[32m0.9948\u001B[0m        \u001B[35m0.0648\u001B[0m  0.1024\n",
      "  epoch    accuracy    f1-score    train_loss     dur\n",
      "-------  ----------  ----------  ------------  ------\n",
      "      1      \u001B[36m0.5938\u001B[0m      \u001B[32m0.4613\u001B[0m        \u001B[35m1.2643\u001B[0m  0.0746\n",
      "      2      \u001B[36m0.8187\u001B[0m      \u001B[32m0.7881\u001B[0m        \u001B[35m0.5154\u001B[0m  0.0767\n",
      "      3      \u001B[36m0.9938\u001B[0m      \u001B[32m0.9933\u001B[0m        \u001B[35m0.0450\u001B[0m  0.0785\n",
      "      4      \u001B[36m1.0000\u001B[0m      \u001B[32m1.0000\u001B[0m        \u001B[35m0.0074\u001B[0m  0.0803\n",
      "      5      1.0000      1.0000        \u001B[35m0.0034\u001B[0m  0.0760\n",
      "      6      1.0000      1.0000        \u001B[35m0.0022\u001B[0m  0.0755\n",
      "      7      1.0000      1.0000        \u001B[35m0.0016\u001B[0m  0.0773\n",
      "      8      1.0000      1.0000        \u001B[35m0.0012\u001B[0m  0.0727\n",
      "      9      1.0000      1.0000        \u001B[35m0.0010\u001B[0m  0.0743\n",
      "     10      1.0000      1.0000        \u001B[35m0.0008\u001B[0m  0.0777\n",
      "  epoch    accuracy    f1-score    train_loss     dur\n",
      "-------  ----------  ----------  ------------  ------\n",
      "      1      \u001B[36m0.5913\u001B[0m      \u001B[32m0.4616\u001B[0m        \u001B[35m1.2799\u001B[0m  0.0782\n",
      "      2      \u001B[36m0.7762\u001B[0m      \u001B[32m0.7342\u001B[0m        \u001B[35m0.5659\u001B[0m  0.0771\n",
      "      3      \u001B[36m0.9938\u001B[0m      \u001B[32m0.9937\u001B[0m        \u001B[35m0.0575\u001B[0m  0.0755\n",
      "      4      \u001B[36m1.0000\u001B[0m      \u001B[32m1.0000\u001B[0m        \u001B[35m0.0082\u001B[0m  0.0779\n",
      "      5      1.0000      1.0000        \u001B[35m0.0036\u001B[0m  0.0762\n",
      "      6      1.0000      1.0000        \u001B[35m0.0023\u001B[0m  0.0812\n",
      "      7      1.0000      1.0000        \u001B[35m0.0017\u001B[0m  0.0772\n",
      "      8      1.0000      1.0000        \u001B[35m0.0013\u001B[0m  0.0786\n",
      "      9      1.0000      1.0000        \u001B[35m0.0010\u001B[0m  0.0800\n",
      "     10      1.0000      1.0000        \u001B[35m0.0009\u001B[0m  0.0766\n",
      "  epoch    accuracy    f1-score    train_loss     dur\n",
      "-------  ----------  ----------  ------------  ------\n",
      "      1      \u001B[36m0.5763\u001B[0m      \u001B[32m0.4598\u001B[0m        \u001B[35m1.2772\u001B[0m  0.0785\n",
      "      2      \u001B[36m0.8013\u001B[0m      \u001B[32m0.7613\u001B[0m        \u001B[35m0.5256\u001B[0m  0.0838\n",
      "      3      \u001B[36m0.9912\u001B[0m      \u001B[32m0.9911\u001B[0m        \u001B[35m0.0532\u001B[0m  0.0775\n",
      "      4      \u001B[36m1.0000\u001B[0m      \u001B[32m1.0000\u001B[0m        \u001B[35m0.0076\u001B[0m  0.0774\n",
      "      5      1.0000      1.0000        \u001B[35m0.0034\u001B[0m  0.0799\n",
      "      6      1.0000      1.0000        \u001B[35m0.0022\u001B[0m  0.0791\n",
      "      7      1.0000      1.0000        \u001B[35m0.0016\u001B[0m  0.0843\n",
      "      8      1.0000      1.0000        \u001B[35m0.0012\u001B[0m  0.0787\n",
      "      9      1.0000      1.0000        \u001B[35m0.0010\u001B[0m  0.0772\n",
      "     10      1.0000      1.0000        \u001B[35m0.0008\u001B[0m  0.0796\n",
      "  epoch    accuracy    f1-score    train_loss     dur\n",
      "-------  ----------  ----------  ------------  ------\n",
      "      1      \u001B[36m0.6112\u001B[0m      \u001B[32m0.4704\u001B[0m        \u001B[35m1.2577\u001B[0m  0.0755\n",
      "      2      \u001B[36m0.8187\u001B[0m      \u001B[32m0.7886\u001B[0m        \u001B[35m0.4930\u001B[0m  0.0794\n",
      "      3      \u001B[36m0.9938\u001B[0m      \u001B[32m0.9935\u001B[0m        \u001B[35m0.0448\u001B[0m  0.0766\n",
      "      4      \u001B[36m1.0000\u001B[0m      \u001B[32m1.0000\u001B[0m        \u001B[35m0.0077\u001B[0m  0.0805\n",
      "      5      1.0000      1.0000        \u001B[35m0.0034\u001B[0m  0.0787\n",
      "      6      1.0000      1.0000        \u001B[35m0.0022\u001B[0m  0.0765\n",
      "      7      1.0000      1.0000        \u001B[35m0.0016\u001B[0m  0.0776\n",
      "      8      1.0000      1.0000        \u001B[35m0.0012\u001B[0m  0.0844\n",
      "      9      1.0000      1.0000        \u001B[35m0.0010\u001B[0m  0.0801\n",
      "     10      1.0000      1.0000        \u001B[35m0.0008\u001B[0m  0.0801\n",
      "  epoch    accuracy    f1-score    train_loss     dur\n",
      "-------  ----------  ----------  ------------  ------\n",
      "      1      \u001B[36m0.6000\u001B[0m      \u001B[32m0.4735\u001B[0m        \u001B[35m1.2555\u001B[0m  0.0772\n",
      "      2      \u001B[36m0.8200\u001B[0m      \u001B[32m0.7881\u001B[0m        \u001B[35m0.5117\u001B[0m  0.0809\n",
      "      3      \u001B[36m0.9925\u001B[0m      \u001B[32m0.9923\u001B[0m        \u001B[35m0.0570\u001B[0m  0.0786\n",
      "      4      \u001B[36m1.0000\u001B[0m      \u001B[32m1.0000\u001B[0m        \u001B[35m0.0085\u001B[0m  0.0782\n",
      "      5      1.0000      1.0000        \u001B[35m0.0035\u001B[0m  0.0821\n",
      "      6      1.0000      1.0000        \u001B[35m0.0022\u001B[0m  0.0805\n",
      "      7      1.0000      1.0000        \u001B[35m0.0015\u001B[0m  0.0880\n",
      "      8      1.0000      1.0000        \u001B[35m0.0012\u001B[0m  0.0776\n",
      "      9      1.0000      1.0000        \u001B[35m0.0009\u001B[0m  0.0771\n",
      "     10      1.0000      1.0000        \u001B[35m0.0008\u001B[0m  0.0772\n",
      "  epoch    accuracy    f1-score    train_loss     dur\n",
      "-------  ----------  ----------  ------------  ------\n",
      "      1      \u001B[36m0.5737\u001B[0m      \u001B[32m0.4575\u001B[0m        \u001B[35m1.2653\u001B[0m  0.1002\n",
      "      2      \u001B[36m0.8375\u001B[0m      \u001B[32m0.8147\u001B[0m        \u001B[35m0.4327\u001B[0m  0.1025\n",
      "      3      \u001B[36m0.9962\u001B[0m      \u001B[32m0.9961\u001B[0m        \u001B[35m0.0226\u001B[0m  0.0999\n",
      "      4      \u001B[36m1.0000\u001B[0m      \u001B[32m1.0000\u001B[0m        \u001B[35m0.0034\u001B[0m  0.1005\n",
      "      5      1.0000      1.0000        \u001B[35m0.0016\u001B[0m  0.1017\n",
      "      6      1.0000      1.0000        \u001B[35m0.0010\u001B[0m  0.0985\n",
      "      7      1.0000      1.0000        \u001B[35m0.0008\u001B[0m  0.0988\n",
      "      8      1.0000      1.0000        \u001B[35m0.0006\u001B[0m  0.0985\n",
      "      9      1.0000      1.0000        \u001B[35m0.0005\u001B[0m  0.1071\n",
      "     10      1.0000      1.0000        \u001B[35m0.0004\u001B[0m  0.0993\n",
      "  epoch    accuracy    f1-score    train_loss     dur\n",
      "-------  ----------  ----------  ------------  ------\n",
      "      1      \u001B[36m0.5887\u001B[0m      \u001B[32m0.4593\u001B[0m        \u001B[35m1.2460\u001B[0m  0.0977\n",
      "      2      \u001B[36m0.8462\u001B[0m      \u001B[32m0.8276\u001B[0m        \u001B[35m0.3777\u001B[0m  0.0982\n",
      "      3      \u001B[36m0.9962\u001B[0m      \u001B[32m0.9962\u001B[0m        \u001B[35m0.0198\u001B[0m  0.0999\n",
      "      4      \u001B[36m1.0000\u001B[0m      \u001B[32m1.0000\u001B[0m        \u001B[35m0.0033\u001B[0m  0.1011\n",
      "      5      1.0000      1.0000        \u001B[35m0.0016\u001B[0m  0.0991\n",
      "      6      1.0000      1.0000        \u001B[35m0.0011\u001B[0m  0.1011\n",
      "      7      1.0000      1.0000        \u001B[35m0.0008\u001B[0m  0.1027\n",
      "      8      1.0000      1.0000        \u001B[35m0.0006\u001B[0m  0.0991\n",
      "      9      1.0000      1.0000        \u001B[35m0.0005\u001B[0m  0.0999\n",
      "     10      1.0000      1.0000        \u001B[35m0.0004\u001B[0m  0.0973\n",
      "  epoch    accuracy    f1-score    train_loss     dur\n",
      "-------  ----------  ----------  ------------  ------\n",
      "      1      \u001B[36m0.5875\u001B[0m      \u001B[32m0.4618\u001B[0m        \u001B[35m1.2715\u001B[0m  0.0972\n",
      "      2      \u001B[36m0.8762\u001B[0m      \u001B[32m0.8616\u001B[0m        \u001B[35m0.3711\u001B[0m  0.1058\n",
      "      3      \u001B[36m0.9975\u001B[0m      \u001B[32m0.9975\u001B[0m        \u001B[35m0.0212\u001B[0m  0.1021\n",
      "      4      \u001B[36m1.0000\u001B[0m      \u001B[32m1.0000\u001B[0m        \u001B[35m0.0028\u001B[0m  0.1068\n",
      "      5      1.0000      1.0000        \u001B[35m0.0014\u001B[0m  0.0990\n",
      "      6      1.0000      1.0000        \u001B[35m0.0010\u001B[0m  0.0991\n",
      "      7      1.0000      1.0000        \u001B[35m0.0007\u001B[0m  0.1015\n",
      "      8      1.0000      1.0000        \u001B[35m0.0006\u001B[0m  0.1017\n",
      "      9      1.0000      1.0000        \u001B[35m0.0005\u001B[0m  0.0993\n",
      "     10      1.0000      1.0000        \u001B[35m0.0004\u001B[0m  0.0979\n",
      "  epoch    accuracy    f1-score    train_loss     dur\n",
      "-------  ----------  ----------  ------------  ------\n",
      "      1      \u001B[36m0.6000\u001B[0m      \u001B[32m0.4708\u001B[0m        \u001B[35m1.2459\u001B[0m  0.1002\n",
      "      2      \u001B[36m0.8925\u001B[0m      \u001B[32m0.8792\u001B[0m        \u001B[35m0.3608\u001B[0m  0.1037\n",
      "      3      \u001B[36m0.9975\u001B[0m      \u001B[32m0.9975\u001B[0m        \u001B[35m0.0223\u001B[0m  0.0997\n",
      "      4      \u001B[36m1.0000\u001B[0m      \u001B[32m1.0000\u001B[0m        \u001B[35m0.0030\u001B[0m  0.1005\n",
      "      5      1.0000      1.0000        \u001B[35m0.0014\u001B[0m  0.0996\n",
      "      6      1.0000      1.0000        \u001B[35m0.0009\u001B[0m  0.1019\n",
      "      7      1.0000      1.0000        \u001B[35m0.0007\u001B[0m  0.1024\n",
      "      8      1.0000      1.0000        \u001B[35m0.0005\u001B[0m  0.0997\n",
      "      9      1.0000      1.0000        \u001B[35m0.0004\u001B[0m  0.0994\n",
      "     10      1.0000      1.0000        \u001B[35m0.0004\u001B[0m  0.0998\n",
      "  epoch    accuracy    f1-score    train_loss     dur\n",
      "-------  ----------  ----------  ------------  ------\n",
      "      1      \u001B[36m0.5950\u001B[0m      \u001B[32m0.4623\u001B[0m        \u001B[35m1.2556\u001B[0m  0.1030\n",
      "      2      \u001B[36m0.8938\u001B[0m      \u001B[32m0.8801\u001B[0m        \u001B[35m0.3467\u001B[0m  0.1030\n",
      "      3      \u001B[36m0.9988\u001B[0m      \u001B[32m0.9987\u001B[0m        \u001B[35m0.0216\u001B[0m  0.1031\n",
      "      4      \u001B[36m1.0000\u001B[0m      \u001B[32m1.0000\u001B[0m        \u001B[35m0.0033\u001B[0m  0.1007\n",
      "      5      1.0000      1.0000        \u001B[35m0.0016\u001B[0m  0.1034\n",
      "      6      1.0000      1.0000        \u001B[35m0.0010\u001B[0m  0.1072\n",
      "      7      1.0000      1.0000        \u001B[35m0.0008\u001B[0m  0.1053\n",
      "      8      1.0000      1.0000        \u001B[35m0.0006\u001B[0m  0.1043\n",
      "      9      1.0000      1.0000        \u001B[35m0.0005\u001B[0m  0.1037\n",
      "     10      1.0000      1.0000        \u001B[35m0.0004\u001B[0m  0.1080\n",
      "  epoch    accuracy    f1-score    train_loss     dur\n",
      "-------  ----------  ----------  ------------  ------\n",
      "      1      \u001B[36m0.4250\u001B[0m      \u001B[32m0.4078\u001B[0m        \u001B[35m1.6833\u001B[0m  0.0508\n",
      "      2      \u001B[36m0.6162\u001B[0m      \u001B[32m0.4703\u001B[0m        \u001B[35m1.5150\u001B[0m  0.0491\n",
      "      3      0.6162      0.4699        \u001B[35m1.3278\u001B[0m  0.0505\n",
      "      4      0.6162      0.4699        \u001B[35m1.1489\u001B[0m  0.0483\n",
      "      5      0.6162      0.4699        \u001B[35m1.0152\u001B[0m  0.0478\n",
      "      6      \u001B[36m0.6188\u001B[0m      \u001B[32m0.4756\u001B[0m        \u001B[35m0.9035\u001B[0m  0.0478\n",
      "      7      \u001B[36m0.6663\u001B[0m      \u001B[32m0.5698\u001B[0m        \u001B[35m0.7873\u001B[0m  0.0495\n",
      "      8      \u001B[36m0.7775\u001B[0m      \u001B[32m0.7303\u001B[0m        \u001B[35m0.6646\u001B[0m  0.0497\n",
      "      9      \u001B[36m0.8525\u001B[0m      \u001B[32m0.8154\u001B[0m        \u001B[35m0.5430\u001B[0m  0.0483\n",
      "     10      \u001B[36m0.9038\u001B[0m      \u001B[32m0.8765\u001B[0m        \u001B[35m0.4331\u001B[0m  0.0474\n",
      "  epoch    accuracy    f1-score    train_loss     dur\n",
      "-------  ----------  ----------  ------------  ------\n",
      "      1      \u001B[36m0.2313\u001B[0m      \u001B[32m0.2834\u001B[0m        \u001B[35m1.7766\u001B[0m  0.0467\n",
      "      2      \u001B[36m0.6150\u001B[0m      \u001B[32m0.5122\u001B[0m        \u001B[35m1.6023\u001B[0m  0.0520\n",
      "      3      \u001B[36m0.6212\u001B[0m      0.4829        \u001B[35m1.4018\u001B[0m  0.0477\n",
      "      4      0.6175      0.4728        \u001B[35m1.1999\u001B[0m  0.0491\n",
      "      5      0.6175      0.4728        \u001B[35m1.0503\u001B[0m  0.0481\n",
      "      6      0.6200      0.4784        \u001B[35m0.9351\u001B[0m  0.0541\n",
      "      7      \u001B[36m0.6475\u001B[0m      \u001B[32m0.5352\u001B[0m        \u001B[35m0.8189\u001B[0m  0.0487\n",
      "      8      \u001B[36m0.7300\u001B[0m      \u001B[32m0.6700\u001B[0m        \u001B[35m0.6972\u001B[0m  0.0485\n",
      "      9      \u001B[36m0.8175\u001B[0m      \u001B[32m0.7826\u001B[0m        \u001B[35m0.5751\u001B[0m  0.0480\n",
      "     10      \u001B[36m0.8912\u001B[0m      \u001B[32m0.8778\u001B[0m        \u001B[35m0.4617\u001B[0m  0.0481\n",
      "  epoch    accuracy    f1-score    train_loss     dur\n",
      "-------  ----------  ----------  ------------  ------\n",
      "      1      \u001B[36m0.0900\u001B[0m      \u001B[32m0.1255\u001B[0m        \u001B[35m1.7953\u001B[0m  0.0467\n",
      "      2      \u001B[36m0.5450\u001B[0m      \u001B[32m0.5002\u001B[0m        \u001B[35m1.6272\u001B[0m  0.0491\n",
      "      3      \u001B[36m0.6225\u001B[0m      0.4873        \u001B[35m1.4210\u001B[0m  0.0500\n",
      "      4      0.6150      0.4684        \u001B[35m1.2060\u001B[0m  0.0481\n",
      "      5      0.6150      0.4684        \u001B[35m1.0458\u001B[0m  0.0487\n",
      "      6      0.6225      0.4849        \u001B[35m0.9205\u001B[0m  0.0473\n",
      "      7      \u001B[36m0.6713\u001B[0m      \u001B[32m0.5759\u001B[0m        \u001B[35m0.7928\u001B[0m  0.0470\n",
      "      8      \u001B[36m0.7863\u001B[0m      \u001B[32m0.7408\u001B[0m        \u001B[35m0.6616\u001B[0m  0.0456\n",
      "      9      \u001B[36m0.8550\u001B[0m      \u001B[32m0.8271\u001B[0m        \u001B[35m0.5352\u001B[0m  0.0479\n",
      "     10      \u001B[36m0.9237\u001B[0m      \u001B[32m0.9088\u001B[0m        \u001B[35m0.4238\u001B[0m  0.0509\n",
      "  epoch    accuracy    f1-score    train_loss     dur\n",
      "-------  ----------  ----------  ------------  ------\n",
      "      1      \u001B[36m0.4363\u001B[0m      \u001B[32m0.4074\u001B[0m        \u001B[35m1.7240\u001B[0m  0.0469\n",
      "      2      \u001B[36m0.6162\u001B[0m      \u001B[32m0.4699\u001B[0m        \u001B[35m1.5573\u001B[0m  0.0512\n",
      "      3      0.6162      0.4699        \u001B[35m1.3689\u001B[0m  0.0527\n",
      "      4      0.6162      0.4699        \u001B[35m1.1829\u001B[0m  0.0505\n",
      "      5      0.6162      0.4699        \u001B[35m1.0430\u001B[0m  0.0502\n",
      "      6      \u001B[36m0.6175\u001B[0m      \u001B[32m0.4728\u001B[0m        \u001B[35m0.9281\u001B[0m  0.0486\n",
      "      7      \u001B[36m0.6562\u001B[0m      \u001B[32m0.5474\u001B[0m        \u001B[35m0.8066\u001B[0m  0.0524\n",
      "      8      \u001B[36m0.7450\u001B[0m      \u001B[32m0.6851\u001B[0m        \u001B[35m0.6761\u001B[0m  0.0525\n",
      "      9      \u001B[36m0.8488\u001B[0m      \u001B[32m0.8171\u001B[0m        \u001B[35m0.5461\u001B[0m  0.0501\n",
      "     10      \u001B[36m0.9062\u001B[0m      \u001B[32m0.8922\u001B[0m        \u001B[35m0.4294\u001B[0m  0.0507\n",
      "  epoch    accuracy    f1-score    train_loss     dur\n",
      "-------  ----------  ----------  ------------  ------\n",
      "      1      \u001B[36m0.6050\u001B[0m      \u001B[32m0.4699\u001B[0m        \u001B[35m1.6858\u001B[0m  0.0500\n",
      "      2      \u001B[36m0.6162\u001B[0m      \u001B[32m0.4699\u001B[0m        \u001B[35m1.5246\u001B[0m  0.0498\n",
      "      3      0.6162      0.4699        \u001B[35m1.3393\u001B[0m  0.0478\n",
      "      4      0.6162      0.4699        \u001B[35m1.1587\u001B[0m  0.0480\n",
      "      5      0.6162      0.4699        \u001B[35m1.0232\u001B[0m  0.0482\n",
      "      6      \u001B[36m0.6175\u001B[0m      \u001B[32m0.4728\u001B[0m        \u001B[35m0.9062\u001B[0m  0.0487\n",
      "      7      \u001B[36m0.6538\u001B[0m      \u001B[32m0.5465\u001B[0m        \u001B[35m0.7807\u001B[0m  0.0512\n",
      "      8      \u001B[36m0.7688\u001B[0m      \u001B[32m0.7226\u001B[0m        \u001B[35m0.6490\u001B[0m  0.0474\n",
      "      9      \u001B[36m0.8662\u001B[0m      \u001B[32m0.8464\u001B[0m        \u001B[35m0.5207\u001B[0m  0.0552\n",
      "     10      \u001B[36m0.9313\u001B[0m      \u001B[32m0.9208\u001B[0m        \u001B[35m0.4078\u001B[0m  0.0476\n",
      "  epoch    accuracy    f1-score    train_loss     dur\n",
      "-------  ----------  ----------  ------------  ------\n",
      "      1      \u001B[36m0.4738\u001B[0m      \u001B[32m0.4211\u001B[0m        \u001B[35m1.7171\u001B[0m  0.0596\n",
      "      2      \u001B[36m0.6162\u001B[0m      \u001B[32m0.4699\u001B[0m        \u001B[35m1.4480\u001B[0m  0.0612\n",
      "      3      0.6162      0.4699        \u001B[35m1.1834\u001B[0m  0.0604\n",
      "      4      0.6162      0.4699        \u001B[35m1.0163\u001B[0m  0.0619\n",
      "      5      \u001B[36m0.6200\u001B[0m      \u001B[32m0.4784\u001B[0m        \u001B[35m0.8827\u001B[0m  0.0604\n",
      "      6      \u001B[36m0.6913\u001B[0m      \u001B[32m0.6111\u001B[0m        \u001B[35m0.7355\u001B[0m  0.0634\n",
      "      7      \u001B[36m0.8187\u001B[0m      \u001B[32m0.7786\u001B[0m        \u001B[35m0.5786\u001B[0m  0.0703\n",
      "      8      \u001B[36m0.9062\u001B[0m      \u001B[32m0.8875\u001B[0m        \u001B[35m0.4314\u001B[0m  0.0705\n",
      "      9      \u001B[36m0.9475\u001B[0m      \u001B[32m0.9405\u001B[0m        \u001B[35m0.3126\u001B[0m  0.0595\n",
      "     10      \u001B[36m0.9675\u001B[0m      \u001B[32m0.9638\u001B[0m        \u001B[35m0.2266\u001B[0m  0.0617\n",
      "  epoch    accuracy    f1-score    train_loss     dur\n",
      "-------  ----------  ----------  ------------  ------\n",
      "      1      \u001B[36m0.4875\u001B[0m      \u001B[32m0.4271\u001B[0m        \u001B[35m1.6835\u001B[0m  0.0619\n",
      "      2      \u001B[36m0.6162\u001B[0m      \u001B[32m0.4699\u001B[0m        \u001B[35m1.4345\u001B[0m  0.0615\n",
      "      3      0.6162      0.4699        \u001B[35m1.1876\u001B[0m  0.0619\n",
      "      4      0.6162      0.4699        \u001B[35m1.0198\u001B[0m  0.0638\n",
      "      5      \u001B[36m0.6200\u001B[0m      \u001B[32m0.4784\u001B[0m        \u001B[35m0.8853\u001B[0m  0.0612\n",
      "      6      \u001B[36m0.6950\u001B[0m      \u001B[32m0.6150\u001B[0m        \u001B[35m0.7368\u001B[0m  0.0590\n",
      "      7      \u001B[36m0.8113\u001B[0m      \u001B[32m0.7701\u001B[0m        \u001B[35m0.5799\u001B[0m  0.0604\n",
      "      8      \u001B[36m0.8862\u001B[0m      \u001B[32m0.8697\u001B[0m        \u001B[35m0.4332\u001B[0m  0.0638\n",
      "      9      \u001B[36m0.9450\u001B[0m      \u001B[32m0.9397\u001B[0m        \u001B[35m0.3156\u001B[0m  0.0612\n",
      "     10      \u001B[36m0.9700\u001B[0m      \u001B[32m0.9678\u001B[0m        \u001B[35m0.2308\u001B[0m  0.0645\n",
      "  epoch    accuracy    f1-score    train_loss     dur\n",
      "-------  ----------  ----------  ------------  ------\n",
      "      1      \u001B[36m0.5000\u001B[0m      \u001B[32m0.4306\u001B[0m        \u001B[35m1.7142\u001B[0m  0.0576\n",
      "      2      \u001B[36m0.6150\u001B[0m      \u001B[32m0.4684\u001B[0m        \u001B[35m1.4531\u001B[0m  0.0602\n",
      "      3      0.6150      0.4684        \u001B[35m1.1914\u001B[0m  0.0598\n",
      "      4      0.6150      0.4684        \u001B[35m1.0185\u001B[0m  0.0590\n",
      "      5      \u001B[36m0.6238\u001B[0m      \u001B[32m0.4879\u001B[0m        \u001B[35m0.8710\u001B[0m  0.0616\n",
      "      6      \u001B[36m0.7400\u001B[0m      \u001B[32m0.6834\u001B[0m        \u001B[35m0.7091\u001B[0m  0.0603\n",
      "      7      \u001B[36m0.8588\u001B[0m      \u001B[32m0.8348\u001B[0m        \u001B[35m0.5446\u001B[0m  0.0598\n",
      "      8      \u001B[36m0.9237\u001B[0m      \u001B[32m0.9117\u001B[0m        \u001B[35m0.3996\u001B[0m  0.0605\n",
      "      9      \u001B[36m0.9550\u001B[0m      \u001B[32m0.9499\u001B[0m        \u001B[35m0.2890\u001B[0m  0.0590\n",
      "     10      \u001B[36m0.9725\u001B[0m      \u001B[32m0.9705\u001B[0m        \u001B[35m0.2112\u001B[0m  0.0595\n",
      "  epoch    accuracy    f1-score    train_loss     dur\n",
      "-------  ----------  ----------  ------------  ------\n",
      "      1      \u001B[36m0.5363\u001B[0m      \u001B[32m0.4588\u001B[0m        \u001B[35m1.6754\u001B[0m  0.0577\n",
      "      2      \u001B[36m0.6162\u001B[0m      \u001B[32m0.4699\u001B[0m        \u001B[35m1.4441\u001B[0m  0.0623\n",
      "      3      0.6162      0.4699        \u001B[35m1.1959\u001B[0m  0.0598\n",
      "      4      0.6162      0.4699        \u001B[35m1.0136\u001B[0m  0.0605\n",
      "      5      \u001B[36m0.6288\u001B[0m      \u001B[32m0.4974\u001B[0m        \u001B[35m0.8594\u001B[0m  0.0598\n",
      "      6      \u001B[36m0.7412\u001B[0m      \u001B[32m0.6830\u001B[0m        \u001B[35m0.6906\u001B[0m  0.0595\n",
      "      7      \u001B[36m0.8612\u001B[0m      \u001B[32m0.8388\u001B[0m        \u001B[35m0.5221\u001B[0m  0.0592\n",
      "      8      \u001B[36m0.9225\u001B[0m      \u001B[32m0.9104\u001B[0m        \u001B[35m0.3785\u001B[0m  0.0613\n",
      "      9      \u001B[36m0.9600\u001B[0m      \u001B[32m0.9551\u001B[0m        \u001B[35m0.2723\u001B[0m  0.0603\n",
      "     10      \u001B[36m0.9762\u001B[0m      \u001B[32m0.9739\u001B[0m        \u001B[35m0.1987\u001B[0m  0.0597\n",
      "  epoch    accuracy    f1-score    train_loss     dur\n",
      "-------  ----------  ----------  ------------  ------\n",
      "      1      \u001B[36m0.3800\u001B[0m      \u001B[32m0.3885\u001B[0m        \u001B[35m1.7310\u001B[0m  0.0577\n",
      "      2      \u001B[36m0.6162\u001B[0m      \u001B[32m0.4699\u001B[0m        \u001B[35m1.4653\u001B[0m  0.0640\n",
      "      3      0.6162      0.4699        \u001B[35m1.1944\u001B[0m  0.0674\n",
      "      4      0.6162      0.4699        \u001B[35m1.0145\u001B[0m  0.0619\n",
      "      5      \u001B[36m0.6225\u001B[0m      \u001B[32m0.4839\u001B[0m        \u001B[35m0.8676\u001B[0m  0.0614\n",
      "      6      \u001B[36m0.7262\u001B[0m      \u001B[32m0.6594\u001B[0m        \u001B[35m0.7104\u001B[0m  0.0601\n",
      "      7      \u001B[36m0.8425\u001B[0m      \u001B[32m0.8088\u001B[0m        \u001B[35m0.5507\u001B[0m  0.0603\n",
      "      8      \u001B[36m0.9250\u001B[0m      \u001B[32m0.9128\u001B[0m        \u001B[35m0.4059\u001B[0m  0.0629\n",
      "      9      \u001B[36m0.9500\u001B[0m      \u001B[32m0.9439\u001B[0m        \u001B[35m0.2928\u001B[0m  0.0606\n",
      "     10      \u001B[36m0.9675\u001B[0m      \u001B[32m0.9638\u001B[0m        \u001B[35m0.2132\u001B[0m  0.0606\n",
      "  epoch    accuracy    f1-score    train_loss     dur\n",
      "-------  ----------  ----------  ------------  ------\n",
      "      1      \u001B[36m0.5437\u001B[0m      \u001B[32m0.4474\u001B[0m        \u001B[35m1.4077\u001B[0m  0.0460\n",
      "      2      \u001B[36m0.6875\u001B[0m      \u001B[32m0.6047\u001B[0m        \u001B[35m0.8130\u001B[0m  0.0507\n",
      "      3      \u001B[36m0.9563\u001B[0m      \u001B[32m0.9493\u001B[0m        \u001B[35m0.2230\u001B[0m  0.0477\n",
      "      4      \u001B[36m0.9962\u001B[0m      \u001B[32m0.9962\u001B[0m        \u001B[35m0.0329\u001B[0m  0.0456\n",
      "      5      \u001B[36m1.0000\u001B[0m      \u001B[32m1.0000\u001B[0m        \u001B[35m0.0094\u001B[0m  0.0485\n",
      "      6      1.0000      1.0000        \u001B[35m0.0044\u001B[0m  0.0483\n",
      "      7      1.0000      1.0000        \u001B[35m0.0028\u001B[0m  0.0531\n",
      "      8      1.0000      1.0000        \u001B[35m0.0020\u001B[0m  0.0566\n",
      "      9      1.0000      1.0000        \u001B[35m0.0016\u001B[0m  0.0542\n",
      "     10      1.0000      1.0000        \u001B[35m0.0013\u001B[0m  0.0523\n",
      "  epoch    accuracy    f1-score    train_loss     dur\n",
      "-------  ----------  ----------  ------------  ------\n",
      "      1      \u001B[36m0.5675\u001B[0m      \u001B[32m0.4592\u001B[0m        \u001B[35m1.3643\u001B[0m  0.0484\n",
      "      2      \u001B[36m0.7075\u001B[0m      \u001B[32m0.6366\u001B[0m        \u001B[35m0.7806\u001B[0m  0.0514\n",
      "      3      \u001B[36m0.9563\u001B[0m      \u001B[32m0.9517\u001B[0m        \u001B[35m0.2348\u001B[0m  0.0497\n",
      "      4      \u001B[36m0.9962\u001B[0m      \u001B[32m0.9962\u001B[0m        \u001B[35m0.0396\u001B[0m  0.0505\n",
      "      5      \u001B[36m1.0000\u001B[0m      \u001B[32m1.0000\u001B[0m        \u001B[35m0.0116\u001B[0m  0.0475\n",
      "      6      1.0000      1.0000        \u001B[35m0.0055\u001B[0m  0.0475\n",
      "      7      1.0000      1.0000        \u001B[35m0.0034\u001B[0m  0.0478\n",
      "      8      1.0000      1.0000        \u001B[35m0.0024\u001B[0m  0.0509\n",
      "      9      1.0000      1.0000        \u001B[35m0.0019\u001B[0m  0.0485\n",
      "     10      1.0000      1.0000        \u001B[35m0.0015\u001B[0m  0.0503\n",
      "  epoch    accuracy    f1-score    train_loss     dur\n",
      "-------  ----------  ----------  ------------  ------\n",
      "      1      \u001B[36m0.5850\u001B[0m      \u001B[32m0.4576\u001B[0m        \u001B[35m1.3611\u001B[0m  0.0453\n",
      "      2      \u001B[36m0.7250\u001B[0m      \u001B[32m0.6603\u001B[0m        \u001B[35m0.7758\u001B[0m  0.0479\n",
      "      3      \u001B[36m0.9525\u001B[0m      \u001B[32m0.9469\u001B[0m        \u001B[35m0.2263\u001B[0m  0.0476\n",
      "      4      \u001B[36m0.9950\u001B[0m      \u001B[32m0.9948\u001B[0m        \u001B[35m0.0395\u001B[0m  0.0493\n",
      "      5      \u001B[36m1.0000\u001B[0m      \u001B[32m1.0000\u001B[0m        \u001B[35m0.0110\u001B[0m  0.0537\n",
      "      6      1.0000      1.0000        \u001B[35m0.0050\u001B[0m  0.0482\n",
      "      7      1.0000      1.0000        \u001B[35m0.0031\u001B[0m  0.0494\n",
      "      8      1.0000      1.0000        \u001B[35m0.0023\u001B[0m  0.0496\n",
      "      9      1.0000      1.0000        \u001B[35m0.0018\u001B[0m  0.0473\n",
      "     10      1.0000      1.0000        \u001B[35m0.0015\u001B[0m  0.0490\n",
      "  epoch    accuracy    f1-score    train_loss     dur\n",
      "-------  ----------  ----------  ------------  ------\n",
      "      1      \u001B[36m0.5663\u001B[0m      \u001B[32m0.4585\u001B[0m        \u001B[35m1.3958\u001B[0m  0.0479\n",
      "      2      \u001B[36m0.7238\u001B[0m      \u001B[32m0.6594\u001B[0m        \u001B[35m0.7732\u001B[0m  0.0470\n",
      "      3      \u001B[36m0.9750\u001B[0m      \u001B[32m0.9705\u001B[0m        \u001B[35m0.2284\u001B[0m  0.0489\n",
      "      4      \u001B[36m0.9975\u001B[0m      \u001B[32m0.9974\u001B[0m        \u001B[35m0.0399\u001B[0m  0.0476\n",
      "      5      \u001B[36m1.0000\u001B[0m      \u001B[32m1.0000\u001B[0m        \u001B[35m0.0113\u001B[0m  0.0491\n",
      "      6      1.0000      1.0000        \u001B[35m0.0051\u001B[0m  0.0475\n",
      "      7      1.0000      1.0000        \u001B[35m0.0031\u001B[0m  0.0474\n",
      "      8      1.0000      1.0000        \u001B[35m0.0022\u001B[0m  0.0539\n",
      "      9      1.0000      1.0000        \u001B[35m0.0017\u001B[0m  0.0477\n",
      "     10      1.0000      1.0000        \u001B[35m0.0014\u001B[0m  0.0485\n",
      "  epoch    accuracy    f1-score    train_loss     dur\n",
      "-------  ----------  ----------  ------------  ------\n",
      "      1      \u001B[36m0.5737\u001B[0m      \u001B[32m0.4676\u001B[0m        \u001B[35m1.3772\u001B[0m  0.0456\n",
      "      2      \u001B[36m0.7225\u001B[0m      \u001B[32m0.6582\u001B[0m        \u001B[35m0.7628\u001B[0m  0.0564\n",
      "      3      \u001B[36m0.9475\u001B[0m      \u001B[32m0.9381\u001B[0m        \u001B[35m0.2337\u001B[0m  0.0477\n",
      "      4      \u001B[36m0.9938\u001B[0m      \u001B[32m0.9935\u001B[0m        \u001B[35m0.0415\u001B[0m  0.0504\n",
      "      5      \u001B[36m1.0000\u001B[0m      \u001B[32m1.0000\u001B[0m        \u001B[35m0.0113\u001B[0m  0.0477\n",
      "      6      1.0000      1.0000        \u001B[35m0.0050\u001B[0m  0.0476\n",
      "      7      1.0000      1.0000        \u001B[35m0.0031\u001B[0m  0.0485\n",
      "      8      1.0000      1.0000        \u001B[35m0.0022\u001B[0m  0.0496\n",
      "      9      1.0000      1.0000        \u001B[35m0.0017\u001B[0m  0.0477\n",
      "     10      1.0000      1.0000        \u001B[35m0.0014\u001B[0m  0.0478\n",
      "  epoch    accuracy    f1-score    train_loss     dur\n",
      "-------  ----------  ----------  ------------  ------\n",
      "      1      \u001B[36m0.6025\u001B[0m      \u001B[32m0.4674\u001B[0m        \u001B[35m1.3191\u001B[0m  0.0579\n",
      "      2      \u001B[36m0.8113\u001B[0m      \u001B[32m0.7689\u001B[0m        \u001B[35m0.5981\u001B[0m  0.0617\n",
      "      3      \u001B[36m0.9888\u001B[0m      \u001B[32m0.9883\u001B[0m        \u001B[35m0.0860\u001B[0m  0.0597\n",
      "      4      \u001B[36m0.9988\u001B[0m      \u001B[32m0.9987\u001B[0m        \u001B[35m0.0129\u001B[0m  0.0599\n",
      "      5      \u001B[36m1.0000\u001B[0m      \u001B[32m1.0000\u001B[0m        \u001B[35m0.0043\u001B[0m  0.0603\n",
      "      6      1.0000      1.0000        \u001B[35m0.0020\u001B[0m  0.0631\n",
      "      7      1.0000      1.0000        \u001B[35m0.0013\u001B[0m  0.0611\n",
      "      8      1.0000      1.0000        \u001B[35m0.0010\u001B[0m  0.0644\n",
      "      9      1.0000      1.0000        \u001B[35m0.0008\u001B[0m  0.0613\n",
      "     10      1.0000      1.0000        \u001B[35m0.0006\u001B[0m  0.0607\n",
      "  epoch    accuracy    f1-score    train_loss     dur\n",
      "-------  ----------  ----------  ------------  ------\n",
      "      1      \u001B[36m0.5663\u001B[0m      \u001B[32m0.4565\u001B[0m        \u001B[35m1.3426\u001B[0m  0.0584\n",
      "      2      \u001B[36m0.8113\u001B[0m      \u001B[32m0.7756\u001B[0m        \u001B[35m0.5981\u001B[0m  0.0621\n",
      "      3      \u001B[36m0.9862\u001B[0m      \u001B[32m0.9856\u001B[0m        \u001B[35m0.0898\u001B[0m  0.0614\n",
      "      4      \u001B[36m0.9975\u001B[0m      \u001B[32m0.9975\u001B[0m        \u001B[35m0.0139\u001B[0m  0.0597\n",
      "      5      \u001B[36m1.0000\u001B[0m      \u001B[32m1.0000\u001B[0m        \u001B[35m0.0047\u001B[0m  0.0611\n",
      "      6      1.0000      1.0000        \u001B[35m0.0022\u001B[0m  0.0603\n",
      "      7      1.0000      1.0000        \u001B[35m0.0014\u001B[0m  0.0600\n",
      "      8      1.0000      1.0000        \u001B[35m0.0010\u001B[0m  0.0607\n",
      "      9      1.0000      1.0000        \u001B[35m0.0008\u001B[0m  0.0603\n",
      "     10      1.0000      1.0000        \u001B[35m0.0007\u001B[0m  0.0615\n",
      "  epoch    accuracy    f1-score    train_loss     dur\n",
      "-------  ----------  ----------  ------------  ------\n",
      "      1      \u001B[36m0.5550\u001B[0m      \u001B[32m0.4485\u001B[0m        \u001B[35m1.3558\u001B[0m  0.0583\n",
      "      2      \u001B[36m0.8200\u001B[0m      \u001B[32m0.7857\u001B[0m        \u001B[35m0.6016\u001B[0m  0.0664\n",
      "      3      \u001B[36m0.9862\u001B[0m      \u001B[32m0.9850\u001B[0m        \u001B[35m0.0914\u001B[0m  0.0601\n",
      "      4      \u001B[36m0.9975\u001B[0m      \u001B[32m0.9975\u001B[0m        \u001B[35m0.0141\u001B[0m  0.0608\n",
      "      5      \u001B[36m1.0000\u001B[0m      \u001B[32m1.0000\u001B[0m        \u001B[35m0.0041\u001B[0m  0.0602\n",
      "      6      1.0000      1.0000        \u001B[35m0.0019\u001B[0m  0.0612\n",
      "      7      1.0000      1.0000        \u001B[35m0.0013\u001B[0m  0.0602\n",
      "      8      1.0000      1.0000        \u001B[35m0.0010\u001B[0m  0.0596\n",
      "      9      1.0000      1.0000        \u001B[35m0.0008\u001B[0m  0.0598\n",
      "     10      1.0000      1.0000        \u001B[35m0.0006\u001B[0m  0.0595\n",
      "  epoch    accuracy    f1-score    train_loss     dur\n",
      "-------  ----------  ----------  ------------  ------\n",
      "      1      \u001B[36m0.5925\u001B[0m      \u001B[32m0.4637\u001B[0m        \u001B[35m1.3190\u001B[0m  0.0587\n",
      "      2      \u001B[36m0.8125\u001B[0m      \u001B[32m0.7722\u001B[0m        \u001B[35m0.6037\u001B[0m  0.0607\n",
      "      3      \u001B[36m0.9888\u001B[0m      \u001B[32m0.9878\u001B[0m        \u001B[35m0.1037\u001B[0m  0.0604\n",
      "      4      \u001B[36m0.9975\u001B[0m      \u001B[32m0.9975\u001B[0m        \u001B[35m0.0147\u001B[0m  0.0618\n",
      "      5      \u001B[36m1.0000\u001B[0m      \u001B[32m1.0000\u001B[0m        \u001B[35m0.0048\u001B[0m  0.0623\n",
      "      6      1.0000      1.0000        \u001B[35m0.0019\u001B[0m  0.0649\n",
      "      7      1.0000      1.0000        \u001B[35m0.0012\u001B[0m  0.0604\n",
      "      8      1.0000      1.0000        \u001B[35m0.0009\u001B[0m  0.0606\n",
      "      9      1.0000      1.0000        \u001B[35m0.0007\u001B[0m  0.0604\n",
      "     10      1.0000      1.0000        \u001B[35m0.0006\u001B[0m  0.0621\n",
      "  epoch    accuracy    f1-score    train_loss     dur\n",
      "-------  ----------  ----------  ------------  ------\n",
      "      1      \u001B[36m0.5637\u001B[0m      \u001B[32m0.4527\u001B[0m        \u001B[35m1.3459\u001B[0m  0.0601\n",
      "      2      \u001B[36m0.8475\u001B[0m      \u001B[32m0.8190\u001B[0m        \u001B[35m0.5798\u001B[0m  0.0620\n",
      "      3      \u001B[36m0.9825\u001B[0m      \u001B[32m0.9815\u001B[0m        \u001B[35m0.0898\u001B[0m  0.0605\n",
      "      4      \u001B[36m1.0000\u001B[0m      \u001B[32m1.0000\u001B[0m        \u001B[35m0.0133\u001B[0m  0.0586\n",
      "      5      1.0000      1.0000        \u001B[35m0.0044\u001B[0m  0.0604\n",
      "      6      1.0000      1.0000        \u001B[35m0.0021\u001B[0m  0.0613\n",
      "      7      1.0000      1.0000        \u001B[35m0.0014\u001B[0m  0.0605\n",
      "      8      1.0000      1.0000        \u001B[35m0.0010\u001B[0m  0.0624\n",
      "      9      1.0000      1.0000        \u001B[35m0.0008\u001B[0m  0.0609\n",
      "     10      1.0000      1.0000        \u001B[35m0.0007\u001B[0m  0.0603\n"
     ]
    },
    {
     "output_type": "execute_result",
     "data": {
      "text/plain": [
       "GridSearchCV(cv=5,\n",
       "             estimator=<class 'skorch.classifier.NeuralNetClassifier'>[initialized](\n",
       "  module_=LSTMModel(\n",
       "    (lstm): LSTM(7342, 64, batch_first=True)\n",
       "    (fc): Linear(in_features=64, out_features=6, bias=True)\n",
       "  ),\n",
       "),\n",
       "             param_grid={'batch_size': [32, 64], 'lr': [0.001, 0.01],\n",
       "                         'max_epochs': [10], 'module__hidden_dim': [64, 128]},\n",
       "             refit=False, scoring='accuracy')"
      ]
     },
     "metadata": {},
     "execution_count": 41
    }
   ],
   "source": [
    "# infer suited parameters from es_pytorch_active_learning and run smaller hyperparameter search\n",
    "from sklearn.model_selection import GridSearchCV\n",
    "\n",
    "params = {\n",
    "    'max_epochs': [10],\n",
    "    'batch_size':[32, 64],\n",
    "    'lr': [0.001, 0.01],\n",
    "    'module__hidden_dim': [64, 128],\n",
    "}\n",
    "gs = GridSearchCV(classifier, params, refit=False, cv=5, scoring='accuracy')\n",
    "\n",
    "gs.fit(train_features, train_labels)\n"
   ]
  },
  {
   "cell_type": "code",
   "execution_count": null,
   "metadata": {
    "colab": {
     "base_uri": "https://localhost:8080/"
    },
    "id": "G977iYEep2DI",
    "outputId": "b404364a-e239-4771-ecc8-91eeb1500f6e"
   },
   "outputs": [
    {
     "output_type": "stream",
     "name": "stdout",
     "text": [
      "\n",
      "gs.best_score_  0.634 \n",
      "gs.best_params_ {'batch_size': 32, 'lr': 0.001, 'max_epochs': 10, 'module__hidden_dim': 128}\n"
     ]
    }
   ],
   "source": [
    "print('\\ngs.best_score_ ', gs.best_score_, '\\ngs.best_params_', gs.best_params_)\n"
   ]
  },
  {
   "cell_type": "code",
   "execution_count": null,
   "metadata": {
    "colab": {
     "base_uri": "https://localhost:8080/"
    },
    "id": "kokQy6x3p2DJ",
    "outputId": "33247700-cc95-43b1-9b02-f4229a0dbf1a"
   },
   "outputs": [
    {
     "output_type": "stream",
     "name": "stdout",
     "text": [
      "  epoch    accuracy    f1-score    train_loss     dur\n",
      "-------  ----------  ----------  ------------  ------\n",
      "      1      \u001B[36m0.4570\u001B[0m      \u001B[32m0.4290\u001B[0m        \u001B[35m1.6500\u001B[0m  0.1943\n",
      "      2      \u001B[36m0.6160\u001B[0m      \u001B[32m0.4696\u001B[0m        \u001B[35m1.1836\u001B[0m  0.0883\n",
      "      3      \u001B[36m0.6180\u001B[0m      \u001B[32m0.4742\u001B[0m        \u001B[35m0.9477\u001B[0m  0.0886\n",
      "      4      \u001B[36m0.7440\u001B[0m      \u001B[32m0.6872\u001B[0m        \u001B[35m0.6797\u001B[0m  0.0863\n",
      "      5      \u001B[36m0.9030\u001B[0m      \u001B[32m0.8869\u001B[0m        \u001B[35m0.4022\u001B[0m  0.0868\n",
      "      6      \u001B[36m0.9610\u001B[0m      \u001B[32m0.9566\u001B[0m        \u001B[35m0.2261\u001B[0m  0.0874\n",
      "      7      \u001B[36m0.9800\u001B[0m      \u001B[32m0.9791\u001B[0m        \u001B[35m0.1360\u001B[0m  0.0868\n",
      "      8      \u001B[36m0.9910\u001B[0m      \u001B[32m0.9908\u001B[0m        \u001B[35m0.0891\u001B[0m  0.0882\n",
      "      9      \u001B[36m0.9930\u001B[0m      \u001B[32m0.9928\u001B[0m        \u001B[35m0.0625\u001B[0m  0.0878\n",
      "     10      \u001B[36m0.9960\u001B[0m      \u001B[32m0.9960\u001B[0m        \u001B[35m0.0461\u001B[0m  0.0865\n"
     ]
    },
    {
     "output_type": "execute_result",
     "data": {
      "text/plain": [
       "<class 'skorch.classifier.NeuralNetClassifier'>[initialized](\n",
       "  module_=LSTMModel(\n",
       "    (lstm): LSTM(7342, 128, batch_first=True)\n",
       "    (fc): Linear(in_features=128, out_features=6, bias=True)\n",
       "  ),\n",
       ")"
      ]
     },
     "metadata": {},
     "execution_count": 22
    }
   ],
   "source": [
    "# refit with optimal parameters\n",
    "\n",
    "classifier = NeuralNetClassifier(module=LSTMModel,\n",
    "                                 module__hidden_dim = 128,\n",
    "                                 batch_size=32,\n",
    "                                 max_epochs= 10,\n",
    "                                 criterion=nn.CrossEntropyLoss,\n",
    "                                 optimizer=torch.optim.Adam,\n",
    "                                 lr=0.001,\n",
    "                                 train_split=None,\n",
    "                                 callbacks=callbacks,\n",
    "                                 #callbacks__train_loss=None,\n",
    "                                 verbose=1,\n",
    "                                 device=device)\n",
    "\n",
    "classifier.fit(train_features, train_labels)\n"
   ]
  },
  {
   "cell_type": "code",
   "execution_count": null,
   "metadata": {
    "pycharm": {
     "name": "#%%\n"
    },
    "scrolled": true,
    "colab": {
     "base_uri": "https://localhost:8080/"
    },
    "id": "9vlbYtszp2DJ",
    "outputId": "35becd21-d6ed-44b7-dac9-9faebe90f36c"
   },
   "outputs": [
    {
     "output_type": "stream",
     "name": "stdout",
     "text": [
      "              precision    recall  f1-score   support\n",
      "\n",
      "        expl       0.67      0.95      0.79       155\n",
      "       fixed       0.00      0.00      0.00         2\n",
      "        iobj       0.00      0.00      0.00         2\n",
      "        mark       0.71      0.16      0.26        31\n",
      "       nsubj       0.23      0.12      0.15        43\n",
      "         obj       0.00      0.00      0.00        18\n",
      "\n",
      "    accuracy                           0.63       251\n",
      "   macro avg       0.27      0.21      0.20       251\n",
      "weighted avg       0.54      0.63      0.54       251\n",
      "\n"
     ]
    }
   ],
   "source": [
    "from sklearn.metrics import classification_report\n",
    "\n",
    "targets = label_encoder.classes_\n",
    "\n",
    "y_pred_test = classifier.predict(test_features)\n",
    "print(classification_report(test_labels, y_pred_test, target_names=targets, zero_division=0))\n"
   ]
  },
  {
   "cell_type": "markdown",
   "metadata": {
    "id": "wLgsxuAwp2DJ"
   },
   "source": [
    ""
   ]
  },
  {
   "cell_type": "markdown",
   "metadata": {
    "id": "UzMdeiEpp2DK"
   },
   "source": [
    "## 3) Active Learner"
   ]
  },
  {
   "cell_type": "code",
   "source": [
    "train_features = train_features.detach().cpu().numpy()\n",
    "train_labels = train_labels.detach().cpu().numpy()"
   ],
   "metadata": {
    "id": "TxlojtZOxKiO"
   },
   "execution_count": null,
   "outputs": []
  },
  {
   "cell_type": "code",
   "execution_count": null,
   "metadata": {
    "pycharm": {
     "name": "#%%\n"
    },
    "colab": {
     "base_uri": "https://localhost:8080/"
    },
    "id": "KLc1PJUgp2DK",
    "outputId": "a002f1ad-488d-4310-dbbb-74a9ee75b992"
   },
   "outputs": [
    {
     "output_type": "stream",
     "name": "stdout",
     "text": [
      "Re-initializing module because the following parameters were re-set: hidden_dim.\n",
      "Re-initializing criterion.\n",
      "Re-initializing optimizer.\n",
      "  epoch    accuracy    f1-score    train_loss     dur\n",
      "-------  ----------  ----------  ------------  ------\n",
      "      1      \u001B[36m0.5500\u001B[0m      \u001B[32m0.4698\u001B[0m        \u001B[35m1.5926\u001B[0m  0.0871\n",
      "      2      \u001B[36m0.6160\u001B[0m      0.4696        \u001B[35m1.1458\u001B[0m  0.0910\n",
      "      3      \u001B[36m0.6180\u001B[0m      \u001B[32m0.4742\u001B[0m        \u001B[35m0.9364\u001B[0m  0.0900\n",
      "      4      \u001B[36m0.7310\u001B[0m      \u001B[32m0.6702\u001B[0m        \u001B[35m0.6838\u001B[0m  0.0913\n",
      "      5      \u001B[36m0.8990\u001B[0m      \u001B[32m0.8831\u001B[0m        \u001B[35m0.4106\u001B[0m  0.0907\n",
      "      6      \u001B[36m0.9600\u001B[0m      \u001B[32m0.9557\u001B[0m        \u001B[35m0.2297\u001B[0m  0.0903\n",
      "      7      \u001B[36m0.9820\u001B[0m      \u001B[32m0.9810\u001B[0m        \u001B[35m0.1372\u001B[0m  0.0891\n",
      "      8      \u001B[36m0.9890\u001B[0m      \u001B[32m0.9885\u001B[0m        \u001B[35m0.0894\u001B[0m  0.0888\n",
      "      9      \u001B[36m0.9940\u001B[0m      \u001B[32m0.9939\u001B[0m        \u001B[35m0.0626\u001B[0m  0.0912\n",
      "     10      \u001B[36m0.9950\u001B[0m      \u001B[32m0.9949\u001B[0m        \u001B[35m0.0461\u001B[0m  0.0852\n"
     ]
    }
   ],
   "source": [
    "# no training arguments because classifier is already fitted\n",
    "learner = ActiveLearner(estimator=classifier,\n",
    "                        query_strategy=uncertainty_sampling,\n",
    "                        X_training=train_features,\n",
    "                        y_training=train_labels,\n",
    ")\n"
   ]
  },
  {
   "cell_type": "code",
   "source": [
    ""
   ],
   "metadata": {
    "id": "lgqDsiAPwW1H"
   },
   "execution_count": null,
   "outputs": []
  },
  {
   "cell_type": "code",
   "execution_count": null,
   "metadata": {
    "pycharm": {
     "name": "#%%\n"
    },
    "id": "wCn2vA3ep2DK"
   },
   "outputs": [],
   "source": [
    "n_instances = 3\n",
    "# n_instances = 20\n",
    "accuracies = [learner.score(test_features, test_labels)] # append first accuracy without learning\n",
    "pool_sent_list= list() # store annotated sentences and the labels\n",
    "pool_label_list= list()\n"
   ]
  },
  {
   "cell_type": "markdown",
   "metadata": {
    "id": "vWTyhVKFp2DK"
   },
   "source": [
    "### Loop\n",
    "- stops after 20 iterations\n",
    "- prompt sentence\n",
    "\n",
    "Problem: if annotation is 'None' (e.g in the case a sentence is discarded) the loop breaks. We have to discard certain sentences because when creating the underlying corpus\n",
    "phrases that do not contain 'se' like 'aunque a tu mac no le pase nada' were not discarded because there is no suited programmatical way to differentiate btw. 'pase' and 'siéntese'."
   ]
  },
  {
   "cell_type": "code",
   "execution_count": null,
   "metadata": {
    "pycharm": {
     "name": "#%%\n"
    },
    "id": "o8LjOxFZp2DL"
   },
   "outputs": [],
   "source": [
    "number_of_loops = 3\n"
   ]
  },
  {
   "cell_type": "code",
   "execution_count": null,
   "metadata": {
    "pycharm": {
     "name": "#%%\n"
    },
    "colab": {
     "base_uri": "https://localhost:8080/"
    },
    "id": "I8eJhW4Ap2DL",
    "outputId": "511734bf-1e34-447d-a84e-38782199e60f"
   },
   "outputs": [
    {
     "output_type": "stream",
     "name": "stdout",
     "text": [
      "\n",
      "loop: 1\n",
      "sentence: 1\n",
      "The learners predictions are:\n",
      "[('expl', 0.23), ('mark', 0.2), ('nsubj', 0.18), ('fixed', 0.15), ('obj', 0.14), ('iobj', 0.09)]\n",
      "\n",
      "E começar a agir como se estivesse já lá !\n",
      "expl\n",
      "\n",
      "loop: 1\n",
      "sentence: 2\n",
      "The learners predictions are:\n",
      "[('expl', 0.23), ('obj', 0.22), ('mark', 0.21), ('fixed', 0.14), ('nsubj', 0.11), ('iobj', 0.09)]\n",
      "\n",
      "Então é como se você lá estivesse . \"\n",
      "expl\n",
      "\n",
      "loop: 1\n",
      "sentence: 3\n",
      "The learners predictions are:\n",
      "[('fixed', 0.23), ('mark', 0.18), ('expl', 0.16), ('nsubj', 0.16), ('obj', 0.15), ('iobj', 0.1)]\n",
      "\n",
      "Ou pior , vender como se fosse uma guitarra de luthier fabricada a mão .\n",
      "fixed\n",
      "Re-initializing module because the following parameters were re-set: hidden_dim.\n",
      "Re-initializing criterion.\n",
      "Re-initializing optimizer.\n",
      "  epoch    accuracy    f1-score    train_loss     dur\n",
      "-------  ----------  ----------  ------------  ------\n",
      "      1      \u001B[36m0.5932\u001B[0m      \u001B[32m0.4642\u001B[0m        \u001B[35m1.5841\u001B[0m  0.0886\n",
      "      2      \u001B[36m0.6162\u001B[0m      \u001B[32m0.4698\u001B[0m        \u001B[35m1.1581\u001B[0m  0.0894\n",
      "      3      \u001B[36m0.6171\u001B[0m      \u001B[32m0.4721\u001B[0m        \u001B[35m0.9452\u001B[0m  0.0857\n",
      "      4      \u001B[36m0.7278\u001B[0m      \u001B[32m0.6658\u001B[0m        \u001B[35m0.6939\u001B[0m  0.0880\n",
      "      5      \u001B[36m0.9063\u001B[0m      \u001B[32m0.8916\u001B[0m        \u001B[35m0.4180\u001B[0m  0.0876\n",
      "      6      \u001B[36m0.9551\u001B[0m      \u001B[32m0.9501\u001B[0m        \u001B[35m0.2345\u001B[0m  0.0877\n",
      "      7      \u001B[36m0.9791\u001B[0m      \u001B[32m0.9777\u001B[0m        \u001B[35m0.1406\u001B[0m  0.0888\n",
      "      8      \u001B[36m0.9900\u001B[0m      \u001B[32m0.9898\u001B[0m        \u001B[35m0.0921\u001B[0m  0.0887\n",
      "      9      \u001B[36m0.9930\u001B[0m      \u001B[32m0.9929\u001B[0m        \u001B[35m0.0647\u001B[0m  0.0874\n",
      "     10      \u001B[36m0.9950\u001B[0m      \u001B[32m0.9950\u001B[0m        \u001B[35m0.0479\u001B[0m  0.0920\n",
      "\n",
      "loop: 2\n",
      "sentence: 1\n",
      "The learners predictions are:\n",
      "[('expl', 0.22), ('mark', 0.21), ('nsubj', 0.21), ('obj', 0.21), ('fixed', 0.1), ('iobj', 0.04)]\n",
      "\n",
      "Senti um suspiro agora mesmo e te o sentindo um negocio em a orelha como se ele estivesse olhando eu escrever .\n",
      "expl\n",
      "\n",
      "loop: 2\n",
      "sentence: 2\n",
      "The learners predictions are:\n",
      "[('expl', 0.23), ('nsubj', 0.22), ('obj', 0.18), ('mark', 0.16), ('fixed', 0.13), ('iobj', 0.09)]\n",
      "\n",
      "Depois que o fenômeno de o neopentecostalismo e seus escândalos fizeram a entrega de dinheiro para igrejas tornar se uma atitude questionável e suspeita , pela primeira vez em a história eclodiu entre os próprios cristãos a ideia de que poderiam não entregar o dízimo .\n",
      "expl\n",
      "\n",
      "loop: 2\n",
      "sentence: 3\n",
      "The learners predictions are:\n",
      "[('expl', 0.23), ('mark', 0.22), ('obj', 0.21), ('nsubj', 0.18), ('fixed', 0.08), ('iobj', 0.08)]\n",
      "\n",
      "Uma de as formas de descobrir se você tem mau hálito é lamber o interior de seu pulso , esperar cinco segundos e então dar uma baforada .\n",
      "expl\n",
      "Re-initializing module because the following parameters were re-set: hidden_dim.\n",
      "Re-initializing criterion.\n",
      "Re-initializing optimizer.\n",
      "  epoch    accuracy    f1-score    train_loss     dur\n",
      "-------  ----------  ----------  ------------  ------\n",
      "      1      \u001B[36m0.4751\u001B[0m      \u001B[32m0.4263\u001B[0m        \u001B[35m1.6415\u001B[0m  0.0886\n",
      "      2      \u001B[36m0.6173\u001B[0m      \u001B[32m0.4712\u001B[0m        \u001B[35m1.1697\u001B[0m  0.0881\n",
      "      3      0.6173      0.4712        \u001B[35m0.9534\u001B[0m  0.0871\n",
      "      4      \u001B[36m0.7217\u001B[0m      \u001B[32m0.6567\u001B[0m        \u001B[35m0.7062\u001B[0m  0.0868\n",
      "      5      \u001B[36m0.8837\u001B[0m      \u001B[32m0.8635\u001B[0m        \u001B[35m0.4321\u001B[0m  0.0880\n",
      "      6      \u001B[36m0.9513\u001B[0m      \u001B[32m0.9462\u001B[0m        \u001B[35m0.2445\u001B[0m  0.0908\n",
      "      7      \u001B[36m0.9801\u001B[0m      \u001B[32m0.9791\u001B[0m        \u001B[35m0.1466\u001B[0m  0.0875\n",
      "      8      \u001B[36m0.9881\u001B[0m      \u001B[32m0.9878\u001B[0m        \u001B[35m0.0956\u001B[0m  0.0901\n",
      "      9      \u001B[36m0.9911\u001B[0m      \u001B[32m0.9908\u001B[0m        \u001B[35m0.0670\u001B[0m  0.0885\n",
      "     10      \u001B[36m0.9950\u001B[0m      \u001B[32m0.9950\u001B[0m        \u001B[35m0.0496\u001B[0m  0.0896\n",
      "\n",
      "loop: 3\n",
      "sentence: 1\n",
      "The learners predictions are:\n",
      "[('expl', 0.22), ('mark', 0.22), ('nsubj', 0.2), ('obj', 0.18), ('fixed', 0.1), ('iobj', 0.07)]\n",
      "\n",
      "EVANGELHO MT 20 , 1-16ª Em aquele tempo , disse Jesus a os seus discípulos a seguinte parábola : « O reino de os Céus pode comparar se a um proprietário , que saiu muito cedo a contratar trabalhadores para a sua vinha .\n",
      "mark\n",
      "\n",
      "loop: 3\n",
      "sentence: 2\n",
      "The learners predictions are:\n",
      "[('expl', 0.22), ('fixed', 0.21), ('nsubj', 0.17), ('obj', 0.17), ('mark', 0.12), ('iobj', 0.11)]\n",
      "\n",
      "Mas , se alguém me perguntasse o que deverá ser doce , talvez não saiba responder .\n",
      "fixed\n",
      "\n",
      "loop: 3\n",
      "sentence: 3\n",
      "The learners predictions are:\n",
      "[('mark', 0.24), ('expl', 0.23), ('fixed', 0.2), ('nsubj', 0.17), ('iobj', 0.1), ('obj', 0.06)]\n",
      "\n",
      "Cada um se protege em uma trincheira cheia de munições : mágoas , ressentimentos , tudo isso lançado contra o outro .\n",
      "mark\n",
      "Re-initializing module because the following parameters were re-set: hidden_dim.\n",
      "Re-initializing criterion.\n",
      "Re-initializing optimizer.\n",
      "  epoch    accuracy    f1-score    train_loss     dur\n",
      "-------  ----------  ----------  ------------  ------\n",
      "      1      \u001B[36m0.4747\u001B[0m      \u001B[32m0.4353\u001B[0m        \u001B[35m1.6573\u001B[0m  0.0887\n",
      "      2      \u001B[36m0.6155\u001B[0m      \u001B[32m0.4690\u001B[0m        \u001B[35m1.1754\u001B[0m  0.0906\n",
      "      3      0.6155      0.4690        \u001B[35m0.9508\u001B[0m  0.0867\n",
      "      4      \u001B[36m0.7215\u001B[0m      \u001B[32m0.6562\u001B[0m        \u001B[35m0.6932\u001B[0m  0.0883\n",
      "      5      \u001B[36m0.8930\u001B[0m      \u001B[32m0.8769\u001B[0m        \u001B[35m0.4184\u001B[0m  0.0875\n",
      "      6      \u001B[36m0.9574\u001B[0m      \u001B[32m0.9533\u001B[0m        \u001B[35m0.2382\u001B[0m  0.0889\n",
      "      7      \u001B[36m0.9782\u001B[0m      \u001B[32m0.9764\u001B[0m        \u001B[35m0.1449\u001B[0m  0.0879\n",
      "      8      \u001B[36m0.9901\u001B[0m      \u001B[32m0.9899\u001B[0m        \u001B[35m0.0955\u001B[0m  0.0898\n",
      "      9      \u001B[36m0.9931\u001B[0m      \u001B[32m0.9929\u001B[0m        \u001B[35m0.0672\u001B[0m  0.0874\n",
      "     10      \u001B[36m0.9950\u001B[0m      \u001B[32m0.9950\u001B[0m        \u001B[35m0.0496\u001B[0m  0.0872\n"
     ]
    }
   ],
   "source": [
    "for i in range(number_of_loops):# annotate 10 times 20 instances\n",
    "\n",
    "    # query new instances\n",
    "    query_idx, query_inst = learner.query(X_pool, n_instances=n_instances)\n",
    "    predicted_proba = get_learners_preds(learner.predict_proba(X_pool[query_idx]))\n",
    "    sentences = pool.text.iloc[query_idx]\n",
    "\n",
    "    # annotate the queried instances\n",
    "    annotation = list()\n",
    "    counter = 0\n",
    "    for sent, proba in zip(sentences, predicted_proba):\n",
    "        counter += 1\n",
    "        sorted_proba = sorted(proba.items(), key=lambda kv: kv[1], reverse=True)\n",
    "        prompt = '\\n'+'loop: '+str(i+1)+'\\n'+'sentence: '+str(counter)+'\\n'+'The learners predictions are:'+'\\n'+str(sorted_proba)+'\\n\\n'+sent+'\\n'\n",
    "        label = str(input(prompt))\n",
    "        annotation.append(label)\n",
    "\n",
    "    # keep track of annotations\n",
    "    sent_list = sentences.to_list()\n",
    "    pool_sent_list.append(sent_list)\n",
    "    pool_label_list.append(annotation)\n",
    "\n",
    "    # filter out sentences that were assigned 'None'; the learner should not see them\n",
    "    if 'None' in annotation:\n",
    "        print('Note: you either discarded samples or did not annotate all samples')\n",
    "        discarded_idxs=[idx for idx, sample in enumerate(annotation) if sample == 'None'] # TODO\n",
    "        discarded_idxs = sorted(discarded_idxs, reverse=True)\n",
    "        for index in discarded_idxs:\n",
    "            query_inst = np.delete(query_inst, index, axis=0)\n",
    "        annotation = list(filter('None'.__ne__, annotation))\n",
    "\n",
    "\n",
    "    # teach the learner\n",
    "    y_pool = label_encoder.transform(annotation)\n",
    "    learner.teach(query_inst, y_pool)\n",
    "    accuracies.append(learner.score(X=test_features, y=test_labels))\n",
    "\n",
    "    # delete queried instances from pool\n",
    "    X_pool = np.delete(X_pool, query_idx, axis=0)\n",
    "    "
   ]
  },
  {
   "cell_type": "code",
   "execution_count": null,
   "metadata": {
    "pycharm": {
     "name": "#%%\n"
    },
    "colab": {
     "base_uri": "https://localhost:8080/",
     "height": 345
    },
    "id": "fUUAjbblp2DL",
    "outputId": "1a0bd35b-7134-42ec-f514-a8e54bae702a"
   },
   "outputs": [
    {
     "output_type": "display_data",
     "data": {
      "text/plain": [
       "<Figure size 720x360 with 1 Axes>"
      ],
      "image/png": "[encoded data removed]"
     },
     "metadata": {}
    }
   ],
   "source": [
    "# plot learning curve\n",
    "with plt.style.context('bmh'):\n",
    "    csfont = {'fontname':'Times New Roman'}\n",
    "    plt.figure(figsize=(12, 8))\n",
    "    plt.plot(range(number_of_loops+1), accuracies)\n",
    "    plt.scatter(range(number_of_loops+1), accuracies)\n",
    "    plt.yticks(np.arange(0, 1.1, 0.1), fontsize=20, **csfont)\n",
    "    plt.xticks(np.arange(0, 11, 1), fontsize=20, **csfont)\n",
    "    plt.xlabel('loop number',fontsize=24, **csfont)\n",
    "    plt.ylabel('accuracy',fontsize=24, **csfont)\n",
    "    plt.savefig('al_plots/pt_pytorch.png')\n",
    "    plt.tight_layout()\n",
    "    plt.show()\n",
    "    \n",
    "    "
   ]
  },
  {
   "cell_type": "code",
   "execution_count": null,
   "metadata": {
    "pycharm": {
     "name": "#%%\n"
    },
    "colab": {
     "base_uri": "https://localhost:8080/"
    },
    "id": "E8nKkOG8p2DM",
    "outputId": "c1be8aea-ca9c-4fe9-95e4-51ce5584a03e"
   },
   "outputs": [
    {
     "output_type": "execute_result",
     "data": {
      "text/plain": [
       "0.6294820717131474"
      ]
     },
     "metadata": {},
     "execution_count": 32
    }
   ],
   "source": [
    "max(accuracies)\n"
   ]
  },
  {
   "cell_type": "code",
   "execution_count": null,
   "metadata": {
    "pycharm": {
     "name": "#%%\n"
    },
    "colab": {
     "base_uri": "https://localhost:8080/"
    },
    "id": "lG4heVnXp2DM",
    "outputId": "7ecfe2de-41b4-4d2f-94c8-92b78bd3a00d"
   },
   "outputs": [
    {
     "output_type": "stream",
     "name": "stdout",
     "text": [
      "(9, 2)\n",
      "                                                text se_label\n",
      "0         E começar a agir como se estivesse já lá !     expl\n",
      "1              Então é como se você lá estivesse . \"     expl\n",
      "2  Ou pior , vender como se fosse uma guitarra de...    fixed\n",
      "3  Senti um suspiro agora mesmo e te o sentindo u...     expl\n",
      "4  Depois que o fenômeno de o neopentecostalismo ...     expl\n"
     ]
    }
   ],
   "source": [
    "# create df from annotations\n",
    "sent_flattened = get_flattened_list(pool_sent_list)\n",
    "label_flattened = get_flattened_list(pool_label_list)\n",
    "\n",
    "labeled_pool = pd.DataFrame(list(zip(sent_flattened, label_flattened)),\n",
    "               columns =['text', 'se_label'])\n",
    "print(labeled_pool.shape)\n",
    "print(labeled_pool.head())\n"
   ]
  },
  {
   "cell_type": "code",
   "execution_count": null,
   "metadata": {
    "pycharm": {
     "name": "#%%\n"
    },
    "id": "RN_SSf6_p2DM"
   },
   "outputs": [],
   "source": [
    "# save labeled pool\n",
    "labeled_pool.to_csv('labeled_data/pt_pytorch_annotations.txt', header=None, index=False,  sep='\\t')\n"
   ]
  }
 ],
 "metadata": {
  "kernelspec": {
   "display_name": "Python 3",
   "language": "python",
   "name": "python3"
  },
  "language_info": {
   "codemirror_mode": {
    "name": "ipython",
    "version": 3
   },
   "file_extension": ".py",
   "mimetype": "text/x-python",
   "name": "python",
   "nbconvert_exporter": "python",
   "pygments_lexer": "ipython3",
   "version": "3.8.5"
  },
  "colab": {
   "name": "pt_pytorch_active_learning.ipynb",
   "provenance": [],
   "collapsed_sections": [],
   "machine_shape": "hm"
  },
  "accelerator": "GPU"
 },
 "nbformat": 4,
 "nbformat_minor": 0
}