{
 "cells": [
  {
   "cell_type": "markdown",
   "metadata": {},
   "source": [
    "\n",
    "sources :\n",
    "- https://towardsdatascience.com/pytorch-tabular-multiclass-classification-9f8211a123ab\n",
    "- deeplearningwizard for model architecture"
   ]
  },
  {
   "cell_type": "code",
   "execution_count": 1,
   "metadata": {},
   "outputs": [
    {
     "data": {
      "text/plain": [
       "'/Users/Maxine/Desktop/se_corpus/rubrix'"
      ]
     },
     "execution_count": 1,
     "metadata": {},
     "output_type": "execute_result"
    }
   ],
   "source": [
    "%pwd"
   ]
  },
  {
   "cell_type": "code",
   "execution_count": null,
   "metadata": {
    "pycharm": {
     "is_executing": true,
     "name": "#%%\n"
    }
   },
   "outputs": [],
   "source": [
    "# installations for colab\n",
    "!pip install skorch\n",
    "!pip install modal"
   ]
  },
  {
   "cell_type": "code",
   "execution_count": 2,
   "metadata": {
    "pycharm": {
     "name": "#%%\n"
    }
   },
   "outputs": [
    {
     "name": "stderr",
     "output_type": "stream",
     "text": [
      "/Library/Frameworks/Python.framework/Versions/3.8/lib/python3.8/site-packages/jose/backends/cryptography_backend.py:18: CryptographyDeprecationWarning: int_from_bytes is deprecated, use int.from_bytes instead\n",
      "  from cryptography.utils import int_from_bytes, int_to_bytes\n"
     ]
    }
   ],
   "source": [
    "import numpy as np\n",
    "import pandas as pd\n",
    "import seaborn as sns\n",
    "import matplotlib.pyplot as plt\n",
    "\n",
    "from sklearn.feature_extraction.text import CountVectorizer\n",
    "from sklearn import preprocessing\n",
    "from sklearn.model_selection import train_test_split\n",
    "\n",
    "import torch\n",
    "from torch import nn\n",
    "from torch.utils.data import Dataset, DataLoader\n",
    "from torch.utils.data import WeightedRandomSampler\n",
    "\n",
    "from skorch import NeuralNetClassifier\n",
    "from skorch.callbacks import EpochScoring\n",
    "\n",
    "from modAL.models import ActiveLearner\n",
    "from modAL.uncertainty import uncertainty_sampling\n",
    "import rubrix as rb\n",
    "import webbrowser"
   ]
  },
  {
   "cell_type": "markdown",
   "metadata": {},
   "source": [
    "## 1) Data"
   ]
  },
  {
   "cell_type": "code",
   "execution_count": 3,
   "metadata": {
    "pycharm": {
     "name": "#%%\n"
    }
   },
   "outputs": [],
   "source": [
    "\"\"\"\n",
    "load data: specify path\n",
    "\"\"\"\n",
    "\n",
    "# 1) (index), text, label\n",
    "initial_train = pd.read_csv('/Users/Maxine/Desktop/se_corpus/ud/es_data/es_ancora-ud-train.txt', sep='\\t', names=['text', 'tokenized_text', 'se_label']) # macbook\n",
    "# initial_train = pd.read_csv('/Users/maxine/Documents/GitHub/se_corpus/ud/es_data/es_ancora-ud-train.txt', sep='\\t', names=['text', 'tokenized_text', 'se_label']) #imac\n",
    "# initial_train = pd.read_csv('/content/drive/MyDrive/Colab Notebooks/master/es_ancora-ud-train.txt', sep='\\t', names=['text', 'tokenized_text', 'se_label']) # colab\n",
    "initial_train.drop(columns=['text'], inplace = True)\n",
    "\n",
    "dev = pd.read_csv('/Users/Maxine/Desktop/se_corpus/ud/es_data/es_ancora-ud-dev.txt', sep='\\t',names=['text', 'tokenized_text', 'se_label']) # macbook\n",
    "# dev = pd.read_csv('/Users/maxine/Documents/GitHub/se_corpus/ud/es_data/es_ancora-ud-dev.txt', sep='\\t',names=['text', 'tokenized_text', 'se_label']) # imac\n",
    "# dev = pd.read_csv('/content/drive/MyDrive/Colab Notebooks/master/es_ancora-ud-dev.txt', sep='\\t', names=['text', 'tokenized_text', 'se_label']) # colab\n",
    "dev.drop(columns=['text'], inplace = True)\n",
    "\n",
    "test = pd.read_csv('/Users/Maxine/Desktop/se_corpus/ud/es_data/es_ancora-ud-test.txt', sep='\\t',names=['text', 'tokenized_text', 'se_label']) # macbook\n",
    "# test = pd.read_csv('/Users/maxine/Documents/GitHub/se_corpus/ud/es_data/es_ancora-ud-test.txt', sep='\\t',names=['text', 'tokenized_text', 'se_label']) # imac\n",
    "# test = pd.read_csv('/content/drive/MyDrive/Colab Notebooks/master/es_ancora-ud-test.txt', sep='\\t', names=['text', 'tokenized_text', 'se_label']) # colab\n",
    "test.drop(columns=['text'], inplace = True)\n",
    "\n",
    "# by fileting out 'se'-sentences the data split of the initial ud corpus isn't accurate anymore\n",
    "se_corpus = pd.concat([initial_train, dev, test])\n",
    "\n",
    "pool = pd.read_csv('/Users/Maxine/Desktop/se_corpus/corpusdata_org/sp_text_se_corpus.txt', names=['text'], sep='\\t') # 1 col data containing comma values # macbook\n",
    "# pool = pd.read_csv('/Users/maxine/Documents/GitHub/se_corpus/corpusdata_org/sp_text_se_corpus.txt', names=['text'], sep='\\t') # 1 col data containing comma values # imac\n",
    "# pool = pd.read_csv('/content/drive/MyDrive/Colab Notebooks/master/sp_text_se_corpus.txt', names=['text'], sep='\\t')\n",
    "\n",
    "# Note: for some reason jupyter cannot find the relative path"
   ]
  },
  {
   "cell_type": "code",
   "execution_count": 4,
   "metadata": {
    "pycharm": {
     "name": "#%%\n"
    }
   },
   "outputs": [
    {
     "data": {
      "text/plain": [
       "(4248, 2)"
      ]
     },
     "execution_count": 4,
     "metadata": {},
     "output_type": "execute_result"
    }
   ],
   "source": [
    "\"\"\"\n",
    "drop labels that appear only once\n",
    "\"\"\"\n",
    "se_corpus = se_corpus.drop(se_corpus[(se_corpus['se_label'] == 'flat')].index)\n",
    "se_corpus = se_corpus.drop(se_corpus[(se_corpus['se_label'] == 'fixed')].index)\n",
    "se_corpus.shape"
   ]
  },
  {
   "cell_type": "code",
   "execution_count": 6,
   "metadata": {
    "pycharm": {
     "name": "#%%\n"
    }
   },
   "outputs": [],
   "source": [
    "\"\"\"\n",
    "data split\n",
    "\"\"\"\n",
    "X = se_corpus.tokenized_text\n",
    "y = se_corpus.se_label\n",
    "\n",
    "# Split into train+val and test\n",
    "X, X_test, y, y_test = train_test_split(X, y, test_size=0.2, stratify=y, random_state=69)\n",
    "\n",
    "# Split train into train and val\n",
    "X_train, X_dev, y_train, y_dev = train_test_split(X, y, test_size=0.1, stratify=y, random_state=21)"
   ]
  },
  {
   "cell_type": "code",
   "execution_count": 7,
   "metadata": {
    "pycharm": {
     "name": "#%%\n"
    }
   },
   "outputs": [],
   "source": [
    "\"\"\"\n",
    "check label distribution in splits\n",
    "\"\"\"\n",
    "def get_class_dist(df_col):\n",
    "    data = df_col.value_counts(normalize=True).rename('percentage').mul(100).reset_index().rename(columns = {\"index\":\"label\"})\n",
    "    plot = sns.barplot(x=\"label\", y=\"percentage\", data=data)\n",
    "    plot.set_xticklabels(plot.get_xticklabels(),\n",
    "                          rotation=90,\n",
    "                          horizontalalignment='right')\n"
   ]
  },
  {
   "cell_type": "code",
   "execution_count": 7,
   "metadata": {
    "pycharm": {
     "name": "#%%\n"
    }
   },
   "outputs": [
    {
     "data": {
      "image/png": "[encoded data removed]",
      "text/plain": [
       "<Figure size 432x288 with 1 Axes>"
      ]
     },
     "metadata": {
      "needs_background": "light"
     },
     "output_type": "display_data"
    }
   ],
   "source": [
    "get_class_dist(y_train)"
   ]
  },
  {
   "cell_type": "code",
   "execution_count": 8,
   "metadata": {
    "pycharm": {
     "name": "#%%\n"
    }
   },
   "outputs": [],
   "source": [
    "\"\"\"\n",
    "store value counts for making weighted data sets\n",
    "\"\"\"\n",
    "y_train_counter = dict(y_train.value_counts())"
   ]
  },
  {
   "cell_type": "code",
   "execution_count": 9,
   "metadata": {
    "pycharm": {
     "name": "#%%\n"
    }
   },
   "outputs": [
    {
     "data": {
      "text/plain": [
       "'\\neventually implement fasttext word embeddings instead of CountVectorizer()\\n'"
      ]
     },
     "execution_count": 9,
     "metadata": {},
     "output_type": "execute_result"
    }
   ],
   "source": [
    "\"\"\"\n",
    "eventually implement fasttext word embeddings instead of CountVectorizer()\n",
    "\"\"\"\n",
    "# import fasttext.util\n",
    "# fasttext.util.download_model('en', if_exists='ignore')  # todo change to es\n",
    "# ft = fasttext.load_model('cc.en.300.bin') # rename model"
   ]
  },
  {
   "cell_type": "code",
   "execution_count": 10,
   "metadata": {
    "pycharm": {
     "name": "#%%\n"
    }
   },
   "outputs": [],
   "source": [
    "label_encoder = preprocessing.LabelEncoder()\n",
    "vectorizer = CountVectorizer()\n",
    "\n",
    "X_train = vectorizer.fit_transform(X_train).toarray()\n",
    "X_dev = vectorizer.transform(X_dev).toarray()\n",
    "X_test = vectorizer.transform(X_test).toarray()\n",
    "\n",
    "pool_vectorized = vectorizer.transform(pool.text).toarray()\n",
    "\n",
    "y_train = label_encoder.fit_transform(y_train)\n",
    "y_dev = label_encoder.transform(y_dev)\n",
    "y_test = label_encoder.transform(y_test)\n"
   ]
  },
  {
   "cell_type": "code",
   "execution_count": 11,
   "metadata": {
    "pycharm": {
     "name": "#%%\n"
    }
   },
   "outputs": [],
   "source": [
    "class ClassifierDataset(Dataset):\n",
    "    def __init__(self, X_data, y_data):\n",
    "        self.X_data = X_data\n",
    "        self.y_data = y_data\n",
    "\n",
    "    def __getitem__(self, index):\n",
    "        return self.X_data[index], self.y_data[index]\n",
    "\n",
    "    def __len__(self):\n",
    "        return len(self.X_data)\n"
   ]
  },
  {
   "cell_type": "code",
   "execution_count": 12,
   "metadata": {
    "pycharm": {
     "name": "#%%\n"
    }
   },
   "outputs": [],
   "source": [
    "class PoolDataset(Dataset):\n",
    "    def __init__(self, X_data):\n",
    "        self.X_data = X_data\n",
    "\n",
    "    def __getitem__(self, index):\n",
    "        return self.X_data[index]\n",
    "\n",
    "    def __len__(self):\n",
    "        return len(self.X_data)"
   ]
  },
  {
   "cell_type": "code",
   "execution_count": 13,
   "metadata": {
    "pycharm": {
     "name": "#%%\n"
    }
   },
   "outputs": [],
   "source": [
    "\"\"\"\n",
    "convert data splits into Datasets\n",
    "\"\"\"\n",
    "train_set = ClassifierDataset(torch.from_numpy(X_train).float(), torch.from_numpy(y_train).long())\n",
    "dev_set = ClassifierDataset(torch.from_numpy(X_dev).float(), torch.from_numpy(y_dev).long())\n",
    "test_set = ClassifierDataset(torch.from_numpy(X_test).float(), torch.from_numpy(y_test).long())\n",
    "\n",
    "pool_set = PoolDataset(torch.from_numpy(pool_vectorized).float())"
   ]
  },
  {
   "cell_type": "code",
   "execution_count": 14,
   "metadata": {
    "pycharm": {
     "name": "#%%\n"
    }
   },
   "outputs": [
    {
     "name": "stdout",
     "output_type": "stream",
     "text": [
      "label distribution:  dict_items([('expl:pv', 1502), ('expl:pass', 1032), ('obj', 232), ('expl:impers', 157), ('iobj', 135)]) \n",
      "assigned weights:  tensor([0.0007, 0.0010, 0.0043, 0.0064, 0.0074])\n"
     ]
    }
   ],
   "source": [
    "\"\"\"\n",
    "assign bigger weight to less frequent labels\n",
    "\"\"\"\n",
    "target_list = torch.tensor([target for _, target in train_set])\n",
    "class_count = [label for label in y_train_counter.values()]\n",
    "class_weight = 1./torch.tensor(class_count, dtype=torch.float)\n",
    "print('label distribution: ', y_train_counter.items(), '\\nassigned weights: ', class_weight)"
   ]
  },
  {
   "cell_type": "code",
   "execution_count": 15,
   "metadata": {
    "pycharm": {
     "name": "#%%\n"
    }
   },
   "outputs": [],
   "source": [
    "\"\"\"\n",
    "assign weight to each sample in the train set\n",
    "\"\"\"\n",
    "class_weight_all = class_weight[target_list]\n",
    "weighted_sampler = WeightedRandomSampler(weights=class_weight_all, num_samples=len(class_weight_all), replacement=True)"
   ]
  },
  {
   "cell_type": "code",
   "execution_count": 16,
   "metadata": {
    "pycharm": {
     "name": "#%%\n"
    }
   },
   "outputs": [],
   "source": [
    "\"\"\"\n",
    "convert Datasets into weighted DataLoader objects\n",
    "\"\"\"\n",
    "train_loader = DataLoader(dataset=train_set, batch_size=64, sampler=weighted_sampler)\n",
    "dev_loader = DataLoader(dataset=dev_set, batch_size=32)\n",
    "test_loader = DataLoader(dataset=test_set, batch_size=32)"
   ]
  },
  {
   "cell_type": "markdown",
   "metadata": {},
   "source": [
    "## 2) Model"
   ]
  },
  {
   "cell_type": "code",
   "execution_count": 17,
   "metadata": {
    "pycharm": {
     "name": "#%%\n"
    }
   },
   "outputs": [],
   "source": [
    "class LSTMModel(nn.Module):\n",
    "    def __init__(self,):\n",
    "        super(LSTMModel, self).__init__()\n",
    "        # Hidden dimensions\n",
    "        self.hidden_dim = 64\n",
    "\n",
    "        # Number of hidden layers\n",
    "        self.layer_dim = 1\n",
    "\n",
    "        # Building your LSTM\n",
    "        # batch_first=True causes input/output tensors to be of shape\n",
    "        # (batch_dim, seq_dim, feature_dim)\n",
    "        self.lstm = nn.LSTM(16325, 64, 1, batch_first=True)\n",
    "\n",
    "        # Readout layer\n",
    "        self.fc = nn.Linear(64, 5)\n",
    "\n",
    "    def forward(self, x):\n",
    "        # Initialize hidden state with zeros\n",
    "        #######################\n",
    "        #  USE GPU FOR MODEL  #\n",
    "        #######################\n",
    "        h0 = torch.zeros(self.layer_dim, x.size(0), self.hidden_dim).requires_grad_().to(device)\n",
    "\n",
    "        # Initialize cell state\n",
    "        c0 = torch.zeros(self.layer_dim, x.size(0), self.hidden_dim).requires_grad_().to(device)\n",
    "\n",
    "        # One time step\n",
    "        out, (hn, cn) = self.lstm(x, (h0.detach(), c0.detach()))\n",
    "\n",
    "        # Index hidden state of last time step\n",
    "        # out.size() --> 100, 28, 100\n",
    "        # out[:, -1, :] --> 100, 100 --> just want last time step hidden states!\n",
    "        out = self.fc(out[:, -1, :])\n",
    "        # out.size() --> 100, 10\n",
    "        return out"
   ]
  },
  {
   "cell_type": "code",
   "execution_count": 18,
   "metadata": {
    "pycharm": {
     "name": "#%%\n"
    }
   },
   "outputs": [
    {
     "name": "stdout",
     "output_type": "stream",
     "text": [
      "using:  cpu\n"
     ]
    }
   ],
   "source": [
    "\"\"\"\n",
    "skorch library creates sklearn classifier from torch neural net\n",
    "\"\"\"\n",
    "batch_size = 64\n",
    "n_iters = 1000 ### todo gpu\n",
    "epochs = int(n_iters/(len(train_set)/ batch_size))\n",
    "\n",
    "# create the classifier\n",
    "device = \"cuda\" if torch.cuda.is_available() else \"cpu\"\n",
    "print('using: ', device)\n",
    "\n",
    "# Callbacks: print accuracy when model is fitted\n",
    "train_acc = EpochScoring(scoring='accuracy', on_train=True,\n",
    "                         name='train_acc', lower_is_better=False)\n",
    "callbacks = [train_acc]\n",
    "\n",
    "classifier = NeuralNetClassifier(module=LSTMModel,\n",
    "                                 batch_size=64,\n",
    "                                 max_epochs= epochs,\n",
    "                                 criterion=nn.CrossEntropyLoss,\n",
    "                                 optimizer=torch.optim.SGD,\n",
    "                                 lr=0.1,\n",
    "                                 train_split=None,\n",
    "                                 callbacks=callbacks,\n",
    "                                 verbose=1,\n",
    "                                 device=device)"
   ]
  },
  {
   "cell_type": "code",
   "execution_count": 19,
   "metadata": {
    "pycharm": {
     "name": "#%%\n"
    }
   },
   "outputs": [
    {
     "name": "stdout",
     "output_type": "stream",
     "text": [
      "Feature batch shape: torch.Size([64, 16325])\n",
      "Labels batch shape: torch.Size([64])\n"
     ]
    }
   ],
   "source": [
    "\"\"\"\n",
    "LSTM need 3-D input: determine shape and reshape\n",
    "- train\n",
    "- pool\n",
    "\"\"\"\n",
    "train_features, train_labels = next(iter(train_loader))\n",
    "print(f\"Feature batch shape: {train_features.size()}\")\n",
    "print(f\"Labels batch shape: {train_labels.size()}\")"
   ]
  },
  {
   "cell_type": "code",
   "execution_count": 20,
   "metadata": {
    "pycharm": {
     "name": "#%%\n"
    }
   },
   "outputs": [
    {
     "name": "stdout",
     "output_type": "stream",
     "text": [
      "Feature batch shape: torch.Size([64, 1, 16325])\n"
     ]
    }
   ],
   "source": [
    "#reshaping to rows, timestamps, features\n",
    "train_features = torch.reshape(train_features,   (train_features.shape[0], 1,train_features.shape[1]))\n",
    "print(f\"Feature batch shape: {train_features.size()}\")"
   ]
  },
  {
   "cell_type": "code",
   "execution_count": 21,
   "metadata": {
    "pycharm": {
     "name": "#%%\n"
    }
   },
   "outputs": [],
   "source": [
    "# do the same for the test data which is going to be used in the active learning loop\n",
    "test_features, test_labels = next(iter(test_loader))\n",
    "test_features = torch.reshape(test_features,   (test_features.shape[0], 1,test_features.shape[1]))"
   ]
  },
  {
   "cell_type": "code",
   "execution_count": 22,
   "metadata": {
    "pycharm": {
     "name": "#%%\n"
    }
   },
   "outputs": [],
   "source": [
    "# do the same for the data pool which is going to be used in the active learning loop\n",
    "X_pool = pool_set.X_data\n",
    "X_pool = torch.reshape(X_pool,   (X_pool.shape[0], 1, X_pool.shape[1]))\n",
    "X_pool = X_pool.detach().cpu().numpy()"
   ]
  },
  {
   "cell_type": "code",
   "execution_count": 23,
   "metadata": {
    "pycharm": {
     "name": "#%%\n"
    }
   },
   "outputs": [
    {
     "name": "stdout",
     "output_type": "stream",
     "text": [
      "  epoch    train_acc    train_loss     dur\n",
      "-------  -----------  ------------  ------\n",
      "      1       \u001B[36m0.0312\u001B[0m        \u001B[32m1.6198\u001B[0m  0.0331\n",
      "      2       \u001B[36m0.3125\u001B[0m        \u001B[32m1.5885\u001B[0m  0.0278\n",
      "      3       \u001B[36m0.5625\u001B[0m        \u001B[32m1.5591\u001B[0m  0.0221\n",
      "      4       \u001B[36m0.6094\u001B[0m        \u001B[32m1.5314\u001B[0m  0.0210\n",
      "      5       0.6094        \u001B[32m1.5054\u001B[0m  0.0230\n",
      "      6       0.6094        \u001B[32m1.4810\u001B[0m  0.0216\n",
      "      7       0.6094        \u001B[32m1.4581\u001B[0m  0.0237\n",
      "      8       0.6094        \u001B[32m1.4366\u001B[0m  0.0213\n",
      "      9       0.6094        \u001B[32m1.4164\u001B[0m  0.0226\n",
      "     10       0.6094        \u001B[32m1.3976\u001B[0m  0.0215\n",
      "     11       0.6094        \u001B[32m1.3800\u001B[0m  0.0214\n",
      "     12       0.6094        \u001B[32m1.3635\u001B[0m  0.0218\n",
      "     13       0.6094        \u001B[32m1.3481\u001B[0m  0.0235\n",
      "     14       0.6094        \u001B[32m1.3338\u001B[0m  0.0208\n",
      "     15       0.6094        \u001B[32m1.3204\u001B[0m  0.0235\n",
      "     16       0.6094        \u001B[32m1.3079\u001B[0m  0.0216\n",
      "     17       0.6094        \u001B[32m1.2963\u001B[0m  0.0224\n",
      "     18       0.6094        \u001B[32m1.2855\u001B[0m  0.0223\n",
      "     19       0.6094        \u001B[32m1.2755\u001B[0m  0.0226\n",
      "     20       0.6094        \u001B[32m1.2661\u001B[0m  0.0233\n"
     ]
    },
    {
     "data": {
      "text/plain": [
       "<class 'skorch.classifier.NeuralNetClassifier'>[initialized](\n",
       "  module_=LSTMModel(\n",
       "    (lstm): LSTM(16325, 64, batch_first=True)\n",
       "    (fc): Linear(in_features=64, out_features=5, bias=True)\n",
       "  ),\n",
       ")"
      ]
     },
     "execution_count": 23,
     "metadata": {},
     "output_type": "execute_result"
    }
   ],
   "source": [
    "\"\"\"\n",
    "fit the skorch classifier with the training data instead of leaving fitting to the ActiveLearner() (which would expect different shapes for the input data, would be incompatible with LSTM)\n",
    "\"\"\"\n",
    "classifier.fit(train_features, train_labels)"
   ]
  },
  {
   "cell_type": "markdown",
   "metadata": {},
   "source": []
  },
  {
   "cell_type": "markdown",
   "metadata": {},
   "source": [
    "## 3) Active Learner"
   ]
  },
  {
   "cell_type": "code",
   "execution_count": 1,
   "outputs": [
    {
     "ename": "NameError",
     "evalue": "name 'classifier' is not defined",
     "output_type": "error",
     "traceback": [
      "\u001B[0;31m---------------------------------------------------------------------------\u001B[0m",
      "\u001B[0;31mNameError\u001B[0m                                 Traceback (most recent call last)",
      "Input \u001B[0;32mIn [1]\u001B[0m, in \u001B[0;36m<cell line: 1>\u001B[0;34m()\u001B[0m\n\u001B[0;32m----> 1\u001B[0m \u001B[38;5;28mtype\u001B[39m(\u001B[43mclassifier\u001B[49m)\n",
      "\u001B[0;31mNameError\u001B[0m: name 'classifier' is not defined"
     ]
    }
   ],
   "source": [
    "type(classifier)"
   ],
   "metadata": {
    "collapsed": false,
    "pycharm": {
     "name": "#%%\n"
    }
   }
  },
  {
   "cell_type": "code",
   "execution_count": 24,
   "metadata": {
    "pycharm": {
     "name": "#%%\n"
    }
   },
   "outputs": [],
   "source": [
    "\"\"\"\n",
    "Initialize the ActiveLearner with the fitted classifier\n",
    "\"\"\"\n",
    "learner = ActiveLearner(estimator=classifier,\n",
    "                        query_strategy=uncertainty_sampling\n",
    ")"
   ]
  },
  {
   "cell_type": "code",
   "execution_count": 25,
   "metadata": {
    "pycharm": {
     "name": "#%%\n"
    }
   },
   "outputs": [],
   "source": [
    "n_instances = 10\n",
    "accuracies = []"
   ]
  },
  {
   "cell_type": "markdown",
   "metadata": {},
   "source": [
    "### Loop\n",
    "- stops after 20 iterations\n",
    "- opens the rubrix web interface\n",
    "- waits for user response\n",
    "\n",
    "Problem: if annotation is None (e.g in the case a sentence is discarded) the loop breaks. We have to discard certain sentences because when creating the underlying corpus\n",
    "phrases that do not contain 'se' like 'aunque a tu mac no le pase nada' were not discarded because there is no suited programmatical way to differentiate btw. 'pase' and 'siéntese'."
   ]
  },
  {
   "cell_type": "code",
   "execution_count": 26,
   "metadata": {
    "pycharm": {
     "name": "#%%\n"
    }
   },
   "outputs": [
    {
     "data": {
      "application/vnd.jupyter.widget-view+json": {
       "model_id": "c884fe45a048408c97dbaf6b3326301a",
       "version_major": 2,
       "version_minor": 0
      },
      "text/plain": [
       "  0%|          | 0/10 [00:00<?, ?it/s]"
      ]
     },
     "metadata": {},
     "output_type": "display_data"
    },
    {
     "name": "stdout",
     "output_type": "stream",
     "text": [
      "10 records logged to http://localhost:6900/ws/rubrix/pytorch_active_learning_se_corpus\n",
      "confirm that annotations on rubrix are done\n"
     ]
    },
    {
     "name": "stderr",
     "output_type": "stream",
     "text": [
      "2022-04-06 17:13:40.686 | WARNING  | rubrix.client.rubrix_client:load:310 - The argument 'as_pandas' in `rb.load` will be deprecated in the future, and we will always return a `Dataset`. To emulate the future behavior set `as_pandas=False`. To get a pandas DataFrame, call `Dataset.to_pandas()`\n"
     ]
    },
    {
     "name": "stdout",
     "output_type": "stream",
     "text": [
      "Note: you either discarded samples or did not annotate all samples\n",
      "Re-initializing module.\n",
      "Re-initializing criterion.\n",
      "Re-initializing optimizer.\n",
      "  epoch    train_acc    train_loss     dur\n",
      "-------  -----------  ------------  ------\n",
      "      1       \u001B[36m0.1111\u001B[0m        \u001B[32m1.6212\u001B[0m  0.0151\n",
      "      2       \u001B[36m0.2222\u001B[0m        \u001B[32m1.5928\u001B[0m  0.0186\n",
      "      3       \u001B[36m0.5556\u001B[0m        \u001B[32m1.5656\u001B[0m  0.0125\n",
      "      4       \u001B[36m0.6667\u001B[0m        \u001B[32m1.5395\u001B[0m  0.0120\n",
      "      5       0.6667        \u001B[32m1.5146\u001B[0m  0.0146\n",
      "      6       0.5556        \u001B[32m1.4907\u001B[0m  0.0124\n",
      "      7       0.5556        \u001B[32m1.4678\u001B[0m  0.0153\n",
      "      8       0.5556        \u001B[32m1.4459\u001B[0m  0.0145\n",
      "      9       0.5556        \u001B[32m1.4249\u001B[0m  0.0137\n",
      "     10       0.5556        \u001B[32m1.4047\u001B[0m  0.0132\n",
      "     11       0.5556        \u001B[32m1.3854\u001B[0m  0.0133\n",
      "     12       0.5556        \u001B[32m1.3668\u001B[0m  0.0139\n",
      "     13       0.5556        \u001B[32m1.3489\u001B[0m  0.0160\n",
      "     14       0.5556        \u001B[32m1.3317\u001B[0m  0.0138\n",
      "     15       0.5556        \u001B[32m1.3151\u001B[0m  0.0140\n",
      "     16       0.5556        \u001B[32m1.2991\u001B[0m  0.0128\n",
      "     17       0.5556        \u001B[32m1.2837\u001B[0m  0.0136\n",
      "     18       0.5556        \u001B[32m1.2688\u001B[0m  0.0136\n",
      "     19       0.5556        \u001B[32m1.2543\u001B[0m  0.0143\n",
      "     20       0.5556        \u001B[32m1.2403\u001B[0m  0.0143\n"
     ]
    }
   ],
   "source": [
    "while len(accuracies) < 1:\n",
    "    query_idx, query_inst = learner.query(X_pool, n_instances=n_instances)\n",
    "    probabilities = learner.predict_proba(X_pool[query_idx])\n",
    "    records = [\n",
    "        rb.TextClassificationRecord(\n",
    "            id=idx,\n",
    "            inputs=pool.text.iloc[idx],\n",
    "            prediction=list(zip(['expl:pass', 'obj', 'expl:impers', 'iobj', 'expl:pv'], probs)),\n",
    "            prediction_agent=\"skorch_classifier\",\n",
    "        )\n",
    "        for idx, probs in zip(query_idx, probabilities)\n",
    "    ]\n",
    "\n",
    "    # log the records\n",
    "    rb.log(records, name=\"pytorch_active_learning_se_corpus\")\n",
    "    webbrowser.get('firefox').open_new_tab('http://0.0.0.0:6900')\n",
    "\n",
    "    input('confirm that annotations on rubrix are done')\n",
    "    records_df = rb.load(\"pytorch_active_learning_se_corpus\", ids=query_idx.tolist(), as_pandas=False)\n",
    "    annotation = [record.annotation for record in records_df]\n",
    "    if None in annotation:\n",
    "        print('Note: you either discarded samples or did not annotate all samples')\n",
    "        discarded_idxs=[idx for idx, sample in enumerate(annotation) if sample is None]\n",
    "        discarded_idxs = sorted(discarded_idxs, reverse=True)\n",
    "        for index in discarded_idxs:\n",
    "            query_inst = np.delete(query_inst, index, axis=0)\n",
    "        annotation = list(filter(None.__ne__, annotation))\n",
    "\n",
    "    # train the classifier with the newly annotated examples\n",
    "    y_pool = label_encoder.transform(annotation)\n",
    "    learner.teach(query_inst, y_pool, only_new=True)\n",
    "    accuracies.append(learner.score(X=test_features, y=test_labels))\n",
    "\n",
    "    X_pool = np.delete(X_pool, query_idx, axis=0)"
   ]
  },
  {
   "cell_type": "code",
   "execution_count": 27,
   "metadata": {
    "pycharm": {
     "name": "#%%\n"
    }
   },
   "outputs": [
    {
     "data": {
      "image/png": "[encoded data removed]",
      "text/plain": [
       "<Figure size 432x288 with 1 Axes>"
      ]
     },
     "metadata": {
      "needs_background": "light"
     },
     "output_type": "display_data"
    }
   ],
   "source": [
    "# Plot the accuracy versus the iteration number\n",
    "plt.plot(accuracies)\n",
    "plt.xlabel(\"Number of iterations\")\n",
    "plt.ylabel(\"Accuracy\");"
   ]
  },
  {
   "cell_type": "code",
   "execution_count": 28,
   "metadata": {
    "pycharm": {
     "name": "#%%\n"
    }
   },
   "outputs": [
    {
     "data": {
      "text/plain": [
       "0.5"
      ]
     },
     "execution_count": 28,
     "metadata": {},
     "output_type": "execute_result"
    }
   ],
   "source": [
    "max(accuracies)"
   ]
  },
  {
   "cell_type": "code",
   "execution_count": null,
   "metadata": {
    "pycharm": {
     "name": "#%%\n"
    }
   },
   "outputs": [],
   "source": [
    "\"\"\"\n",
    "save the samples and the annotations\n",
    "\"\"\"\n",
    "dataset_rb = rb.load(\"sklearn_active_learning_se_corpus\", as_pandas=True)\n",
    "dataset_rb.to_csv('sklearn_annotations.txt')"
   ]
  }
 ],
 "metadata": {
  "kernelspec": {
   "display_name": "Python 3",
   "language": "python",
   "name": "python3"
  },
  "language_info": {
   "codemirror_mode": {
    "name": "ipython",
    "version": 3
   },
   "file_extension": ".py",
   "mimetype": "text/x-python",
   "name": "python",
   "nbconvert_exporter": "python",
   "pygments_lexer": "ipython3",
   "version": "3.8.5"
  }
 },
 "nbformat": 4,
 "nbformat_minor": 1
}